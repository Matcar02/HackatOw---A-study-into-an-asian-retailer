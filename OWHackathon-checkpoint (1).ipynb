{
 "cells": [
  {
   "attachments": {},
   "cell_type": "markdown",
   "id": "9609f67c",
   "metadata": {},
   "source": [
    "# Oliver Wyman HackatOW #\n",
    "### In the first task of the project we will start by cleaning and manipulating the datasets we were provided, identifying and solving data inconsistencies as well as delivering relevant statistics on specific features. ###\n",
    "\n"
   ]
  },
  {
   "attachments": {},
   "cell_type": "markdown",
   "id": "48ef75d5",
   "metadata": {},
   "source": [
    "### Importing libraries and packages ###"
   ]
  },
  {
   "cell_type": "code",
   "execution_count": 1,
   "id": "eaf4bcda",
   "metadata": {},
   "outputs": [],
   "source": [
    "import pandas as pd\n",
    "import numpy as np \n",
    "import plotly\n",
    "import math"
   ]
  },
  {
   "cell_type": "markdown",
   "id": "c71d0470",
   "metadata": {},
   "source": [
    "### Data Loading ###\n",
    "\n",
    "**CPI**"
   ]
  },
  {
   "cell_type": "code",
   "execution_count": 2,
   "id": "a86fd345",
   "metadata": {},
   "outputs": [
    {
     "data": {
      "text/html": [
       "<div>\n",
       "<style scoped>\n",
       "    .dataframe tbody tr th:only-of-type {\n",
       "        vertical-align: middle;\n",
       "    }\n",
       "\n",
       "    .dataframe tbody tr th {\n",
       "        vertical-align: top;\n",
       "    }\n",
       "\n",
       "    .dataframe thead th {\n",
       "        text-align: right;\n",
       "    }\n",
       "</style>\n",
       "<table border=\"1\" class=\"dataframe\">\n",
       "  <thead>\n",
       "    <tr style=\"text-align: right;\">\n",
       "      <th></th>\n",
       "      <th>Date_monthly</th>\n",
       "      <th>CPI_monthly</th>\n",
       "      <th>Date_daily</th>\n",
       "      <th>CPI_daily</th>\n",
       "    </tr>\n",
       "  </thead>\n",
       "  <tbody>\n",
       "    <tr>\n",
       "      <th>0</th>\n",
       "      <td>2019-01-01</td>\n",
       "      <td>120.5</td>\n",
       "      <td>2019-01-01</td>\n",
       "      <td>120.500000</td>\n",
       "    </tr>\n",
       "    <tr>\n",
       "      <th>1</th>\n",
       "      <td>2019-02-01</td>\n",
       "      <td>120.8</td>\n",
       "      <td>2019-01-02</td>\n",
       "      <td>120.509677</td>\n",
       "    </tr>\n",
       "    <tr>\n",
       "      <th>2</th>\n",
       "      <td>2019-03-01</td>\n",
       "      <td>121.1</td>\n",
       "      <td>2019-01-03</td>\n",
       "      <td>120.519355</td>\n",
       "    </tr>\n",
       "    <tr>\n",
       "      <th>3</th>\n",
       "      <td>2019-04-01</td>\n",
       "      <td>121.1</td>\n",
       "      <td>2019-01-04</td>\n",
       "      <td>120.529032</td>\n",
       "    </tr>\n",
       "    <tr>\n",
       "      <th>4</th>\n",
       "      <td>2019-05-01</td>\n",
       "      <td>121.4</td>\n",
       "      <td>2019-01-05</td>\n",
       "      <td>120.538710</td>\n",
       "    </tr>\n",
       "    <tr>\n",
       "      <th>...</th>\n",
       "      <td>...</td>\n",
       "      <td>...</td>\n",
       "      <td>...</td>\n",
       "      <td>...</td>\n",
       "    </tr>\n",
       "    <tr>\n",
       "      <th>1456</th>\n",
       "      <td>NaT</td>\n",
       "      <td>NaN</td>\n",
       "      <td>2022-12-27</td>\n",
       "      <td>129.619355</td>\n",
       "    </tr>\n",
       "    <tr>\n",
       "      <th>1457</th>\n",
       "      <td>NaT</td>\n",
       "      <td>NaN</td>\n",
       "      <td>2022-12-28</td>\n",
       "      <td>129.635484</td>\n",
       "    </tr>\n",
       "    <tr>\n",
       "      <th>1458</th>\n",
       "      <td>NaT</td>\n",
       "      <td>NaN</td>\n",
       "      <td>2022-12-29</td>\n",
       "      <td>129.651613</td>\n",
       "    </tr>\n",
       "    <tr>\n",
       "      <th>1459</th>\n",
       "      <td>NaT</td>\n",
       "      <td>NaN</td>\n",
       "      <td>2022-12-30</td>\n",
       "      <td>129.667742</td>\n",
       "    </tr>\n",
       "    <tr>\n",
       "      <th>1460</th>\n",
       "      <td>NaT</td>\n",
       "      <td>NaN</td>\n",
       "      <td>2022-12-31</td>\n",
       "      <td>129.683871</td>\n",
       "    </tr>\n",
       "  </tbody>\n",
       "</table>\n",
       "<p>1461 rows × 4 columns</p>\n",
       "</div>"
      ],
      "text/plain": [
       "     Date_monthly  CPI_monthly  Date_daily   CPI_daily\n",
       "0      2019-01-01         120.5 2019-01-01  120.500000\n",
       "1      2019-02-01         120.8 2019-01-02  120.509677\n",
       "2      2019-03-01         121.1 2019-01-03  120.519355\n",
       "3      2019-04-01         121.1 2019-01-04  120.529032\n",
       "4      2019-05-01         121.4 2019-01-05  120.538710\n",
       "...           ...           ...        ...         ...\n",
       "1456          NaT           NaN 2022-12-27  129.619355\n",
       "1457          NaT           NaN 2022-12-28  129.635484\n",
       "1458          NaT           NaN 2022-12-29  129.651613\n",
       "1459          NaT           NaN 2022-12-30  129.667742\n",
       "1460          NaT           NaN 2022-12-31  129.683871\n",
       "\n",
       "[1461 rows x 4 columns]"
      ]
     },
     "metadata": {},
     "output_type": "display_data"
    },
    {
     "name": "stdout",
     "output_type": "stream",
     "text": [
      "<class 'pandas.core.frame.DataFrame'>\n",
      "RangeIndex: 1461 entries, 0 to 1460\n",
      "Data columns (total 4 columns):\n",
      " #   Column        Non-Null Count  Dtype         \n",
      "---  ------        --------------  -----         \n",
      " 0   Date_monthly  48 non-null     datetime64[ns]\n",
      " 1   CPI_monthly   48 non-null     float64       \n",
      " 2   Date_daily    1461 non-null   datetime64[ns]\n",
      " 3   CPI_daily     1461 non-null   float64       \n",
      "dtypes: datetime64[ns](2), float64(2)\n",
      "memory usage: 45.8 KB\n"
     ]
    }
   ],
   "source": [
    "CPIs = pd.read_excel('Consumer Price Index_vShared.xlsx')\n",
    "display(CPIs)\n",
    "CPIs.info()"
   ]
  },
  {
   "cell_type": "markdown",
   "id": "b1e5815a",
   "metadata": {},
   "source": [
    "**Product Dataset**"
   ]
  },
  {
   "cell_type": "code",
   "execution_count": 3,
   "id": "a18a5730",
   "metadata": {},
   "outputs": [
    {
     "data": {
      "text/html": [
       "<div>\n",
       "<style scoped>\n",
       "    .dataframe tbody tr th:only-of-type {\n",
       "        vertical-align: middle;\n",
       "    }\n",
       "\n",
       "    .dataframe tbody tr th {\n",
       "        vertical-align: top;\n",
       "    }\n",
       "\n",
       "    .dataframe thead th {\n",
       "        text-align: right;\n",
       "    }\n",
       "</style>\n",
       "<table border=\"1\" class=\"dataframe\">\n",
       "  <thead>\n",
       "    <tr style=\"text-align: right;\">\n",
       "      <th></th>\n",
       "      <th>ProductKey</th>\n",
       "      <th>BrandKey</th>\n",
       "      <th>SupplierKey</th>\n",
       "      <th>ProductCategory_Lvl1</th>\n",
       "      <th>ProductCategory_Lvl2</th>\n",
       "    </tr>\n",
       "  </thead>\n",
       "  <tbody>\n",
       "    <tr>\n",
       "      <th>0</th>\n",
       "      <td>key_52138</td>\n",
       "      <td>3521</td>\n",
       "      <td>1039040101</td>\n",
       "      <td>Category A</td>\n",
       "      <td>category aa</td>\n",
       "    </tr>\n",
       "    <tr>\n",
       "      <th>1</th>\n",
       "      <td>19864</td>\n",
       "      <td>3521</td>\n",
       "      <td>1039040125</td>\n",
       "      <td>Category A</td>\n",
       "      <td>Category AC</td>\n",
       "    </tr>\n",
       "    <tr>\n",
       "      <th>2</th>\n",
       "      <td>95144</td>\n",
       "      <td>1713</td>\n",
       "      <td>1049688101</td>\n",
       "      <td>Category A</td>\n",
       "      <td>Category AA</td>\n",
       "    </tr>\n",
       "    <tr>\n",
       "      <th>3</th>\n",
       "      <td>23070</td>\n",
       "      <td>3521</td>\n",
       "      <td>1050235101</td>\n",
       "      <td>Category A</td>\n",
       "      <td>Category AC</td>\n",
       "    </tr>\n",
       "    <tr>\n",
       "      <th>4</th>\n",
       "      <td>93165</td>\n",
       "      <td>3521</td>\n",
       "      <td>1039040125</td>\n",
       "      <td>Category A</td>\n",
       "      <td>Category AC</td>\n",
       "    </tr>\n",
       "    <tr>\n",
       "      <th>...</th>\n",
       "      <td>...</td>\n",
       "      <td>...</td>\n",
       "      <td>...</td>\n",
       "      <td>...</td>\n",
       "      <td>...</td>\n",
       "    </tr>\n",
       "    <tr>\n",
       "      <th>293</th>\n",
       "      <td>12353</td>\n",
       "      <td>3521</td>\n",
       "      <td>1036290101</td>\n",
       "      <td>Category A</td>\n",
       "      <td>Category AB</td>\n",
       "    </tr>\n",
       "    <tr>\n",
       "      <th>294</th>\n",
       "      <td>55442</td>\n",
       "      <td>132</td>\n",
       "      <td>1036290101</td>\n",
       "      <td>Category A</td>\n",
       "      <td>Category AC</td>\n",
       "    </tr>\n",
       "    <tr>\n",
       "      <th>295</th>\n",
       "      <td>78206</td>\n",
       "      <td>3521</td>\n",
       "      <td>1039040101</td>\n",
       "      <td>Category A</td>\n",
       "      <td>Category AC</td>\n",
       "    </tr>\n",
       "    <tr>\n",
       "      <th>296</th>\n",
       "      <td>55438</td>\n",
       "      <td>132</td>\n",
       "      <td>1036290101</td>\n",
       "      <td>Category A</td>\n",
       "      <td>Category AB</td>\n",
       "    </tr>\n",
       "    <tr>\n",
       "      <th>297</th>\n",
       "      <td>key_96971</td>\n",
       "      <td>3521</td>\n",
       "      <td>1036290101</td>\n",
       "      <td>Category A</td>\n",
       "      <td>Category AA</td>\n",
       "    </tr>\n",
       "  </tbody>\n",
       "</table>\n",
       "<p>298 rows × 5 columns</p>\n",
       "</div>"
      ],
      "text/plain": [
       "    ProductKey  BrandKey  SupplierKey ProductCategory_Lvl1  \\\n",
       "0    key_52138      3521   1039040101           Category A   \n",
       "1        19864      3521   1039040125           Category A   \n",
       "2        95144      1713   1049688101           Category A   \n",
       "3        23070      3521   1050235101           Category A   \n",
       "4        93165      3521   1039040125           Category A   \n",
       "..         ...       ...          ...                  ...   \n",
       "293      12353      3521   1036290101           Category A   \n",
       "294      55442       132   1036290101           Category A   \n",
       "295      78206      3521   1039040101           Category A   \n",
       "296      55438       132   1036290101           Category A   \n",
       "297  key_96971      3521   1036290101           Category A   \n",
       "\n",
       "    ProductCategory_Lvl2  \n",
       "0            category aa  \n",
       "1            Category AC  \n",
       "2            Category AA  \n",
       "3            Category AC  \n",
       "4            Category AC  \n",
       "..                   ...  \n",
       "293          Category AB  \n",
       "294          Category AC  \n",
       "295          Category AC  \n",
       "296          Category AB  \n",
       "297          Category AA  \n",
       "\n",
       "[298 rows x 5 columns]"
      ]
     },
     "metadata": {},
     "output_type": "display_data"
    },
    {
     "name": "stdout",
     "output_type": "stream",
     "text": [
      "<class 'pandas.core.frame.DataFrame'>\n",
      "RangeIndex: 298 entries, 0 to 297\n",
      "Data columns (total 5 columns):\n",
      " #   Column                Non-Null Count  Dtype \n",
      "---  ------                --------------  ----- \n",
      " 0   ProductKey            298 non-null    object\n",
      " 1   BrandKey              298 non-null    int64 \n",
      " 2   SupplierKey           298 non-null    int64 \n",
      " 3   ProductCategory_Lvl1  298 non-null    object\n",
      " 4   ProductCategory_Lvl2  298 non-null    object\n",
      "dtypes: int64(2), object(3)\n",
      "memory usage: 11.8+ KB\n"
     ]
    }
   ],
   "source": [
    "products = pd.read_csv('Hackathon_DimProduct_SAN_vShared.csv')\n",
    "\n",
    "display(products)\n",
    "products.info()"
   ]
  },
  {
   "cell_type": "markdown",
   "id": "53d2e636",
   "metadata": {},
   "source": [
    "Let us check if any mistake was done in recording products by value counting the categorical columns."
   ]
  },
  {
   "cell_type": "code",
   "execution_count": 4,
   "id": "80cf5273",
   "metadata": {},
   "outputs": [
    {
     "data": {
      "text/plain": [
       "Category A    298\n",
       "Name: ProductCategory_Lvl1, dtype: int64"
      ]
     },
     "execution_count": 4,
     "metadata": {},
     "output_type": "execute_result"
    }
   ],
   "source": [
    "products[\"ProductCategory_Lvl1\"].value_counts()"
   ]
  },
  {
   "cell_type": "code",
   "execution_count": 5,
   "id": "07ef63c9",
   "metadata": {},
   "outputs": [
    {
     "data": {
      "text/plain": [
       "Category AA     107\n",
       "Category AB      88\n",
       "Category AC      65\n",
       "Category AE      23\n",
       "Category AD       8\n",
       "category aa       2\n",
       "category ab       2\n",
       "Category  AC      1\n",
       "Categrory AE      1\n",
       "Category  AD      1\n",
       "Name: ProductCategory_Lvl2, dtype: int64"
      ]
     },
     "execution_count": 5,
     "metadata": {},
     "output_type": "execute_result"
    }
   ],
   "source": [
    "products[\"ProductCategory_Lvl2\"].value_counts()"
   ]
  },
  {
   "cell_type": "code",
   "execution_count": 6,
   "id": "a0f2faef",
   "metadata": {},
   "outputs": [
    {
     "data": {
      "text/plain": [
       "dtype('O')"
      ]
     },
     "execution_count": 6,
     "metadata": {},
     "output_type": "execute_result"
    }
   ],
   "source": [
    "products[\"ProductCategory_Lvl2\"].values.dtype"
   ]
  },
  {
   "cell_type": "markdown",
   "id": "74333e13",
   "metadata": {},
   "source": [
    "As it is immediately noticed from the first entry, some product keys are wrongly typed. key_ should not be present in the entries but it appears 4 times. Furthermore, a minor mistake was done in the categories, since some letters were not capitalized properly. We will use simple string manipulation to get the job done."
   ]
  },
  {
   "cell_type": "code",
   "execution_count": 7,
   "id": "b417b6dc",
   "metadata": {},
   "outputs": [
    {
     "data": {
      "text/html": [
       "<div>\n",
       "<style scoped>\n",
       "    .dataframe tbody tr th:only-of-type {\n",
       "        vertical-align: middle;\n",
       "    }\n",
       "\n",
       "    .dataframe tbody tr th {\n",
       "        vertical-align: top;\n",
       "    }\n",
       "\n",
       "    .dataframe thead th {\n",
       "        text-align: right;\n",
       "    }\n",
       "</style>\n",
       "<table border=\"1\" class=\"dataframe\">\n",
       "  <thead>\n",
       "    <tr style=\"text-align: right;\">\n",
       "      <th></th>\n",
       "      <th>ProductKey</th>\n",
       "      <th>BrandKey</th>\n",
       "      <th>SupplierKey</th>\n",
       "      <th>ProductCategory_Lvl1</th>\n",
       "      <th>ProductCategory_Lvl2</th>\n",
       "    </tr>\n",
       "  </thead>\n",
       "  <tbody>\n",
       "    <tr>\n",
       "      <th>0</th>\n",
       "      <td>52138</td>\n",
       "      <td>3521</td>\n",
       "      <td>1039040101</td>\n",
       "      <td>Category A</td>\n",
       "      <td>Category AA</td>\n",
       "    </tr>\n",
       "    <tr>\n",
       "      <th>1</th>\n",
       "      <td>19864</td>\n",
       "      <td>3521</td>\n",
       "      <td>1039040125</td>\n",
       "      <td>Category A</td>\n",
       "      <td>Category AC</td>\n",
       "    </tr>\n",
       "    <tr>\n",
       "      <th>2</th>\n",
       "      <td>95144</td>\n",
       "      <td>1713</td>\n",
       "      <td>1049688101</td>\n",
       "      <td>Category A</td>\n",
       "      <td>Category AA</td>\n",
       "    </tr>\n",
       "    <tr>\n",
       "      <th>3</th>\n",
       "      <td>23070</td>\n",
       "      <td>3521</td>\n",
       "      <td>1050235101</td>\n",
       "      <td>Category A</td>\n",
       "      <td>Category AC</td>\n",
       "    </tr>\n",
       "    <tr>\n",
       "      <th>4</th>\n",
       "      <td>93165</td>\n",
       "      <td>3521</td>\n",
       "      <td>1039040125</td>\n",
       "      <td>Category A</td>\n",
       "      <td>Category AC</td>\n",
       "    </tr>\n",
       "    <tr>\n",
       "      <th>...</th>\n",
       "      <td>...</td>\n",
       "      <td>...</td>\n",
       "      <td>...</td>\n",
       "      <td>...</td>\n",
       "      <td>...</td>\n",
       "    </tr>\n",
       "    <tr>\n",
       "      <th>293</th>\n",
       "      <td>12353</td>\n",
       "      <td>3521</td>\n",
       "      <td>1036290101</td>\n",
       "      <td>Category A</td>\n",
       "      <td>Category AB</td>\n",
       "    </tr>\n",
       "    <tr>\n",
       "      <th>294</th>\n",
       "      <td>55442</td>\n",
       "      <td>132</td>\n",
       "      <td>1036290101</td>\n",
       "      <td>Category A</td>\n",
       "      <td>Category AC</td>\n",
       "    </tr>\n",
       "    <tr>\n",
       "      <th>295</th>\n",
       "      <td>78206</td>\n",
       "      <td>3521</td>\n",
       "      <td>1039040101</td>\n",
       "      <td>Category A</td>\n",
       "      <td>Category AC</td>\n",
       "    </tr>\n",
       "    <tr>\n",
       "      <th>296</th>\n",
       "      <td>55438</td>\n",
       "      <td>132</td>\n",
       "      <td>1036290101</td>\n",
       "      <td>Category A</td>\n",
       "      <td>Category AB</td>\n",
       "    </tr>\n",
       "    <tr>\n",
       "      <th>297</th>\n",
       "      <td>96971</td>\n",
       "      <td>3521</td>\n",
       "      <td>1036290101</td>\n",
       "      <td>Category A</td>\n",
       "      <td>Category AA</td>\n",
       "    </tr>\n",
       "  </tbody>\n",
       "</table>\n",
       "<p>298 rows × 5 columns</p>\n",
       "</div>"
      ],
      "text/plain": [
       "    ProductKey  BrandKey  SupplierKey ProductCategory_Lvl1  \\\n",
       "0        52138      3521   1039040101           Category A   \n",
       "1        19864      3521   1039040125           Category A   \n",
       "2        95144      1713   1049688101           Category A   \n",
       "3        23070      3521   1050235101           Category A   \n",
       "4        93165      3521   1039040125           Category A   \n",
       "..         ...       ...          ...                  ...   \n",
       "293      12353      3521   1036290101           Category A   \n",
       "294      55442       132   1036290101           Category A   \n",
       "295      78206      3521   1039040101           Category A   \n",
       "296      55438       132   1036290101           Category A   \n",
       "297      96971      3521   1036290101           Category A   \n",
       "\n",
       "    ProductCategory_Lvl2  \n",
       "0            Category AA  \n",
       "1            Category AC  \n",
       "2            Category AA  \n",
       "3            Category AC  \n",
       "4            Category AC  \n",
       "..                   ...  \n",
       "293          Category AB  \n",
       "294          Category AC  \n",
       "295          Category AC  \n",
       "296          Category AB  \n",
       "297          Category AA  \n",
       "\n",
       "[298 rows x 5 columns]"
      ]
     },
     "metadata": {},
     "output_type": "display_data"
    }
   ],
   "source": [
    "Productkeycorr = []\n",
    "ProductCategory_Lvl2corr = []\n",
    "\n",
    "for p in products[\"ProductKey\"]:\n",
    "    if \"key_\" in p:\n",
    "        p = p[4:]\n",
    "        Productkeycorr.append(p)\n",
    "    else:\n",
    "        Productkeycorr.append(p) \n",
    "\n",
    "for c in products[\"ProductCategory_Lvl2\"]:\n",
    "    \n",
    "    if c[0] == \"c\":\n",
    "        l = c.capitalize()\n",
    "        l = l[:-2] + l[-2:].upper()\n",
    "        ProductCategory_Lvl2corr.append(l)\n",
    "    elif c == \"Category  AC\" or c == \"Category  AE\" or c == \"Category  AD\":\n",
    "        l = \"\"\n",
    "        l = c[0:8] + c[-3:]\n",
    "        ProductCategory_Lvl2corr.append(l)\n",
    "\n",
    "    elif c == \"Categrory AE\":\n",
    "        l = \"\"\n",
    "        l = c[0:5] + c[6:]\n",
    "        ProductCategory_Lvl2corr.append(l)\n",
    "    else:\n",
    "        ProductCategory_Lvl2corr.append(c) \n",
    "\n",
    "            \n",
    "products[\"ProductCategory_Lvl2\"] = np.array(ProductCategory_Lvl2corr)\n",
    "products[\"ProductKey\"] = np.array(Productkeycorr)\n",
    "\n",
    "\n",
    "display(products)\n",
    "        "
   ]
  },
  {
   "attachments": {},
   "cell_type": "markdown",
   "id": "999408d3",
   "metadata": {},
   "source": [
    "As we can see below, the categories are finally correct."
   ]
  },
  {
   "cell_type": "code",
   "execution_count": 8,
   "id": "75c0333b",
   "metadata": {},
   "outputs": [
    {
     "data": {
      "text/plain": [
       "Category AA    109\n",
       "Category AB     90\n",
       "Category AC     66\n",
       "Category AE     24\n",
       "Category AD      9\n",
       "Name: ProductCategory_Lvl2, dtype: int64"
      ]
     },
     "execution_count": 8,
     "metadata": {},
     "output_type": "execute_result"
    }
   ],
   "source": [
    "products['ProductCategory_Lvl2'].value_counts()"
   ]
  },
  {
   "cell_type": "markdown",
   "id": "1c1134c8",
   "metadata": {},
   "source": [
    "**Promotion Dataset**"
   ]
  },
  {
   "attachments": {},
   "cell_type": "markdown",
   "id": "25bd4a1b",
   "metadata": {},
   "source": [
    "Now we will do the same with the promotion dataset, which contains relevant information on the promotions of the asian retailer."
   ]
  },
  {
   "cell_type": "code",
   "execution_count": 9,
   "id": "b4d681f6",
   "metadata": {},
   "outputs": [
    {
     "data": {
      "text/html": [
       "<div>\n",
       "<style scoped>\n",
       "    .dataframe tbody tr th:only-of-type {\n",
       "        vertical-align: middle;\n",
       "    }\n",
       "\n",
       "    .dataframe tbody tr th {\n",
       "        vertical-align: top;\n",
       "    }\n",
       "\n",
       "    .dataframe thead th {\n",
       "        text-align: right;\n",
       "    }\n",
       "</style>\n",
       "<table border=\"1\" class=\"dataframe\">\n",
       "  <thead>\n",
       "    <tr style=\"text-align: right;\">\n",
       "      <th></th>\n",
       "      <th>PromotionKey</th>\n",
       "      <th>PromoMechanic</th>\n",
       "      <th>PromotionStartDate</th>\n",
       "      <th>PromotionEndDate</th>\n",
       "    </tr>\n",
       "  </thead>\n",
       "  <tbody>\n",
       "    <tr>\n",
       "      <th>0</th>\n",
       "      <td>312237</td>\n",
       "      <td>Percentage off</td>\n",
       "      <td>10/1/2021</td>\n",
       "      <td>10/6/2021</td>\n",
       "    </tr>\n",
       "    <tr>\n",
       "      <th>1</th>\n",
       "      <td>265157</td>\n",
       "      <td>Buy $X for Y%</td>\n",
       "      <td>2/25/2020</td>\n",
       "      <td>2/25/2020</td>\n",
       "    </tr>\n",
       "    <tr>\n",
       "      <th>2</th>\n",
       "      <td>270553</td>\n",
       "      <td>Buy $X for $Y</td>\n",
       "      <td>1/15/2020</td>\n",
       "      <td>1/27/2020</td>\n",
       "    </tr>\n",
       "    <tr>\n",
       "      <th>3</th>\n",
       "      <td>308082</td>\n",
       "      <td>X units for $Y (X = 1)</td>\n",
       "      <td>3/10/2021</td>\n",
       "      <td>3/29/2021</td>\n",
       "    </tr>\n",
       "    <tr>\n",
       "      <th>4</th>\n",
       "      <td>317323</td>\n",
       "      <td>PWP</td>\n",
       "      <td>5/13/2022</td>\n",
       "      <td>7/6/2022</td>\n",
       "    </tr>\n",
       "    <tr>\n",
       "      <th>...</th>\n",
       "      <td>...</td>\n",
       "      <td>...</td>\n",
       "      <td>...</td>\n",
       "      <td>...</td>\n",
       "    </tr>\n",
       "    <tr>\n",
       "      <th>3426</th>\n",
       "      <td>297974</td>\n",
       "      <td>X units for $Y (X = 1)</td>\n",
       "      <td>1/1/2022</td>\n",
       "      <td>6/30/2022</td>\n",
       "    </tr>\n",
       "    <tr>\n",
       "      <th>3427</th>\n",
       "      <td>339287</td>\n",
       "      <td>Buy $X for $Y</td>\n",
       "      <td>12/12/2021</td>\n",
       "      <td>12/12/2021</td>\n",
       "    </tr>\n",
       "    <tr>\n",
       "      <th>3428</th>\n",
       "      <td>263837</td>\n",
       "      <td>X units for $Y (X = 1)</td>\n",
       "      <td>2/27/2020</td>\n",
       "      <td>3/30/2020</td>\n",
       "    </tr>\n",
       "    <tr>\n",
       "      <th>3429</th>\n",
       "      <td>375529</td>\n",
       "      <td>X units for $Y (X &gt; 1)</td>\n",
       "      <td>11/16/2022</td>\n",
       "      <td>1/2/2023</td>\n",
       "    </tr>\n",
       "    <tr>\n",
       "      <th>3430</th>\n",
       "      <td>352362</td>\n",
       "      <td>X units for $Y (X &gt; 1)</td>\n",
       "      <td>1/18/2020</td>\n",
       "      <td>3/4/2020</td>\n",
       "    </tr>\n",
       "  </tbody>\n",
       "</table>\n",
       "<p>3431 rows × 4 columns</p>\n",
       "</div>"
      ],
      "text/plain": [
       "      PromotionKey            PromoMechanic PromotionStartDate  \\\n",
       "0            312237          Percentage off          10/1/2021   \n",
       "1            265157           Buy $X for Y%          2/25/2020   \n",
       "2            270553           Buy $X for $Y          1/15/2020   \n",
       "3            308082  X units for $Y (X = 1)          3/10/2021   \n",
       "4            317323                     PWP          5/13/2022   \n",
       "...             ...                     ...                ...   \n",
       "3426         297974  X units for $Y (X = 1)           1/1/2022   \n",
       "3427         339287           Buy $X for $Y         12/12/2021   \n",
       "3428         263837  X units for $Y (X = 1)          2/27/2020   \n",
       "3429         375529  X units for $Y (X > 1)         11/16/2022   \n",
       "3430         352362  X units for $Y (X > 1)          1/18/2020   \n",
       "\n",
       "     PromotionEndDate  \n",
       "0           10/6/2021  \n",
       "1           2/25/2020  \n",
       "2           1/27/2020  \n",
       "3           3/29/2021  \n",
       "4            7/6/2022  \n",
       "...               ...  \n",
       "3426        6/30/2022  \n",
       "3427       12/12/2021  \n",
       "3428        3/30/2020  \n",
       "3429         1/2/2023  \n",
       "3430         3/4/2020  \n",
       "\n",
       "[3431 rows x 4 columns]"
      ]
     },
     "metadata": {},
     "output_type": "display_data"
    },
    {
     "name": "stdout",
     "output_type": "stream",
     "text": [
      "<class 'pandas.core.frame.DataFrame'>\n",
      "RangeIndex: 3431 entries, 0 to 3430\n",
      "Data columns (total 4 columns):\n",
      " #   Column              Non-Null Count  Dtype \n",
      "---  ------              --------------  ----- \n",
      " 0   PromotionKey        3431 non-null   int64 \n",
      " 1   PromoMechanic       3431 non-null   object\n",
      " 2   PromotionStartDate  3431 non-null   object\n",
      " 3   PromotionEndDate    3431 non-null   object\n",
      "dtypes: int64(1), object(3)\n",
      "memory usage: 107.3+ KB\n"
     ]
    }
   ],
   "source": [
    "promotions = pd.read_csv('Hackathon_DimPromotion_SAN_vShared.csv')\n",
    "\n",
    "display(promotions)\n",
    "promotions.info()"
   ]
  },
  {
   "cell_type": "markdown",
   "id": "3f0abd82",
   "metadata": {},
   "source": [
    "As Promomechanic categories will serve for out aggregate analysis, we regroup and see how these are distributed."
   ]
  },
  {
   "cell_type": "code",
   "execution_count": 10,
   "id": "12e58a86",
   "metadata": {},
   "outputs": [
    {
     "data": {
      "text/plain": [
       "Buy $X for $Y             723\n",
       "X units for $Y (X = 1)    710\n",
       "X units for $Y (X > 1)    657\n",
       "Percentage off            338\n",
       "PWP                       242\n",
       "Buy $X for Y%             175\n",
       "Buy X free Y              113\n",
       "GWP                       106\n",
       "Xth for Y%                100\n",
       "X units for Y%             94\n",
       "Buy X free X               78\n",
       "Coupon/Voucher             33\n",
       "Member Points              24\n",
       "Unknown                    16\n",
       "Price off                  14\n",
       "Xth @ $Y                    8\n",
       "Name: PromoMechanic, dtype: int64"
      ]
     },
     "execution_count": 10,
     "metadata": {},
     "output_type": "execute_result"
    }
   ],
   "source": [
    "promotions[\"PromoMechanic\"].value_counts()"
   ]
  },
  {
   "cell_type": "markdown",
   "id": "debab65d",
   "metadata": {},
   "source": [
    "**Store Dataset**"
   ]
  },
  {
   "attachments": {},
   "cell_type": "markdown",
   "id": "4565df21",
   "metadata": {},
   "source": [
    "The store dataset contains all the stores where the retailer sells its products. The location and the type of store are listed."
   ]
  },
  {
   "cell_type": "code",
   "execution_count": 11,
   "id": "dce0515e",
   "metadata": {},
   "outputs": [
    {
     "data": {
      "text/html": [
       "<div>\n",
       "<style scoped>\n",
       "    .dataframe tbody tr th:only-of-type {\n",
       "        vertical-align: middle;\n",
       "    }\n",
       "\n",
       "    .dataframe tbody tr th {\n",
       "        vertical-align: top;\n",
       "    }\n",
       "\n",
       "    .dataframe thead th {\n",
       "        text-align: right;\n",
       "    }\n",
       "</style>\n",
       "<table border=\"1\" class=\"dataframe\">\n",
       "  <thead>\n",
       "    <tr style=\"text-align: right;\">\n",
       "      <th></th>\n",
       "      <th>StoreKey</th>\n",
       "      <th>DistributionChannel</th>\n",
       "      <th>StoreType</th>\n",
       "      <th>Region_Lvl1</th>\n",
       "      <th>Region_Lvl2</th>\n",
       "    </tr>\n",
       "  </thead>\n",
       "  <tbody>\n",
       "    <tr>\n",
       "      <th>0</th>\n",
       "      <td>559</td>\n",
       "      <td>Physical</td>\n",
       "      <td>Store Type B</td>\n",
       "      <td>RegionA</td>\n",
       "      <td>Region 34</td>\n",
       "    </tr>\n",
       "    <tr>\n",
       "      <th>1</th>\n",
       "      <td>168</td>\n",
       "      <td>Physical</td>\n",
       "      <td>Store Type B</td>\n",
       "      <td>RegionA</td>\n",
       "      <td>Region 2</td>\n",
       "    </tr>\n",
       "    <tr>\n",
       "      <th>2</th>\n",
       "      <td>2061</td>\n",
       "      <td>Physical</td>\n",
       "      <td>Store Type E</td>\n",
       "      <td>RegionA</td>\n",
       "      <td>Region 10</td>\n",
       "    </tr>\n",
       "    <tr>\n",
       "      <th>3</th>\n",
       "      <td>590</td>\n",
       "      <td>Physical</td>\n",
       "      <td>Store Type D</td>\n",
       "      <td>RegionA</td>\n",
       "      <td>Region 2</td>\n",
       "    </tr>\n",
       "    <tr>\n",
       "      <th>4</th>\n",
       "      <td>301</td>\n",
       "      <td>Physical</td>\n",
       "      <td>Store Type B</td>\n",
       "      <td>RegionA</td>\n",
       "      <td>Region 123</td>\n",
       "    </tr>\n",
       "    <tr>\n",
       "      <th>...</th>\n",
       "      <td>...</td>\n",
       "      <td>...</td>\n",
       "      <td>...</td>\n",
       "      <td>...</td>\n",
       "      <td>...</td>\n",
       "    </tr>\n",
       "    <tr>\n",
       "      <th>734</th>\n",
       "      <td>463</td>\n",
       "      <td>Physical</td>\n",
       "      <td>Store Type B</td>\n",
       "      <td>RegionB</td>\n",
       "      <td>Region 141</td>\n",
       "    </tr>\n",
       "    <tr>\n",
       "      <th>735</th>\n",
       "      <td>4</td>\n",
       "      <td>Physical</td>\n",
       "      <td>Store Type C</td>\n",
       "      <td>RegionA</td>\n",
       "      <td>Region 4</td>\n",
       "    </tr>\n",
       "    <tr>\n",
       "      <th>736</th>\n",
       "      <td>280</td>\n",
       "      <td>Physical</td>\n",
       "      <td>Store Type D</td>\n",
       "      <td>RegionB</td>\n",
       "      <td>Region 39</td>\n",
       "    </tr>\n",
       "    <tr>\n",
       "      <th>737</th>\n",
       "      <td>688</td>\n",
       "      <td>Physical</td>\n",
       "      <td>Store Type G</td>\n",
       "      <td>RegionA</td>\n",
       "      <td>Region 112</td>\n",
       "    </tr>\n",
       "    <tr>\n",
       "      <th>738</th>\n",
       "      <td>892</td>\n",
       "      <td>Online</td>\n",
       "      <td>Store Type H</td>\n",
       "      <td>Online</td>\n",
       "      <td>Region 30</td>\n",
       "    </tr>\n",
       "  </tbody>\n",
       "</table>\n",
       "<p>739 rows × 5 columns</p>\n",
       "</div>"
      ],
      "text/plain": [
       "     StoreKey DistributionChannel     StoreType Region_Lvl1 Region_Lvl2\n",
       "0         559            Physical  Store Type B     RegionA   Region 34\n",
       "1         168            Physical  Store Type B     RegionA    Region 2\n",
       "2        2061            Physical  Store Type E     RegionA   Region 10\n",
       "3         590            Physical  Store Type D     RegionA    Region 2\n",
       "4         301            Physical  Store Type B     RegionA  Region 123\n",
       "..        ...                 ...           ...         ...         ...\n",
       "734       463            Physical  Store Type B     RegionB  Region 141\n",
       "735         4            Physical  Store Type C     RegionA    Region 4\n",
       "736       280            Physical  Store Type D     RegionB   Region 39\n",
       "737       688            Physical  Store Type G     RegionA  Region 112\n",
       "738       892              Online  Store Type H      Online   Region 30\n",
       "\n",
       "[739 rows x 5 columns]"
      ]
     },
     "metadata": {},
     "output_type": "display_data"
    },
    {
     "name": "stdout",
     "output_type": "stream",
     "text": [
      "<class 'pandas.core.frame.DataFrame'>\n",
      "RangeIndex: 739 entries, 0 to 738\n",
      "Data columns (total 5 columns):\n",
      " #   Column               Non-Null Count  Dtype \n",
      "---  ------               --------------  ----- \n",
      " 0   StoreKey             739 non-null    int64 \n",
      " 1   DistributionChannel  739 non-null    object\n",
      " 2   StoreType            739 non-null    object\n",
      " 3   Region_Lvl1          739 non-null    object\n",
      " 4   Region_Lvl2          739 non-null    object\n",
      "dtypes: int64(1), object(4)\n",
      "memory usage: 29.0+ KB\n"
     ]
    }
   ],
   "source": [
    "stores = pd.read_csv('Hackathon_DimStore_SAN_vShared.csv')\n",
    "\n",
    "display(stores)\n",
    "stores.info()"
   ]
  },
  {
   "cell_type": "markdown",
   "id": "7d8e6c42",
   "metadata": {},
   "source": [
    "Let us see if some strange category comes up in the stores DataFrame."
   ]
  },
  {
   "cell_type": "code",
   "execution_count": 12,
   "id": "13bd4c2d",
   "metadata": {},
   "outputs": [
    {
     "data": {
      "text/plain": [
       "Store Type B    336\n",
       "Store Type C    146\n",
       "Store Type E    106\n",
       "Store Type D     67\n",
       "Store Type A     27\n",
       "Other            24\n",
       "Store Type G     15\n",
       "Store Type F     12\n",
       "Store Type H      3\n",
       "Store Type K      1\n",
       "Store Type J      1\n",
       "Store Type I      1\n",
       "Name: StoreType, dtype: int64"
      ]
     },
     "execution_count": 12,
     "metadata": {},
     "output_type": "execute_result"
    }
   ],
   "source": [
    "stores[\"StoreType\"].value_counts()"
   ]
  },
  {
   "cell_type": "code",
   "execution_count": 13,
   "id": "1840884d",
   "metadata": {},
   "outputs": [
    {
     "data": {
      "text/plain": [
       "RegionA    623\n",
       "RegionB    106\n",
       "Online      10\n",
       "Name: Region_Lvl1, dtype: int64"
      ]
     },
     "execution_count": 13,
     "metadata": {},
     "output_type": "execute_result"
    }
   ],
   "source": [
    "stores[\"Region_Lvl1\"].value_counts()"
   ]
  },
  {
   "cell_type": "code",
   "execution_count": 14,
   "id": "03ea0ba4",
   "metadata": {},
   "outputs": [
    {
     "data": {
      "text/plain": [
       "Region 2      58\n",
       "Region 7      35\n",
       "Region 30     27\n",
       "Region 11     24\n",
       "Region 12     24\n",
       "              ..\n",
       "Region 132     1\n",
       "Region 197     1\n",
       "Region 100     1\n",
       "Region 135     1\n",
       "Region 112     1\n",
       "Name: Region_Lvl2, Length: 222, dtype: int64"
      ]
     },
     "execution_count": 14,
     "metadata": {},
     "output_type": "execute_result"
    }
   ],
   "source": [
    "stores[\"Region_Lvl2\"].value_counts()"
   ]
  },
  {
   "attachments": {},
   "cell_type": "markdown",
   "id": "ac3cf569",
   "metadata": {},
   "source": [
    "As we see, there are 2 geographical information on the stores, the first indicates the \"larger\" region where the store is located, whilst the second shows its subregion."
   ]
  },
  {
   "cell_type": "markdown",
   "id": "352419a2",
   "metadata": {},
   "source": [
    "**Transaction Dataset**"
   ]
  },
  {
   "attachments": {},
   "cell_type": "markdown",
   "id": "2c0b5361",
   "metadata": {},
   "source": [
    "The transaction dataset is arguably one of the most important datasets we need. It contains all the transactions, entailing the prices (both the full and the discounted ones) as well as the products sold in the peach (unitvolume)."
   ]
  },
  {
   "cell_type": "code",
   "execution_count": 15,
   "id": "dee683c8",
   "metadata": {},
   "outputs": [
    {
     "data": {
      "text/html": [
       "<div>\n",
       "<style scoped>\n",
       "    .dataframe tbody tr th:only-of-type {\n",
       "        vertical-align: middle;\n",
       "    }\n",
       "\n",
       "    .dataframe tbody tr th {\n",
       "        vertical-align: top;\n",
       "    }\n",
       "\n",
       "    .dataframe thead th {\n",
       "        text-align: right;\n",
       "    }\n",
       "</style>\n",
       "<table border=\"1\" class=\"dataframe\">\n",
       "  <thead>\n",
       "    <tr style=\"text-align: right;\">\n",
       "      <th></th>\n",
       "      <th>TransactionDate</th>\n",
       "      <th>DayOfWeek</th>\n",
       "      <th>WeekendFlag</th>\n",
       "      <th>StoreKey</th>\n",
       "      <th>ProductKey</th>\n",
       "      <th>UnitVolume</th>\n",
       "      <th>ActualSales</th>\n",
       "      <th>SalesDiscount</th>\n",
       "      <th>RetailFullPrice</th>\n",
       "    </tr>\n",
       "  </thead>\n",
       "  <tbody>\n",
       "    <tr>\n",
       "      <th>0</th>\n",
       "      <td>2020-01-29</td>\n",
       "      <td>Wednesday</td>\n",
       "      <td>False</td>\n",
       "      <td>118</td>\n",
       "      <td>49334</td>\n",
       "      <td>2.0</td>\n",
       "      <td>103.35080</td>\n",
       "      <td>-16.87360</td>\n",
       "      <td>120.2244</td>\n",
       "    </tr>\n",
       "    <tr>\n",
       "      <th>1</th>\n",
       "      <td>2021-10-31</td>\n",
       "      <td>Sunday</td>\n",
       "      <td>True</td>\n",
       "      <td>78</td>\n",
       "      <td>59511</td>\n",
       "      <td>1.0</td>\n",
       "      <td>17.13725</td>\n",
       "      <td>-17.13725</td>\n",
       "      <td>34.2745</td>\n",
       "    </tr>\n",
       "    <tr>\n",
       "      <th>2</th>\n",
       "      <td>2021-06-17</td>\n",
       "      <td>Thursday</td>\n",
       "      <td>False</td>\n",
       "      <td>672</td>\n",
       "      <td>97438</td>\n",
       "      <td>1.0</td>\n",
       "      <td>22.46298</td>\n",
       "      <td>-14.97532</td>\n",
       "      <td>37.4383</td>\n",
       "    </tr>\n",
       "    <tr>\n",
       "      <th>3</th>\n",
       "      <td>2022-02-06</td>\n",
       "      <td>Sunday</td>\n",
       "      <td>True</td>\n",
       "      <td>193</td>\n",
       "      <td>58921</td>\n",
       "      <td>2.0</td>\n",
       "      <td>42.18400</td>\n",
       "      <td>-9.49140</td>\n",
       "      <td>51.6754</td>\n",
       "    </tr>\n",
       "    <tr>\n",
       "      <th>4</th>\n",
       "      <td>2022-03-29</td>\n",
       "      <td>Tuesday</td>\n",
       "      <td>False</td>\n",
       "      <td>2059</td>\n",
       "      <td>44633</td>\n",
       "      <td>1.0</td>\n",
       "      <td>31.63800</td>\n",
       "      <td>-12.65520</td>\n",
       "      <td>44.2932</td>\n",
       "    </tr>\n",
       "    <tr>\n",
       "      <th>...</th>\n",
       "      <td>...</td>\n",
       "      <td>...</td>\n",
       "      <td>...</td>\n",
       "      <td>...</td>\n",
       "      <td>...</td>\n",
       "      <td>...</td>\n",
       "      <td>...</td>\n",
       "      <td>...</td>\n",
       "      <td>...</td>\n",
       "    </tr>\n",
       "    <tr>\n",
       "      <th>11300998</th>\n",
       "      <td>2022-02-07</td>\n",
       "      <td>Monday</td>\n",
       "      <td>False</td>\n",
       "      <td>56</td>\n",
       "      <td>62330</td>\n",
       "      <td>31.0</td>\n",
       "      <td>634.02552</td>\n",
       "      <td>-330.40618</td>\n",
       "      <td>964.4317</td>\n",
       "    </tr>\n",
       "    <tr>\n",
       "      <th>11300999</th>\n",
       "      <td>2020-01-15</td>\n",
       "      <td>Wednesday</td>\n",
       "      <td>False</td>\n",
       "      <td>4</td>\n",
       "      <td>39983</td>\n",
       "      <td>1.0</td>\n",
       "      <td>18.45550</td>\n",
       "      <td>0.00000</td>\n",
       "      <td>18.4555</td>\n",
       "    </tr>\n",
       "    <tr>\n",
       "      <th>11301000</th>\n",
       "      <td>2022-09-22</td>\n",
       "      <td>Thursday</td>\n",
       "      <td>False</td>\n",
       "      <td>654</td>\n",
       "      <td>95835</td>\n",
       "      <td>3.0</td>\n",
       "      <td>87.00450</td>\n",
       "      <td>0.00000</td>\n",
       "      <td>87.0045</td>\n",
       "    </tr>\n",
       "    <tr>\n",
       "      <th>11301001</th>\n",
       "      <td>2020-03-06</td>\n",
       "      <td>Friday</td>\n",
       "      <td>False</td>\n",
       "      <td>369</td>\n",
       "      <td>49489</td>\n",
       "      <td>1.0</td>\n",
       "      <td>29.00150</td>\n",
       "      <td>0.00000</td>\n",
       "      <td>29.0015</td>\n",
       "    </tr>\n",
       "    <tr>\n",
       "      <th>11301002</th>\n",
       "      <td>2020-03-10</td>\n",
       "      <td>Tuesday</td>\n",
       "      <td>False</td>\n",
       "      <td>508</td>\n",
       "      <td>73607</td>\n",
       "      <td>1.0</td>\n",
       "      <td>28.47420</td>\n",
       "      <td>0.00000</td>\n",
       "      <td>28.4742</td>\n",
       "    </tr>\n",
       "  </tbody>\n",
       "</table>\n",
       "<p>11301003 rows × 9 columns</p>\n",
       "</div>"
      ],
      "text/plain": [
       "         TransactionDate  DayOfWeek WeekendFlag StoreKey ProductKey  \\\n",
       "0             2020-01-29  Wednesday       False      118      49334   \n",
       "1             2021-10-31     Sunday        True       78      59511   \n",
       "2             2021-06-17   Thursday       False      672      97438   \n",
       "3             2022-02-06     Sunday        True      193      58921   \n",
       "4             2022-03-29    Tuesday       False     2059      44633   \n",
       "...                  ...        ...         ...      ...        ...   \n",
       "11300998      2022-02-07     Monday       False       56      62330   \n",
       "11300999      2020-01-15  Wednesday       False        4      39983   \n",
       "11301000      2022-09-22   Thursday       False      654      95835   \n",
       "11301001      2020-03-06     Friday       False      369      49489   \n",
       "11301002      2020-03-10    Tuesday       False      508      73607   \n",
       "\n",
       "          UnitVolume  ActualSales  SalesDiscount  RetailFullPrice  \n",
       "0                2.0    103.35080      -16.87360         120.2244  \n",
       "1                1.0     17.13725      -17.13725          34.2745  \n",
       "2                1.0     22.46298      -14.97532          37.4383  \n",
       "3                2.0     42.18400       -9.49140          51.6754  \n",
       "4                1.0     31.63800      -12.65520          44.2932  \n",
       "...              ...          ...            ...              ...  \n",
       "11300998        31.0    634.02552     -330.40618         964.4317  \n",
       "11300999         1.0     18.45550        0.00000          18.4555  \n",
       "11301000         3.0     87.00450        0.00000          87.0045  \n",
       "11301001         1.0     29.00150        0.00000          29.0015  \n",
       "11301002         1.0     28.47420        0.00000          28.4742  \n",
       "\n",
       "[11301003 rows x 9 columns]"
      ]
     },
     "metadata": {},
     "output_type": "display_data"
    },
    {
     "name": "stdout",
     "output_type": "stream",
     "text": [
      "<class 'pandas.core.frame.DataFrame'>\n",
      "RangeIndex: 11301003 entries, 0 to 11301002\n",
      "Data columns (total 9 columns):\n",
      " #   Column           Dtype  \n",
      "---  ------           -----  \n",
      " 0   TransactionDate  object \n",
      " 1   DayOfWeek        object \n",
      " 2   WeekendFlag      object \n",
      " 3   StoreKey         object \n",
      " 4   ProductKey       object \n",
      " 5   UnitVolume       float64\n",
      " 6   ActualSales      float64\n",
      " 7   SalesDiscount    float64\n",
      " 8   RetailFullPrice  float64\n",
      "dtypes: float64(4), object(5)\n",
      "memory usage: 776.0+ MB\n"
     ]
    }
   ],
   "source": [
    "transactions = pd.read_csv('Hackathon_FactSalesTransactionDATES_vShared.csv')\n",
    "\n",
    "display(transactions)\n",
    "transactions.info()"
   ]
  },
  {
   "cell_type": "markdown",
   "id": "b74b383c",
   "metadata": {},
   "source": [
    "Let us also check if days are all correct and also turn transactiondate series to datetime object."
   ]
  },
  {
   "cell_type": "code",
   "execution_count": 16,
   "id": "eacb0413",
   "metadata": {},
   "outputs": [
    {
     "data": {
      "text/plain": [
       "Saturday     1857497\n",
       "Sunday       1848111\n",
       "Friday       1624278\n",
       "Thursday     1510615\n",
       "Monday       1503625\n",
       "Wednesday    1474490\n",
       "Tuesday      1458409\n",
       "Name: DayOfWeek, dtype: int64"
      ]
     },
     "execution_count": 16,
     "metadata": {},
     "output_type": "execute_result"
    }
   ],
   "source": [
    "#checking whether days are 7.\n",
    "transactions[\"DayOfWeek\"].value_counts()"
   ]
  },
  {
   "cell_type": "code",
   "execution_count": 17,
   "id": "bc021eff",
   "metadata": {},
   "outputs": [],
   "source": [
    "#turning dates\n",
    "wu = pd.to_datetime(transactions[\"TransactionDate\"])\n",
    "transactions[\"TransactionDate\"] = wu \n"
   ]
  },
  {
   "cell_type": "markdown",
   "id": "d2a539be",
   "metadata": {},
   "source": [
    "**Transaction Promotion Dataset**"
   ]
  },
  {
   "cell_type": "code",
   "execution_count": 18,
   "id": "026b722d",
   "metadata": {
    "scrolled": true
   },
   "outputs": [
    {
     "data": {
      "text/html": [
       "<div>\n",
       "<style scoped>\n",
       "    .dataframe tbody tr th:only-of-type {\n",
       "        vertical-align: middle;\n",
       "    }\n",
       "\n",
       "    .dataframe tbody tr th {\n",
       "        vertical-align: top;\n",
       "    }\n",
       "\n",
       "    .dataframe thead th {\n",
       "        text-align: right;\n",
       "    }\n",
       "</style>\n",
       "<table border=\"1\" class=\"dataframe\">\n",
       "  <thead>\n",
       "    <tr style=\"text-align: right;\">\n",
       "      <th></th>\n",
       "      <th>TransactionDate</th>\n",
       "      <th>StoreKey</th>\n",
       "      <th>ProductKey</th>\n",
       "      <th>PromotionKey</th>\n",
       "    </tr>\n",
       "  </thead>\n",
       "  <tbody>\n",
       "    <tr>\n",
       "      <th>0</th>\n",
       "      <td>2021-06-13</td>\n",
       "      <td>615</td>\n",
       "      <td>49492</td>\n",
       "      <td>348444</td>\n",
       "    </tr>\n",
       "    <tr>\n",
       "      <th>1</th>\n",
       "      <td>2020-01-15</td>\n",
       "      <td>118</td>\n",
       "      <td>26841</td>\n",
       "      <td>324048</td>\n",
       "    </tr>\n",
       "    <tr>\n",
       "      <th>2</th>\n",
       "      <td>2021-01-06</td>\n",
       "      <td>653</td>\n",
       "      <td>97953</td>\n",
       "      <td>273352</td>\n",
       "    </tr>\n",
       "    <tr>\n",
       "      <th>3</th>\n",
       "      <td>2022-04-24</td>\n",
       "      <td>288</td>\n",
       "      <td>95792</td>\n",
       "      <td>356728</td>\n",
       "    </tr>\n",
       "    <tr>\n",
       "      <th>4</th>\n",
       "      <td>2022-08-28</td>\n",
       "      <td>382</td>\n",
       "      <td>62330</td>\n",
       "      <td>364487</td>\n",
       "    </tr>\n",
       "    <tr>\n",
       "      <th>...</th>\n",
       "      <td>...</td>\n",
       "      <td>...</td>\n",
       "      <td>...</td>\n",
       "      <td>...</td>\n",
       "    </tr>\n",
       "    <tr>\n",
       "      <th>5318756</th>\n",
       "      <td>2020-04-09</td>\n",
       "      <td>358</td>\n",
       "      <td>41631</td>\n",
       "      <td>267707</td>\n",
       "    </tr>\n",
       "    <tr>\n",
       "      <th>5318757</th>\n",
       "      <td>2022-03-13</td>\n",
       "      <td>576</td>\n",
       "      <td>95836</td>\n",
       "      <td>270013</td>\n",
       "    </tr>\n",
       "    <tr>\n",
       "      <th>5318758</th>\n",
       "      <td>2021-05-08</td>\n",
       "      <td>358</td>\n",
       "      <td>59736</td>\n",
       "      <td>256313</td>\n",
       "    </tr>\n",
       "    <tr>\n",
       "      <th>5318759</th>\n",
       "      <td>2021-10-31</td>\n",
       "      <td>193</td>\n",
       "      <td>95822</td>\n",
       "      <td>326071</td>\n",
       "    </tr>\n",
       "    <tr>\n",
       "      <th>5318760</th>\n",
       "      <td>2021-10-14</td>\n",
       "      <td>621</td>\n",
       "      <td>88531</td>\n",
       "      <td>312322</td>\n",
       "    </tr>\n",
       "  </tbody>\n",
       "</table>\n",
       "<p>5318761 rows × 4 columns</p>\n",
       "</div>"
      ],
      "text/plain": [
       "        TransactionDate StoreKey  ProductKey  PromotionKey\n",
       "0            2021-06-13      615       49492        348444\n",
       "1            2020-01-15      118       26841        324048\n",
       "2            2021-01-06      653       97953        273352\n",
       "3            2022-04-24      288       95792        356728\n",
       "4            2022-08-28      382       62330        364487\n",
       "...                 ...      ...         ...           ...\n",
       "5318756      2020-04-09      358       41631        267707\n",
       "5318757      2022-03-13      576       95836        270013\n",
       "5318758      2021-05-08      358       59736        256313\n",
       "5318759      2021-10-31      193       95822        326071\n",
       "5318760      2021-10-14      621       88531        312322\n",
       "\n",
       "[5318761 rows x 4 columns]"
      ]
     },
     "metadata": {},
     "output_type": "display_data"
    },
    {
     "name": "stdout",
     "output_type": "stream",
     "text": [
      "<class 'pandas.core.frame.DataFrame'>\n",
      "RangeIndex: 5318761 entries, 0 to 5318760\n",
      "Data columns (total 4 columns):\n",
      " #   Column           Dtype \n",
      "---  ------           ----- \n",
      " 0   TransactionDate  object\n",
      " 1   StoreKey         object\n",
      " 2   ProductKey       int64 \n",
      " 3   PromotionKey     int64 \n",
      "dtypes: int64(2), object(2)\n",
      "memory usage: 162.3+ MB\n"
     ]
    }
   ],
   "source": [
    "transactions_promo = pd.read_csv('Hackathon_FactSalesTransactionPromotion_vShared.csv')\n",
    "\n",
    "display(transactions_promo)\n",
    "transactions_promo.info()"
   ]
  },
  {
   "attachments": {},
   "cell_type": "markdown",
   "id": "5921140a",
   "metadata": {},
   "source": [
    "We notice that the transactiondate column has a generic object datatype and hence, we trn it into a datetime object to better work with pandas groupby and aggregation functions."
   ]
  },
  {
   "cell_type": "code",
   "execution_count": 19,
   "id": "d54d15f2",
   "metadata": {},
   "outputs": [],
   "source": [
    "w2 = pd.to_datetime(transactions_promo[\"TransactionDate\"])\n",
    "transactions_promo[\"TransactionDate\"] = w2 \n"
   ]
  },
  {
   "cell_type": "markdown",
   "id": "4a30839b",
   "metadata": {},
   "source": [
    "**Holidays Dataset**"
   ]
  },
  {
   "attachments": {},
   "cell_type": "markdown",
   "id": "7d92bdb5",
   "metadata": {},
   "source": [
    "Finally, the holiday dataset contains the holiday days during the year."
   ]
  },
  {
   "cell_type": "code",
   "execution_count": 20,
   "id": "25a97621",
   "metadata": {},
   "outputs": [
    {
     "data": {
      "text/html": [
       "<div>\n",
       "<style scoped>\n",
       "    .dataframe tbody tr th:only-of-type {\n",
       "        vertical-align: middle;\n",
       "    }\n",
       "\n",
       "    .dataframe tbody tr th {\n",
       "        vertical-align: top;\n",
       "    }\n",
       "\n",
       "    .dataframe thead th {\n",
       "        text-align: right;\n",
       "    }\n",
       "</style>\n",
       "<table border=\"1\" class=\"dataframe\">\n",
       "  <thead>\n",
       "    <tr style=\"text-align: right;\">\n",
       "      <th></th>\n",
       "      <th>Holiday Description</th>\n",
       "      <th>Comments</th>\n",
       "    </tr>\n",
       "  </thead>\n",
       "  <tbody>\n",
       "    <tr>\n",
       "      <th>0</th>\n",
       "      <td>New Year's Eve</td>\n",
       "      <td>NaN</td>\n",
       "    </tr>\n",
       "    <tr>\n",
       "      <th>1</th>\n",
       "      <td>Chinese New Year's Day</td>\n",
       "      <td>Note: If Lunar New Year's Day falls on a Sunda...</td>\n",
       "    </tr>\n",
       "    <tr>\n",
       "      <th>2</th>\n",
       "      <td>Federal Territory Day</td>\n",
       "      <td>NaN</td>\n",
       "    </tr>\n",
       "    <tr>\n",
       "      <th>3</th>\n",
       "      <td>Hari Raya Puasa (End of Ramadan)</td>\n",
       "      <td>Ramadan shifts</td>\n",
       "    </tr>\n",
       "    <tr>\n",
       "      <th>4</th>\n",
       "      <td>Labor Day</td>\n",
       "      <td>NaN</td>\n",
       "    </tr>\n",
       "    <tr>\n",
       "      <th>5</th>\n",
       "      <td>Wesak Day (Buddha's Birthday)</td>\n",
       "      <td>NaN</td>\n",
       "    </tr>\n",
       "    <tr>\n",
       "      <th>6</th>\n",
       "      <td>King's Birthday</td>\n",
       "      <td>NaN</td>\n",
       "    </tr>\n",
       "    <tr>\n",
       "      <th>7</th>\n",
       "      <td>Hari Raya Qurban (Feast of Sacrifice)</td>\n",
       "      <td>NaN</td>\n",
       "    </tr>\n",
       "    <tr>\n",
       "      <th>8</th>\n",
       "      <td>Awal Muharram (Islamic New Year)</td>\n",
       "      <td>NaN</td>\n",
       "    </tr>\n",
       "    <tr>\n",
       "      <th>9</th>\n",
       "      <td>Merdeka Day (National Day)</td>\n",
       "      <td>NaN</td>\n",
       "    </tr>\n",
       "    <tr>\n",
       "      <th>10</th>\n",
       "      <td>Milad un Nabi (Birth of the Prophet Muhammad)</td>\n",
       "      <td>NaN</td>\n",
       "    </tr>\n",
       "    <tr>\n",
       "      <th>11</th>\n",
       "      <td>Deepavali (Festival of Lights)</td>\n",
       "      <td>NaN</td>\n",
       "    </tr>\n",
       "    <tr>\n",
       "      <th>12</th>\n",
       "      <td>Christmas Day</td>\n",
       "      <td>NaN</td>\n",
       "    </tr>\n",
       "  </tbody>\n",
       "</table>\n",
       "</div>"
      ],
      "text/plain": [
       "                              Holiday Description  \\\n",
       "0                                  New Year's Eve   \n",
       "1                          Chinese New Year's Day   \n",
       "2                           Federal Territory Day   \n",
       "3                Hari Raya Puasa (End of Ramadan)   \n",
       "4                                       Labor Day   \n",
       "5                   Wesak Day (Buddha's Birthday)   \n",
       "6                                 King's Birthday   \n",
       "7           Hari Raya Qurban (Feast of Sacrifice)   \n",
       "8                Awal Muharram (Islamic New Year)   \n",
       "9                      Merdeka Day (National Day)   \n",
       "10  Milad un Nabi (Birth of the Prophet Muhammad)   \n",
       "11                 Deepavali (Festival of Lights)   \n",
       "12                                  Christmas Day   \n",
       "\n",
       "                                             Comments  \n",
       "0                                                 NaN  \n",
       "1   Note: If Lunar New Year's Day falls on a Sunda...  \n",
       "2                                                 NaN  \n",
       "3                                     Ramadan shifts   \n",
       "4                                                 NaN  \n",
       "5                                                 NaN  \n",
       "6                                                 NaN  \n",
       "7                                                 NaN  \n",
       "8                                                 NaN  \n",
       "9                                                 NaN  \n",
       "10                                                NaN  \n",
       "11                                                NaN  \n",
       "12                                                NaN  "
      ]
     },
     "metadata": {},
     "output_type": "display_data"
    },
    {
     "name": "stdout",
     "output_type": "stream",
     "text": [
      "<class 'pandas.core.frame.DataFrame'>\n",
      "RangeIndex: 13 entries, 0 to 12\n",
      "Data columns (total 2 columns):\n",
      " #   Column               Non-Null Count  Dtype \n",
      "---  ------               --------------  ----- \n",
      " 0   Holiday Description  13 non-null     object\n",
      " 1   Comments             2 non-null      object\n",
      "dtypes: object(2)\n",
      "memory usage: 336.0+ bytes\n"
     ]
    }
   ],
   "source": [
    "holidays = pd.read_csv('Hackathon_HolidaysMY_vShared.csv')\n",
    "\n",
    "display(holidays)\n",
    "holidays.info()"
   ]
  },
  {
   "attachments": {},
   "cell_type": "markdown",
   "id": "aac8dafe",
   "metadata": {},
   "source": [
    "### Time to join datasets ##\n",
    "\n",
    "The idea is to join Transaction with Product on ProductKey and then joining the result with Store on StoreKey. The code below will create the first merged dataframe, then we will merge Transaction Promotion with Promotion on PromotionKey. We proceed in this way because in the Transaction dataset there is no column representing the PromotionKey. Hence, we will first create two different merged dataframe before finally joining them."
   ]
  },
  {
   "cell_type": "code",
   "execution_count": 21,
   "id": "137ddc15",
   "metadata": {},
   "outputs": [
    {
     "data": {
      "text/html": [
       "<div>\n",
       "<style scoped>\n",
       "    .dataframe tbody tr th:only-of-type {\n",
       "        vertical-align: middle;\n",
       "    }\n",
       "\n",
       "    .dataframe tbody tr th {\n",
       "        vertical-align: top;\n",
       "    }\n",
       "\n",
       "    .dataframe thead th {\n",
       "        text-align: right;\n",
       "    }\n",
       "</style>\n",
       "<table border=\"1\" class=\"dataframe\">\n",
       "  <thead>\n",
       "    <tr style=\"text-align: right;\">\n",
       "      <th></th>\n",
       "      <th>TransactionDate</th>\n",
       "      <th>DayOfWeek</th>\n",
       "      <th>WeekendFlag</th>\n",
       "      <th>StoreKey</th>\n",
       "      <th>ProductKey</th>\n",
       "      <th>UnitVolume</th>\n",
       "      <th>ActualSales</th>\n",
       "      <th>SalesDiscount</th>\n",
       "      <th>RetailFullPrice</th>\n",
       "      <th>BrandKey</th>\n",
       "      <th>SupplierKey</th>\n",
       "      <th>ProductCategory_Lvl1</th>\n",
       "      <th>ProductCategory_Lvl2</th>\n",
       "    </tr>\n",
       "  </thead>\n",
       "  <tbody>\n",
       "    <tr>\n",
       "      <th>0</th>\n",
       "      <td>2020-01-29</td>\n",
       "      <td>Wednesday</td>\n",
       "      <td>False</td>\n",
       "      <td>118</td>\n",
       "      <td>49334</td>\n",
       "      <td>2.0</td>\n",
       "      <td>103.3508</td>\n",
       "      <td>-16.8736</td>\n",
       "      <td>120.2244</td>\n",
       "      <td>3521</td>\n",
       "      <td>1028407101</td>\n",
       "      <td>Category A</td>\n",
       "      <td>Category AC</td>\n",
       "    </tr>\n",
       "    <tr>\n",
       "      <th>1</th>\n",
       "      <td>2021-05-31</td>\n",
       "      <td>Monday</td>\n",
       "      <td>False</td>\n",
       "      <td>60</td>\n",
       "      <td>49334</td>\n",
       "      <td>3.0</td>\n",
       "      <td>172.4271</td>\n",
       "      <td>0.0000</td>\n",
       "      <td>172.4271</td>\n",
       "      <td>3521</td>\n",
       "      <td>1028407101</td>\n",
       "      <td>Category A</td>\n",
       "      <td>Category AC</td>\n",
       "    </tr>\n",
       "    <tr>\n",
       "      <th>2</th>\n",
       "      <td>2022-11-02</td>\n",
       "      <td>Wednesday</td>\n",
       "      <td>False</td>\n",
       "      <td>2045</td>\n",
       "      <td>49334</td>\n",
       "      <td>5.0</td>\n",
       "      <td>287.3785</td>\n",
       "      <td>-26.3650</td>\n",
       "      <td>313.7435</td>\n",
       "      <td>3521</td>\n",
       "      <td>1028407101</td>\n",
       "      <td>Category A</td>\n",
       "      <td>Category AC</td>\n",
       "    </tr>\n",
       "    <tr>\n",
       "      <th>3</th>\n",
       "      <td>2022-02-16</td>\n",
       "      <td>Wednesday</td>\n",
       "      <td>False</td>\n",
       "      <td>2005</td>\n",
       "      <td>49334</td>\n",
       "      <td>2.0</td>\n",
       "      <td>114.9514</td>\n",
       "      <td>0.0000</td>\n",
       "      <td>114.9514</td>\n",
       "      <td>3521</td>\n",
       "      <td>1028407101</td>\n",
       "      <td>Category A</td>\n",
       "      <td>Category AC</td>\n",
       "    </tr>\n",
       "    <tr>\n",
       "      <th>4</th>\n",
       "      <td>2021-11-29</td>\n",
       "      <td>Monday</td>\n",
       "      <td>False</td>\n",
       "      <td>227</td>\n",
       "      <td>49334</td>\n",
       "      <td>5.0</td>\n",
       "      <td>261.0135</td>\n",
       "      <td>-52.7300</td>\n",
       "      <td>313.7435</td>\n",
       "      <td>3521</td>\n",
       "      <td>1028407101</td>\n",
       "      <td>Category A</td>\n",
       "      <td>Category AC</td>\n",
       "    </tr>\n",
       "    <tr>\n",
       "      <th>...</th>\n",
       "      <td>...</td>\n",
       "      <td>...</td>\n",
       "      <td>...</td>\n",
       "      <td>...</td>\n",
       "      <td>...</td>\n",
       "      <td>...</td>\n",
       "      <td>...</td>\n",
       "      <td>...</td>\n",
       "      <td>...</td>\n",
       "      <td>...</td>\n",
       "      <td>...</td>\n",
       "      <td>...</td>\n",
       "      <td>...</td>\n",
       "    </tr>\n",
       "    <tr>\n",
       "      <th>11242036</th>\n",
       "      <td>2022-05-08</td>\n",
       "      <td>Sunday</td>\n",
       "      <td>True</td>\n",
       "      <td>301</td>\n",
       "      <td>49494</td>\n",
       "      <td>1.0</td>\n",
       "      <td>0.0000</td>\n",
       "      <td>0.0000</td>\n",
       "      <td>0.0000</td>\n",
       "      <td>3521</td>\n",
       "      <td>1036290101</td>\n",
       "      <td>Category A</td>\n",
       "      <td>Category AB</td>\n",
       "    </tr>\n",
       "    <tr>\n",
       "      <th>11242037</th>\n",
       "      <td>2020-04-29</td>\n",
       "      <td>Wednesday</td>\n",
       "      <td>False</td>\n",
       "      <td>506</td>\n",
       "      <td>49494</td>\n",
       "      <td>1.0</td>\n",
       "      <td>0.0000</td>\n",
       "      <td>0.0000</td>\n",
       "      <td>0.0000</td>\n",
       "      <td>3521</td>\n",
       "      <td>1036290101</td>\n",
       "      <td>Category A</td>\n",
       "      <td>Category AB</td>\n",
       "    </tr>\n",
       "    <tr>\n",
       "      <th>11242038</th>\n",
       "      <td>2021-03-30</td>\n",
       "      <td>Tuesday</td>\n",
       "      <td>False</td>\n",
       "      <td>315</td>\n",
       "      <td>22131</td>\n",
       "      <td>0.0</td>\n",
       "      <td>0.0000</td>\n",
       "      <td>0.0000</td>\n",
       "      <td>0.0000</td>\n",
       "      <td>3521</td>\n",
       "      <td>1039040101</td>\n",
       "      <td>Category A</td>\n",
       "      <td>Category AA</td>\n",
       "    </tr>\n",
       "    <tr>\n",
       "      <th>11242039</th>\n",
       "      <td>2021-11-14</td>\n",
       "      <td>Sunday</td>\n",
       "      <td>True</td>\n",
       "      <td>273</td>\n",
       "      <td>48671</td>\n",
       "      <td>0.0</td>\n",
       "      <td>0.0000</td>\n",
       "      <td>0.0000</td>\n",
       "      <td>0.0000</td>\n",
       "      <td>1713</td>\n",
       "      <td>1049688101</td>\n",
       "      <td>Category A</td>\n",
       "      <td>Category AA</td>\n",
       "    </tr>\n",
       "    <tr>\n",
       "      <th>11242040</th>\n",
       "      <td>2022-03-13</td>\n",
       "      <td>Sunday</td>\n",
       "      <td>True</td>\n",
       "      <td>321</td>\n",
       "      <td>49342</td>\n",
       "      <td>0.0</td>\n",
       "      <td>0.0000</td>\n",
       "      <td>0.0000</td>\n",
       "      <td>0.0000</td>\n",
       "      <td>3521</td>\n",
       "      <td>1039040101</td>\n",
       "      <td>Category A</td>\n",
       "      <td>Category AA</td>\n",
       "    </tr>\n",
       "  </tbody>\n",
       "</table>\n",
       "<p>11242041 rows × 13 columns</p>\n",
       "</div>"
      ],
      "text/plain": [
       "         TransactionDate  DayOfWeek WeekendFlag StoreKey ProductKey  \\\n",
       "0             2020-01-29  Wednesday       False      118      49334   \n",
       "1             2021-05-31     Monday       False       60      49334   \n",
       "2             2022-11-02  Wednesday       False     2045      49334   \n",
       "3             2022-02-16  Wednesday       False     2005      49334   \n",
       "4             2021-11-29     Monday       False      227      49334   \n",
       "...                  ...        ...         ...      ...        ...   \n",
       "11242036      2022-05-08     Sunday        True      301      49494   \n",
       "11242037      2020-04-29  Wednesday       False      506      49494   \n",
       "11242038      2021-03-30    Tuesday       False      315      22131   \n",
       "11242039      2021-11-14     Sunday        True      273      48671   \n",
       "11242040      2022-03-13     Sunday        True      321      49342   \n",
       "\n",
       "          UnitVolume  ActualSales  SalesDiscount  RetailFullPrice  BrandKey  \\\n",
       "0                2.0     103.3508       -16.8736         120.2244      3521   \n",
       "1                3.0     172.4271         0.0000         172.4271      3521   \n",
       "2                5.0     287.3785       -26.3650         313.7435      3521   \n",
       "3                2.0     114.9514         0.0000         114.9514      3521   \n",
       "4                5.0     261.0135       -52.7300         313.7435      3521   \n",
       "...              ...          ...            ...              ...       ...   \n",
       "11242036         1.0       0.0000         0.0000           0.0000      3521   \n",
       "11242037         1.0       0.0000         0.0000           0.0000      3521   \n",
       "11242038         0.0       0.0000         0.0000           0.0000      3521   \n",
       "11242039         0.0       0.0000         0.0000           0.0000      1713   \n",
       "11242040         0.0       0.0000         0.0000           0.0000      3521   \n",
       "\n",
       "          SupplierKey ProductCategory_Lvl1 ProductCategory_Lvl2  \n",
       "0          1028407101           Category A          Category AC  \n",
       "1          1028407101           Category A          Category AC  \n",
       "2          1028407101           Category A          Category AC  \n",
       "3          1028407101           Category A          Category AC  \n",
       "4          1028407101           Category A          Category AC  \n",
       "...               ...                  ...                  ...  \n",
       "11242036   1036290101           Category A          Category AB  \n",
       "11242037   1036290101           Category A          Category AB  \n",
       "11242038   1039040101           Category A          Category AA  \n",
       "11242039   1049688101           Category A          Category AA  \n",
       "11242040   1039040101           Category A          Category AA  \n",
       "\n",
       "[11242041 rows x 13 columns]"
      ]
     },
     "metadata": {},
     "output_type": "display_data"
    }
   ],
   "source": [
    "transactions_p = pd.merge(transactions, products, on='ProductKey')\n",
    "display(transactions_p)"
   ]
  },
  {
   "cell_type": "code",
   "execution_count": 22,
   "id": "ccf57272",
   "metadata": {},
   "outputs": [
    {
     "name": "stdout",
     "output_type": "stream",
     "text": [
      "<class 'pandas.core.frame.DataFrame'>\n",
      "Int64Index: 11242041 entries, 0 to 11242040\n",
      "Data columns (total 13 columns):\n",
      " #   Column                Dtype         \n",
      "---  ------                -----         \n",
      " 0   TransactionDate       datetime64[ns]\n",
      " 1   DayOfWeek             object        \n",
      " 2   WeekendFlag           object        \n",
      " 3   StoreKey              object        \n",
      " 4   ProductKey            object        \n",
      " 5   UnitVolume            float64       \n",
      " 6   ActualSales           float64       \n",
      " 7   SalesDiscount         float64       \n",
      " 8   RetailFullPrice       float64       \n",
      " 9   BrandKey              int64         \n",
      " 10  SupplierKey           int64         \n",
      " 11  ProductCategory_Lvl1  object        \n",
      " 12  ProductCategory_Lvl2  object        \n",
      "dtypes: datetime64[ns](1), float64(4), int64(2), object(6)\n",
      "memory usage: 1.2+ GB\n"
     ]
    }
   ],
   "source": [
    "transactions_p.info()"
   ]
  },
  {
   "cell_type": "markdown",
   "id": "a6b0fa1e",
   "metadata": {},
   "source": [
    "While trying to merge transactions_p with Store we found that StoreKey in transactions_p is of type object, hence we tried to simply merge changing the type to int but the issue was that there were some rows saved as **indexNumber_Key** hence we had first to clean them in order to merge the two dataframes."
   ]
  },
  {
   "cell_type": "code",
   "execution_count": 23,
   "id": "78e9459d",
   "metadata": {},
   "outputs": [
    {
     "data": {
      "text/html": [
       "<div>\n",
       "<style scoped>\n",
       "    .dataframe tbody tr th:only-of-type {\n",
       "        vertical-align: middle;\n",
       "    }\n",
       "\n",
       "    .dataframe tbody tr th {\n",
       "        vertical-align: top;\n",
       "    }\n",
       "\n",
       "    .dataframe thead th {\n",
       "        text-align: right;\n",
       "    }\n",
       "</style>\n",
       "<table border=\"1\" class=\"dataframe\">\n",
       "  <thead>\n",
       "    <tr style=\"text-align: right;\">\n",
       "      <th></th>\n",
       "      <th>TransactionDate</th>\n",
       "      <th>DayOfWeek</th>\n",
       "      <th>WeekendFlag</th>\n",
       "      <th>StoreKey</th>\n",
       "      <th>ProductKey</th>\n",
       "      <th>UnitVolume</th>\n",
       "      <th>ActualSales</th>\n",
       "      <th>SalesDiscount</th>\n",
       "      <th>RetailFullPrice</th>\n",
       "      <th>BrandKey</th>\n",
       "      <th>SupplierKey</th>\n",
       "      <th>ProductCategory_Lvl1</th>\n",
       "      <th>ProductCategory_Lvl2</th>\n",
       "    </tr>\n",
       "  </thead>\n",
       "  <tbody>\n",
       "    <tr>\n",
       "      <th>0</th>\n",
       "      <td>2020-01-29</td>\n",
       "      <td>Wednesday</td>\n",
       "      <td>False</td>\n",
       "      <td>118</td>\n",
       "      <td>49334</td>\n",
       "      <td>2.0</td>\n",
       "      <td>103.3508</td>\n",
       "      <td>-16.8736</td>\n",
       "      <td>120.2244</td>\n",
       "      <td>3521</td>\n",
       "      <td>1028407101</td>\n",
       "      <td>Category A</td>\n",
       "      <td>Category AC</td>\n",
       "    </tr>\n",
       "    <tr>\n",
       "      <th>1</th>\n",
       "      <td>2021-05-31</td>\n",
       "      <td>Monday</td>\n",
       "      <td>False</td>\n",
       "      <td>60</td>\n",
       "      <td>49334</td>\n",
       "      <td>3.0</td>\n",
       "      <td>172.4271</td>\n",
       "      <td>0.0000</td>\n",
       "      <td>172.4271</td>\n",
       "      <td>3521</td>\n",
       "      <td>1028407101</td>\n",
       "      <td>Category A</td>\n",
       "      <td>Category AC</td>\n",
       "    </tr>\n",
       "    <tr>\n",
       "      <th>2</th>\n",
       "      <td>2022-11-02</td>\n",
       "      <td>Wednesday</td>\n",
       "      <td>False</td>\n",
       "      <td>2045</td>\n",
       "      <td>49334</td>\n",
       "      <td>5.0</td>\n",
       "      <td>287.3785</td>\n",
       "      <td>-26.3650</td>\n",
       "      <td>313.7435</td>\n",
       "      <td>3521</td>\n",
       "      <td>1028407101</td>\n",
       "      <td>Category A</td>\n",
       "      <td>Category AC</td>\n",
       "    </tr>\n",
       "    <tr>\n",
       "      <th>3</th>\n",
       "      <td>2022-02-16</td>\n",
       "      <td>Wednesday</td>\n",
       "      <td>False</td>\n",
       "      <td>2005</td>\n",
       "      <td>49334</td>\n",
       "      <td>2.0</td>\n",
       "      <td>114.9514</td>\n",
       "      <td>0.0000</td>\n",
       "      <td>114.9514</td>\n",
       "      <td>3521</td>\n",
       "      <td>1028407101</td>\n",
       "      <td>Category A</td>\n",
       "      <td>Category AC</td>\n",
       "    </tr>\n",
       "    <tr>\n",
       "      <th>4</th>\n",
       "      <td>2021-11-29</td>\n",
       "      <td>Monday</td>\n",
       "      <td>False</td>\n",
       "      <td>227</td>\n",
       "      <td>49334</td>\n",
       "      <td>5.0</td>\n",
       "      <td>261.0135</td>\n",
       "      <td>-52.7300</td>\n",
       "      <td>313.7435</td>\n",
       "      <td>3521</td>\n",
       "      <td>1028407101</td>\n",
       "      <td>Category A</td>\n",
       "      <td>Category AC</td>\n",
       "    </tr>\n",
       "    <tr>\n",
       "      <th>...</th>\n",
       "      <td>...</td>\n",
       "      <td>...</td>\n",
       "      <td>...</td>\n",
       "      <td>...</td>\n",
       "      <td>...</td>\n",
       "      <td>...</td>\n",
       "      <td>...</td>\n",
       "      <td>...</td>\n",
       "      <td>...</td>\n",
       "      <td>...</td>\n",
       "      <td>...</td>\n",
       "      <td>...</td>\n",
       "      <td>...</td>\n",
       "    </tr>\n",
       "    <tr>\n",
       "      <th>11242036</th>\n",
       "      <td>2022-05-08</td>\n",
       "      <td>Sunday</td>\n",
       "      <td>True</td>\n",
       "      <td>301</td>\n",
       "      <td>49494</td>\n",
       "      <td>1.0</td>\n",
       "      <td>0.0000</td>\n",
       "      <td>0.0000</td>\n",
       "      <td>0.0000</td>\n",
       "      <td>3521</td>\n",
       "      <td>1036290101</td>\n",
       "      <td>Category A</td>\n",
       "      <td>Category AB</td>\n",
       "    </tr>\n",
       "    <tr>\n",
       "      <th>11242037</th>\n",
       "      <td>2020-04-29</td>\n",
       "      <td>Wednesday</td>\n",
       "      <td>False</td>\n",
       "      <td>506</td>\n",
       "      <td>49494</td>\n",
       "      <td>1.0</td>\n",
       "      <td>0.0000</td>\n",
       "      <td>0.0000</td>\n",
       "      <td>0.0000</td>\n",
       "      <td>3521</td>\n",
       "      <td>1036290101</td>\n",
       "      <td>Category A</td>\n",
       "      <td>Category AB</td>\n",
       "    </tr>\n",
       "    <tr>\n",
       "      <th>11242038</th>\n",
       "      <td>2021-03-30</td>\n",
       "      <td>Tuesday</td>\n",
       "      <td>False</td>\n",
       "      <td>315</td>\n",
       "      <td>22131</td>\n",
       "      <td>0.0</td>\n",
       "      <td>0.0000</td>\n",
       "      <td>0.0000</td>\n",
       "      <td>0.0000</td>\n",
       "      <td>3521</td>\n",
       "      <td>1039040101</td>\n",
       "      <td>Category A</td>\n",
       "      <td>Category AA</td>\n",
       "    </tr>\n",
       "    <tr>\n",
       "      <th>11242039</th>\n",
       "      <td>2021-11-14</td>\n",
       "      <td>Sunday</td>\n",
       "      <td>True</td>\n",
       "      <td>273</td>\n",
       "      <td>48671</td>\n",
       "      <td>0.0</td>\n",
       "      <td>0.0000</td>\n",
       "      <td>0.0000</td>\n",
       "      <td>0.0000</td>\n",
       "      <td>1713</td>\n",
       "      <td>1049688101</td>\n",
       "      <td>Category A</td>\n",
       "      <td>Category AA</td>\n",
       "    </tr>\n",
       "    <tr>\n",
       "      <th>11242040</th>\n",
       "      <td>2022-03-13</td>\n",
       "      <td>Sunday</td>\n",
       "      <td>True</td>\n",
       "      <td>321</td>\n",
       "      <td>49342</td>\n",
       "      <td>0.0</td>\n",
       "      <td>0.0000</td>\n",
       "      <td>0.0000</td>\n",
       "      <td>0.0000</td>\n",
       "      <td>3521</td>\n",
       "      <td>1039040101</td>\n",
       "      <td>Category A</td>\n",
       "      <td>Category AA</td>\n",
       "    </tr>\n",
       "  </tbody>\n",
       "</table>\n",
       "<p>11242041 rows × 13 columns</p>\n",
       "</div>"
      ],
      "text/plain": [
       "         TransactionDate  DayOfWeek WeekendFlag  StoreKey ProductKey  \\\n",
       "0             2020-01-29  Wednesday       False       118      49334   \n",
       "1             2021-05-31     Monday       False        60      49334   \n",
       "2             2022-11-02  Wednesday       False      2045      49334   \n",
       "3             2022-02-16  Wednesday       False      2005      49334   \n",
       "4             2021-11-29     Monday       False       227      49334   \n",
       "...                  ...        ...         ...       ...        ...   \n",
       "11242036      2022-05-08     Sunday        True       301      49494   \n",
       "11242037      2020-04-29  Wednesday       False       506      49494   \n",
       "11242038      2021-03-30    Tuesday       False       315      22131   \n",
       "11242039      2021-11-14     Sunday        True       273      48671   \n",
       "11242040      2022-03-13     Sunday        True       321      49342   \n",
       "\n",
       "          UnitVolume  ActualSales  SalesDiscount  RetailFullPrice  BrandKey  \\\n",
       "0                2.0     103.3508       -16.8736         120.2244      3521   \n",
       "1                3.0     172.4271         0.0000         172.4271      3521   \n",
       "2                5.0     287.3785       -26.3650         313.7435      3521   \n",
       "3                2.0     114.9514         0.0000         114.9514      3521   \n",
       "4                5.0     261.0135       -52.7300         313.7435      3521   \n",
       "...              ...          ...            ...              ...       ...   \n",
       "11242036         1.0       0.0000         0.0000           0.0000      3521   \n",
       "11242037         1.0       0.0000         0.0000           0.0000      3521   \n",
       "11242038         0.0       0.0000         0.0000           0.0000      3521   \n",
       "11242039         0.0       0.0000         0.0000           0.0000      1713   \n",
       "11242040         0.0       0.0000         0.0000           0.0000      3521   \n",
       "\n",
       "          SupplierKey ProductCategory_Lvl1 ProductCategory_Lvl2  \n",
       "0          1028407101           Category A          Category AC  \n",
       "1          1028407101           Category A          Category AC  \n",
       "2          1028407101           Category A          Category AC  \n",
       "3          1028407101           Category A          Category AC  \n",
       "4          1028407101           Category A          Category AC  \n",
       "...               ...                  ...                  ...  \n",
       "11242036   1036290101           Category A          Category AB  \n",
       "11242037   1036290101           Category A          Category AB  \n",
       "11242038   1039040101           Category A          Category AA  \n",
       "11242039   1049688101           Category A          Category AA  \n",
       "11242040   1039040101           Category A          Category AA  \n",
       "\n",
       "[11242041 rows x 13 columns]"
      ]
     },
     "metadata": {},
     "output_type": "display_data"
    }
   ],
   "source": [
    "storeKeys = np.array(transactions_p['StoreKey'])\n",
    "storeKeys_clean = []\n",
    "\n",
    "for i in storeKeys:\n",
    "    try:\n",
    "        storeKeys_clean.append(int(i))\n",
    "    except:\n",
    "        storeKeys_clean.append(int(i[0:-4]))\n",
    "        \n",
    "storeKeys_clean = np.array(storeKeys_clean)\n",
    "\n",
    "transactions_p['StoreKey'] = storeKeys_clean\n",
    "display(transactions_p)"
   ]
  },
  {
   "attachments": {},
   "cell_type": "markdown",
   "id": "67fe4876",
   "metadata": {},
   "source": [
    "We are now ready to merge the 2 datasets."
   ]
  },
  {
   "cell_type": "code",
   "execution_count": 24,
   "id": "265897c1",
   "metadata": {},
   "outputs": [
    {
     "data": {
      "text/html": [
       "<div>\n",
       "<style scoped>\n",
       "    .dataframe tbody tr th:only-of-type {\n",
       "        vertical-align: middle;\n",
       "    }\n",
       "\n",
       "    .dataframe tbody tr th {\n",
       "        vertical-align: top;\n",
       "    }\n",
       "\n",
       "    .dataframe thead th {\n",
       "        text-align: right;\n",
       "    }\n",
       "</style>\n",
       "<table border=\"1\" class=\"dataframe\">\n",
       "  <thead>\n",
       "    <tr style=\"text-align: right;\">\n",
       "      <th></th>\n",
       "      <th>TransactionDate</th>\n",
       "      <th>DayOfWeek</th>\n",
       "      <th>WeekendFlag</th>\n",
       "      <th>StoreKey</th>\n",
       "      <th>ProductKey</th>\n",
       "      <th>UnitVolume</th>\n",
       "      <th>ActualSales</th>\n",
       "      <th>SalesDiscount</th>\n",
       "      <th>RetailFullPrice</th>\n",
       "      <th>BrandKey</th>\n",
       "      <th>SupplierKey</th>\n",
       "      <th>ProductCategory_Lvl1</th>\n",
       "      <th>ProductCategory_Lvl2</th>\n",
       "      <th>DistributionChannel</th>\n",
       "      <th>StoreType</th>\n",
       "      <th>Region_Lvl1</th>\n",
       "      <th>Region_Lvl2</th>\n",
       "    </tr>\n",
       "  </thead>\n",
       "  <tbody>\n",
       "    <tr>\n",
       "      <th>0</th>\n",
       "      <td>2020-01-29</td>\n",
       "      <td>Wednesday</td>\n",
       "      <td>False</td>\n",
       "      <td>118</td>\n",
       "      <td>49334</td>\n",
       "      <td>2.0</td>\n",
       "      <td>103.3508</td>\n",
       "      <td>-16.8736</td>\n",
       "      <td>120.2244</td>\n",
       "      <td>3521</td>\n",
       "      <td>1028407101</td>\n",
       "      <td>Category A</td>\n",
       "      <td>Category AC</td>\n",
       "      <td>Physical</td>\n",
       "      <td>Store Type B</td>\n",
       "      <td>RegionB</td>\n",
       "      <td>Region 17</td>\n",
       "    </tr>\n",
       "    <tr>\n",
       "      <th>1</th>\n",
       "      <td>2022-02-26</td>\n",
       "      <td>Saturday</td>\n",
       "      <td>True</td>\n",
       "      <td>118</td>\n",
       "      <td>49334</td>\n",
       "      <td>7.0</td>\n",
       "      <td>402.3299</td>\n",
       "      <td>0.0000</td>\n",
       "      <td>402.3299</td>\n",
       "      <td>3521</td>\n",
       "      <td>1028407101</td>\n",
       "      <td>Category A</td>\n",
       "      <td>Category AC</td>\n",
       "      <td>Physical</td>\n",
       "      <td>Store Type B</td>\n",
       "      <td>RegionB</td>\n",
       "      <td>Region 17</td>\n",
       "    </tr>\n",
       "    <tr>\n",
       "      <th>2</th>\n",
       "      <td>2020-09-24</td>\n",
       "      <td>Thursday</td>\n",
       "      <td>False</td>\n",
       "      <td>118</td>\n",
       "      <td>49334</td>\n",
       "      <td>3.0</td>\n",
       "      <td>166.0995</td>\n",
       "      <td>-14.2371</td>\n",
       "      <td>180.3366</td>\n",
       "      <td>3521</td>\n",
       "      <td>1028407101</td>\n",
       "      <td>Category A</td>\n",
       "      <td>Category AC</td>\n",
       "      <td>Physical</td>\n",
       "      <td>Store Type B</td>\n",
       "      <td>RegionB</td>\n",
       "      <td>Region 17</td>\n",
       "    </tr>\n",
       "    <tr>\n",
       "      <th>3</th>\n",
       "      <td>2021-01-19</td>\n",
       "      <td>Tuesday</td>\n",
       "      <td>False</td>\n",
       "      <td>118</td>\n",
       "      <td>49334</td>\n",
       "      <td>4.0</td>\n",
       "      <td>229.9028</td>\n",
       "      <td>-21.0920</td>\n",
       "      <td>250.9948</td>\n",
       "      <td>3521</td>\n",
       "      <td>1028407101</td>\n",
       "      <td>Category A</td>\n",
       "      <td>Category AC</td>\n",
       "      <td>Physical</td>\n",
       "      <td>Store Type B</td>\n",
       "      <td>RegionB</td>\n",
       "      <td>Region 17</td>\n",
       "    </tr>\n",
       "    <tr>\n",
       "      <th>4</th>\n",
       "      <td>2020-02-26</td>\n",
       "      <td>Wednesday</td>\n",
       "      <td>False</td>\n",
       "      <td>118</td>\n",
       "      <td>49334</td>\n",
       "      <td>2.0</td>\n",
       "      <td>114.9514</td>\n",
       "      <td>-5.2730</td>\n",
       "      <td>120.2244</td>\n",
       "      <td>3521</td>\n",
       "      <td>1028407101</td>\n",
       "      <td>Category A</td>\n",
       "      <td>Category AC</td>\n",
       "      <td>Physical</td>\n",
       "      <td>Store Type B</td>\n",
       "      <td>RegionB</td>\n",
       "      <td>Region 17</td>\n",
       "    </tr>\n",
       "    <tr>\n",
       "      <th>...</th>\n",
       "      <td>...</td>\n",
       "      <td>...</td>\n",
       "      <td>...</td>\n",
       "      <td>...</td>\n",
       "      <td>...</td>\n",
       "      <td>...</td>\n",
       "      <td>...</td>\n",
       "      <td>...</td>\n",
       "      <td>...</td>\n",
       "      <td>...</td>\n",
       "      <td>...</td>\n",
       "      <td>...</td>\n",
       "      <td>...</td>\n",
       "      <td>...</td>\n",
       "      <td>...</td>\n",
       "      <td>...</td>\n",
       "      <td>...</td>\n",
       "    </tr>\n",
       "    <tr>\n",
       "      <th>11437243</th>\n",
       "      <td>2022-12-09</td>\n",
       "      <td>Friday</td>\n",
       "      <td>False</td>\n",
       "      <td>748</td>\n",
       "      <td>93291</td>\n",
       "      <td>36.0</td>\n",
       "      <td>569.4840</td>\n",
       "      <td>-854.2260</td>\n",
       "      <td>1423.7100</td>\n",
       "      <td>3521</td>\n",
       "      <td>1039040101</td>\n",
       "      <td>Category A</td>\n",
       "      <td>Category AB</td>\n",
       "      <td>Physical</td>\n",
       "      <td>Other</td>\n",
       "      <td>RegionA</td>\n",
       "      <td>Region 30</td>\n",
       "    </tr>\n",
       "    <tr>\n",
       "      <th>11437244</th>\n",
       "      <td>2022-12-02</td>\n",
       "      <td>Friday</td>\n",
       "      <td>False</td>\n",
       "      <td>748</td>\n",
       "      <td>93291</td>\n",
       "      <td>72.0</td>\n",
       "      <td>1138.9680</td>\n",
       "      <td>-1708.4520</td>\n",
       "      <td>2847.4200</td>\n",
       "      <td>3521</td>\n",
       "      <td>1039040101</td>\n",
       "      <td>Category A</td>\n",
       "      <td>Category AB</td>\n",
       "      <td>Physical</td>\n",
       "      <td>Other</td>\n",
       "      <td>RegionA</td>\n",
       "      <td>Region 30</td>\n",
       "    </tr>\n",
       "    <tr>\n",
       "      <th>11437245</th>\n",
       "      <td>2022-12-02</td>\n",
       "      <td>Friday</td>\n",
       "      <td>False</td>\n",
       "      <td>748</td>\n",
       "      <td>93291</td>\n",
       "      <td>72.0</td>\n",
       "      <td>1138.9680</td>\n",
       "      <td>-1708.4520</td>\n",
       "      <td>2847.4200</td>\n",
       "      <td>3521</td>\n",
       "      <td>1039040101</td>\n",
       "      <td>Category A</td>\n",
       "      <td>Category AB</td>\n",
       "      <td>Physical</td>\n",
       "      <td>Other</td>\n",
       "      <td>RegionA</td>\n",
       "      <td>Region 30</td>\n",
       "    </tr>\n",
       "    <tr>\n",
       "      <th>11437246</th>\n",
       "      <td>2022-12-10</td>\n",
       "      <td>Saturday</td>\n",
       "      <td>True</td>\n",
       "      <td>748</td>\n",
       "      <td>93291</td>\n",
       "      <td>37.0</td>\n",
       "      <td>585.3030</td>\n",
       "      <td>-877.9545</td>\n",
       "      <td>1463.2575</td>\n",
       "      <td>3521</td>\n",
       "      <td>1039040101</td>\n",
       "      <td>Category A</td>\n",
       "      <td>Category AB</td>\n",
       "      <td>Physical</td>\n",
       "      <td>Other</td>\n",
       "      <td>RegionA</td>\n",
       "      <td>Region 30</td>\n",
       "    </tr>\n",
       "    <tr>\n",
       "      <th>11437247</th>\n",
       "      <td>2022-12-10</td>\n",
       "      <td>Saturday</td>\n",
       "      <td>True</td>\n",
       "      <td>748</td>\n",
       "      <td>93291</td>\n",
       "      <td>37.0</td>\n",
       "      <td>585.3030</td>\n",
       "      <td>-877.9545</td>\n",
       "      <td>1463.2575</td>\n",
       "      <td>3521</td>\n",
       "      <td>1039040101</td>\n",
       "      <td>Category A</td>\n",
       "      <td>Category AB</td>\n",
       "      <td>Physical</td>\n",
       "      <td>Other</td>\n",
       "      <td>RegionA</td>\n",
       "      <td>Region 30</td>\n",
       "    </tr>\n",
       "  </tbody>\n",
       "</table>\n",
       "<p>11437248 rows × 17 columns</p>\n",
       "</div>"
      ],
      "text/plain": [
       "         TransactionDate  DayOfWeek WeekendFlag  StoreKey ProductKey  \\\n",
       "0             2020-01-29  Wednesday       False       118      49334   \n",
       "1             2022-02-26   Saturday        True       118      49334   \n",
       "2             2020-09-24   Thursday       False       118      49334   \n",
       "3             2021-01-19    Tuesday       False       118      49334   \n",
       "4             2020-02-26  Wednesday       False       118      49334   \n",
       "...                  ...        ...         ...       ...        ...   \n",
       "11437243      2022-12-09     Friday       False       748      93291   \n",
       "11437244      2022-12-02     Friday       False       748      93291   \n",
       "11437245      2022-12-02     Friday       False       748      93291   \n",
       "11437246      2022-12-10   Saturday        True       748      93291   \n",
       "11437247      2022-12-10   Saturday        True       748      93291   \n",
       "\n",
       "          UnitVolume  ActualSales  SalesDiscount  RetailFullPrice  BrandKey  \\\n",
       "0                2.0     103.3508       -16.8736         120.2244      3521   \n",
       "1                7.0     402.3299         0.0000         402.3299      3521   \n",
       "2                3.0     166.0995       -14.2371         180.3366      3521   \n",
       "3                4.0     229.9028       -21.0920         250.9948      3521   \n",
       "4                2.0     114.9514        -5.2730         120.2244      3521   \n",
       "...              ...          ...            ...              ...       ...   \n",
       "11437243        36.0     569.4840      -854.2260        1423.7100      3521   \n",
       "11437244        72.0    1138.9680     -1708.4520        2847.4200      3521   \n",
       "11437245        72.0    1138.9680     -1708.4520        2847.4200      3521   \n",
       "11437246        37.0     585.3030      -877.9545        1463.2575      3521   \n",
       "11437247        37.0     585.3030      -877.9545        1463.2575      3521   \n",
       "\n",
       "          SupplierKey ProductCategory_Lvl1 ProductCategory_Lvl2  \\\n",
       "0          1028407101           Category A          Category AC   \n",
       "1          1028407101           Category A          Category AC   \n",
       "2          1028407101           Category A          Category AC   \n",
       "3          1028407101           Category A          Category AC   \n",
       "4          1028407101           Category A          Category AC   \n",
       "...               ...                  ...                  ...   \n",
       "11437243   1039040101           Category A          Category AB   \n",
       "11437244   1039040101           Category A          Category AB   \n",
       "11437245   1039040101           Category A          Category AB   \n",
       "11437246   1039040101           Category A          Category AB   \n",
       "11437247   1039040101           Category A          Category AB   \n",
       "\n",
       "         DistributionChannel     StoreType Region_Lvl1 Region_Lvl2  \n",
       "0                   Physical  Store Type B     RegionB   Region 17  \n",
       "1                   Physical  Store Type B     RegionB   Region 17  \n",
       "2                   Physical  Store Type B     RegionB   Region 17  \n",
       "3                   Physical  Store Type B     RegionB   Region 17  \n",
       "4                   Physical  Store Type B     RegionB   Region 17  \n",
       "...                      ...           ...         ...         ...  \n",
       "11437243            Physical         Other     RegionA   Region 30  \n",
       "11437244            Physical         Other     RegionA   Region 30  \n",
       "11437245            Physical         Other     RegionA   Region 30  \n",
       "11437246            Physical         Other     RegionA   Region 30  \n",
       "11437247            Physical         Other     RegionA   Region 30  \n",
       "\n",
       "[11437248 rows x 17 columns]"
      ]
     },
     "metadata": {},
     "output_type": "display_data"
    }
   ],
   "source": [
    "transactions_ps = pd.merge(transactions_p, stores, on='StoreKey')\n",
    "display(transactions_ps)"
   ]
  },
  {
   "attachments": {},
   "cell_type": "markdown",
   "id": "abf28f80",
   "metadata": {},
   "source": [
    "We finally obtained a dataframe via joining the Transaction, Product and Store datasets. Now, it is time to create the second dataframe, obtained via joining Transaction Promotion, Promotion, Product and Store."
   ]
  },
  {
   "cell_type": "code",
   "execution_count": 25,
   "id": "4400bf2a",
   "metadata": {},
   "outputs": [
    {
     "data": {
      "text/html": [
       "<div>\n",
       "<style scoped>\n",
       "    .dataframe tbody tr th:only-of-type {\n",
       "        vertical-align: middle;\n",
       "    }\n",
       "\n",
       "    .dataframe tbody tr th {\n",
       "        vertical-align: top;\n",
       "    }\n",
       "\n",
       "    .dataframe thead th {\n",
       "        text-align: right;\n",
       "    }\n",
       "</style>\n",
       "<table border=\"1\" class=\"dataframe\">\n",
       "  <thead>\n",
       "    <tr style=\"text-align: right;\">\n",
       "      <th></th>\n",
       "      <th>TransactionDate</th>\n",
       "      <th>StoreKey</th>\n",
       "      <th>ProductKey</th>\n",
       "      <th>PromotionKey</th>\n",
       "      <th>BrandKey</th>\n",
       "      <th>SupplierKey</th>\n",
       "      <th>ProductCategory_Lvl1</th>\n",
       "      <th>ProductCategory_Lvl2</th>\n",
       "    </tr>\n",
       "  </thead>\n",
       "  <tbody>\n",
       "    <tr>\n",
       "      <th>0</th>\n",
       "      <td>2021-06-13</td>\n",
       "      <td>615</td>\n",
       "      <td>49492</td>\n",
       "      <td>348444</td>\n",
       "      <td>3521</td>\n",
       "      <td>1036290101</td>\n",
       "      <td>Category A</td>\n",
       "      <td>Category AB</td>\n",
       "    </tr>\n",
       "    <tr>\n",
       "      <th>1</th>\n",
       "      <td>2021-09-28</td>\n",
       "      <td>646</td>\n",
       "      <td>49492</td>\n",
       "      <td>295634</td>\n",
       "      <td>3521</td>\n",
       "      <td>1036290101</td>\n",
       "      <td>Category A</td>\n",
       "      <td>Category AB</td>\n",
       "    </tr>\n",
       "    <tr>\n",
       "      <th>2</th>\n",
       "      <td>2021-06-12</td>\n",
       "      <td>422</td>\n",
       "      <td>49492</td>\n",
       "      <td>348444</td>\n",
       "      <td>3521</td>\n",
       "      <td>1036290101</td>\n",
       "      <td>Category A</td>\n",
       "      <td>Category AB</td>\n",
       "    </tr>\n",
       "    <tr>\n",
       "      <th>3</th>\n",
       "      <td>2020-11-30</td>\n",
       "      <td>112</td>\n",
       "      <td>49492</td>\n",
       "      <td>293481</td>\n",
       "      <td>3521</td>\n",
       "      <td>1036290101</td>\n",
       "      <td>Category A</td>\n",
       "      <td>Category AB</td>\n",
       "    </tr>\n",
       "    <tr>\n",
       "      <th>4</th>\n",
       "      <td>2021-02-07</td>\n",
       "      <td>156</td>\n",
       "      <td>49492</td>\n",
       "      <td>289114</td>\n",
       "      <td>3521</td>\n",
       "      <td>1036290101</td>\n",
       "      <td>Category A</td>\n",
       "      <td>Category AB</td>\n",
       "    </tr>\n",
       "    <tr>\n",
       "      <th>...</th>\n",
       "      <td>...</td>\n",
       "      <td>...</td>\n",
       "      <td>...</td>\n",
       "      <td>...</td>\n",
       "      <td>...</td>\n",
       "      <td>...</td>\n",
       "      <td>...</td>\n",
       "      <td>...</td>\n",
       "    </tr>\n",
       "    <tr>\n",
       "      <th>5318756</th>\n",
       "      <td>2022-04-18</td>\n",
       "      <td>896</td>\n",
       "      <td>35032</td>\n",
       "      <td>317735</td>\n",
       "      <td>3521</td>\n",
       "      <td>1098896101</td>\n",
       "      <td>Category A</td>\n",
       "      <td>Category AB</td>\n",
       "    </tr>\n",
       "    <tr>\n",
       "      <th>5318757</th>\n",
       "      <td>2022-05-11</td>\n",
       "      <td>896</td>\n",
       "      <td>35032</td>\n",
       "      <td>287270</td>\n",
       "      <td>3521</td>\n",
       "      <td>1098896101</td>\n",
       "      <td>Category A</td>\n",
       "      <td>Category AB</td>\n",
       "    </tr>\n",
       "    <tr>\n",
       "      <th>5318758</th>\n",
       "      <td>2020-05-18</td>\n",
       "      <td>896</td>\n",
       "      <td>12234</td>\n",
       "      <td>272994</td>\n",
       "      <td>3521</td>\n",
       "      <td>1028407101</td>\n",
       "      <td>Category A</td>\n",
       "      <td>Category AC</td>\n",
       "    </tr>\n",
       "    <tr>\n",
       "      <th>5318759</th>\n",
       "      <td>2020-02-05</td>\n",
       "      <td>896</td>\n",
       "      <td>12234</td>\n",
       "      <td>267370</td>\n",
       "      <td>3521</td>\n",
       "      <td>1028407101</td>\n",
       "      <td>Category A</td>\n",
       "      <td>Category AC</td>\n",
       "    </tr>\n",
       "    <tr>\n",
       "      <th>5318760</th>\n",
       "      <td>2020-10-14</td>\n",
       "      <td>896</td>\n",
       "      <td>12354</td>\n",
       "      <td>263805</td>\n",
       "      <td>3521</td>\n",
       "      <td>1036290101</td>\n",
       "      <td>Category A</td>\n",
       "      <td>Category AB</td>\n",
       "    </tr>\n",
       "  </tbody>\n",
       "</table>\n",
       "<p>5318761 rows × 8 columns</p>\n",
       "</div>"
      ],
      "text/plain": [
       "        TransactionDate StoreKey ProductKey  PromotionKey  BrandKey  \\\n",
       "0            2021-06-13      615      49492        348444      3521   \n",
       "1            2021-09-28      646      49492        295634      3521   \n",
       "2            2021-06-12      422      49492        348444      3521   \n",
       "3            2020-11-30      112      49492        293481      3521   \n",
       "4            2021-02-07      156      49492        289114      3521   \n",
       "...                 ...      ...        ...           ...       ...   \n",
       "5318756      2022-04-18      896      35032        317735      3521   \n",
       "5318757      2022-05-11      896      35032        287270      3521   \n",
       "5318758      2020-05-18      896      12234        272994      3521   \n",
       "5318759      2020-02-05      896      12234        267370      3521   \n",
       "5318760      2020-10-14      896      12354        263805      3521   \n",
       "\n",
       "         SupplierKey ProductCategory_Lvl1 ProductCategory_Lvl2  \n",
       "0         1036290101           Category A          Category AB  \n",
       "1         1036290101           Category A          Category AB  \n",
       "2         1036290101           Category A          Category AB  \n",
       "3         1036290101           Category A          Category AB  \n",
       "4         1036290101           Category A          Category AB  \n",
       "...              ...                  ...                  ...  \n",
       "5318756   1098896101           Category A          Category AB  \n",
       "5318757   1098896101           Category A          Category AB  \n",
       "5318758   1028407101           Category A          Category AC  \n",
       "5318759   1028407101           Category A          Category AC  \n",
       "5318760   1036290101           Category A          Category AB  \n",
       "\n",
       "[5318761 rows x 8 columns]"
      ]
     },
     "metadata": {},
     "output_type": "display_data"
    }
   ],
   "source": [
    "#changing productkeys on transactions_promo to string in order to merge with productions dataframe\n",
    "transactions_promo[\"ProductKey\"] = np.array([str(x) for x in transactions_promo[\"ProductKey\"]])\n",
    "transactions_promo_p = pd.merge(transactions_promo, products, on='ProductKey')\n",
    "display(transactions_promo_p)"
   ]
  },
  {
   "cell_type": "markdown",
   "id": "fffa805b",
   "metadata": {},
   "source": [
    "The last thing we need to merge in order to gather some statistical insights, is to finally merge promotions in the df.\n",
    "What we noticed though, is that the Promotionkey column name was added with a blank space. We will rename it."
   ]
  },
  {
   "cell_type": "code",
   "execution_count": 26,
   "id": "a82d272f",
   "metadata": {},
   "outputs": [
    {
     "data": {
      "text/plain": [
       "Index(['PromotionKey ', 'PromoMechanic', 'PromotionStartDate',\n",
       "       'PromotionEndDate'],\n",
       "      dtype='object')"
      ]
     },
     "execution_count": 26,
     "metadata": {},
     "output_type": "execute_result"
    }
   ],
   "source": [
    "transactions_promo_p.columns \n",
    "promotions.columns"
   ]
  },
  {
   "cell_type": "code",
   "execution_count": 27,
   "id": "d19bc022",
   "metadata": {},
   "outputs": [],
   "source": [
    "promotions.rename(columns={'PromotionKey ': 'PromotionKey'}, inplace=True)"
   ]
  },
  {
   "cell_type": "code",
   "execution_count": 28,
   "id": "fdc14047",
   "metadata": {},
   "outputs": [
    {
     "data": {
      "text/html": [
       "<div>\n",
       "<style scoped>\n",
       "    .dataframe tbody tr th:only-of-type {\n",
       "        vertical-align: middle;\n",
       "    }\n",
       "\n",
       "    .dataframe tbody tr th {\n",
       "        vertical-align: top;\n",
       "    }\n",
       "\n",
       "    .dataframe thead th {\n",
       "        text-align: right;\n",
       "    }\n",
       "</style>\n",
       "<table border=\"1\" class=\"dataframe\">\n",
       "  <thead>\n",
       "    <tr style=\"text-align: right;\">\n",
       "      <th></th>\n",
       "      <th>TransactionDate</th>\n",
       "      <th>StoreKey</th>\n",
       "      <th>ProductKey</th>\n",
       "      <th>PromotionKey</th>\n",
       "      <th>BrandKey</th>\n",
       "      <th>SupplierKey</th>\n",
       "      <th>ProductCategory_Lvl1</th>\n",
       "      <th>ProductCategory_Lvl2</th>\n",
       "      <th>PromoMechanic</th>\n",
       "      <th>PromotionStartDate</th>\n",
       "      <th>PromotionEndDate</th>\n",
       "    </tr>\n",
       "  </thead>\n",
       "  <tbody>\n",
       "    <tr>\n",
       "      <th>0</th>\n",
       "      <td>2021-06-13</td>\n",
       "      <td>615</td>\n",
       "      <td>49492</td>\n",
       "      <td>348444</td>\n",
       "      <td>3521</td>\n",
       "      <td>1036290101</td>\n",
       "      <td>Category A</td>\n",
       "      <td>Category AB</td>\n",
       "      <td>PWP</td>\n",
       "      <td>5/5/2021</td>\n",
       "      <td>6/30/2021</td>\n",
       "    </tr>\n",
       "    <tr>\n",
       "      <th>1</th>\n",
       "      <td>2021-06-12</td>\n",
       "      <td>422</td>\n",
       "      <td>49492</td>\n",
       "      <td>348444</td>\n",
       "      <td>3521</td>\n",
       "      <td>1036290101</td>\n",
       "      <td>Category A</td>\n",
       "      <td>Category AB</td>\n",
       "      <td>PWP</td>\n",
       "      <td>5/5/2021</td>\n",
       "      <td>6/30/2021</td>\n",
       "    </tr>\n",
       "    <tr>\n",
       "      <th>2</th>\n",
       "      <td>2021-06-16</td>\n",
       "      <td>184</td>\n",
       "      <td>49492</td>\n",
       "      <td>348444</td>\n",
       "      <td>3521</td>\n",
       "      <td>1036290101</td>\n",
       "      <td>Category A</td>\n",
       "      <td>Category AB</td>\n",
       "      <td>PWP</td>\n",
       "      <td>5/5/2021</td>\n",
       "      <td>6/30/2021</td>\n",
       "    </tr>\n",
       "    <tr>\n",
       "      <th>3</th>\n",
       "      <td>2021-06-21</td>\n",
       "      <td>655</td>\n",
       "      <td>49492</td>\n",
       "      <td>348444</td>\n",
       "      <td>3521</td>\n",
       "      <td>1036290101</td>\n",
       "      <td>Category A</td>\n",
       "      <td>Category AB</td>\n",
       "      <td>PWP</td>\n",
       "      <td>5/5/2021</td>\n",
       "      <td>6/30/2021</td>\n",
       "    </tr>\n",
       "    <tr>\n",
       "      <th>4</th>\n",
       "      <td>2021-06-04</td>\n",
       "      <td>491</td>\n",
       "      <td>49492</td>\n",
       "      <td>348444</td>\n",
       "      <td>3521</td>\n",
       "      <td>1036290101</td>\n",
       "      <td>Category A</td>\n",
       "      <td>Category AB</td>\n",
       "      <td>PWP</td>\n",
       "      <td>5/5/2021</td>\n",
       "      <td>6/30/2021</td>\n",
       "    </tr>\n",
       "    <tr>\n",
       "      <th>...</th>\n",
       "      <td>...</td>\n",
       "      <td>...</td>\n",
       "      <td>...</td>\n",
       "      <td>...</td>\n",
       "      <td>...</td>\n",
       "      <td>...</td>\n",
       "      <td>...</td>\n",
       "      <td>...</td>\n",
       "      <td>...</td>\n",
       "      <td>...</td>\n",
       "      <td>...</td>\n",
       "    </tr>\n",
       "    <tr>\n",
       "      <th>5318756</th>\n",
       "      <td>2021-12-31</td>\n",
       "      <td>896</td>\n",
       "      <td>35032</td>\n",
       "      <td>249247</td>\n",
       "      <td>3521</td>\n",
       "      <td>1098896101</td>\n",
       "      <td>Category A</td>\n",
       "      <td>Category AB</td>\n",
       "      <td>X units for $Y (X = 1)</td>\n",
       "      <td>10/15/2021</td>\n",
       "      <td>12/31/2021</td>\n",
       "    </tr>\n",
       "    <tr>\n",
       "      <th>5318757</th>\n",
       "      <td>2021-12-27</td>\n",
       "      <td>896</td>\n",
       "      <td>35032</td>\n",
       "      <td>249247</td>\n",
       "      <td>3521</td>\n",
       "      <td>1098896101</td>\n",
       "      <td>Category A</td>\n",
       "      <td>Category AB</td>\n",
       "      <td>X units for $Y (X = 1)</td>\n",
       "      <td>10/15/2021</td>\n",
       "      <td>12/31/2021</td>\n",
       "    </tr>\n",
       "    <tr>\n",
       "      <th>5318758</th>\n",
       "      <td>2021-03-08</td>\n",
       "      <td>896</td>\n",
       "      <td>12320</td>\n",
       "      <td>256408</td>\n",
       "      <td>3521</td>\n",
       "      <td>1028407101</td>\n",
       "      <td>Category A</td>\n",
       "      <td>Category AC</td>\n",
       "      <td>Buy $X for $Y</td>\n",
       "      <td>3/8/2021</td>\n",
       "      <td>3/8/2021</td>\n",
       "    </tr>\n",
       "    <tr>\n",
       "      <th>5318759</th>\n",
       "      <td>2022-05-25</td>\n",
       "      <td>896</td>\n",
       "      <td>35033</td>\n",
       "      <td>253180</td>\n",
       "      <td>3521</td>\n",
       "      <td>1098896101</td>\n",
       "      <td>Category A</td>\n",
       "      <td>Category AB</td>\n",
       "      <td>Buy $X for $Y</td>\n",
       "      <td>5/25/2022</td>\n",
       "      <td>5/27/2022</td>\n",
       "    </tr>\n",
       "    <tr>\n",
       "      <th>5318760</th>\n",
       "      <td>2022-05-26</td>\n",
       "      <td>896</td>\n",
       "      <td>35033</td>\n",
       "      <td>253180</td>\n",
       "      <td>3521</td>\n",
       "      <td>1098896101</td>\n",
       "      <td>Category A</td>\n",
       "      <td>Category AB</td>\n",
       "      <td>Buy $X for $Y</td>\n",
       "      <td>5/25/2022</td>\n",
       "      <td>5/27/2022</td>\n",
       "    </tr>\n",
       "  </tbody>\n",
       "</table>\n",
       "<p>5318761 rows × 11 columns</p>\n",
       "</div>"
      ],
      "text/plain": [
       "        TransactionDate StoreKey ProductKey  PromotionKey  BrandKey  \\\n",
       "0            2021-06-13      615      49492        348444      3521   \n",
       "1            2021-06-12      422      49492        348444      3521   \n",
       "2            2021-06-16      184      49492        348444      3521   \n",
       "3            2021-06-21      655      49492        348444      3521   \n",
       "4            2021-06-04      491      49492        348444      3521   \n",
       "...                 ...      ...        ...           ...       ...   \n",
       "5318756      2021-12-31      896      35032        249247      3521   \n",
       "5318757      2021-12-27      896      35032        249247      3521   \n",
       "5318758      2021-03-08      896      12320        256408      3521   \n",
       "5318759      2022-05-25      896      35033        253180      3521   \n",
       "5318760      2022-05-26      896      35033        253180      3521   \n",
       "\n",
       "         SupplierKey ProductCategory_Lvl1 ProductCategory_Lvl2  \\\n",
       "0         1036290101           Category A          Category AB   \n",
       "1         1036290101           Category A          Category AB   \n",
       "2         1036290101           Category A          Category AB   \n",
       "3         1036290101           Category A          Category AB   \n",
       "4         1036290101           Category A          Category AB   \n",
       "...              ...                  ...                  ...   \n",
       "5318756   1098896101           Category A          Category AB   \n",
       "5318757   1098896101           Category A          Category AB   \n",
       "5318758   1028407101           Category A          Category AC   \n",
       "5318759   1098896101           Category A          Category AB   \n",
       "5318760   1098896101           Category A          Category AB   \n",
       "\n",
       "                  PromoMechanic PromotionStartDate PromotionEndDate  \n",
       "0                           PWP           5/5/2021        6/30/2021  \n",
       "1                           PWP           5/5/2021        6/30/2021  \n",
       "2                           PWP           5/5/2021        6/30/2021  \n",
       "3                           PWP           5/5/2021        6/30/2021  \n",
       "4                           PWP           5/5/2021        6/30/2021  \n",
       "...                         ...                ...              ...  \n",
       "5318756  X units for $Y (X = 1)         10/15/2021       12/31/2021  \n",
       "5318757  X units for $Y (X = 1)         10/15/2021       12/31/2021  \n",
       "5318758           Buy $X for $Y           3/8/2021         3/8/2021  \n",
       "5318759           Buy $X for $Y          5/25/2022        5/27/2022  \n",
       "5318760           Buy $X for $Y          5/25/2022        5/27/2022  \n",
       "\n",
       "[5318761 rows x 11 columns]"
      ]
     },
     "metadata": {},
     "output_type": "display_data"
    }
   ],
   "source": [
    "#merging transaction promo on promotion keyy\n",
    "transactions_promo[\"TransactionDate\"].value_counts()\n",
    "promofin = pd.merge(transactions_promo_p, promotions, on='PromotionKey')\n",
    "display(promofin)"
   ]
  },
  {
   "cell_type": "code",
   "execution_count": 29,
   "id": "e9a66e7c",
   "metadata": {},
   "outputs": [
    {
     "name": "stdout",
     "output_type": "stream",
     "text": [
      "<class 'pandas.core.frame.DataFrame'>\n",
      "Int64Index: 5318761 entries, 0 to 5318760\n",
      "Data columns (total 11 columns):\n",
      " #   Column                Dtype         \n",
      "---  ------                -----         \n",
      " 0   TransactionDate       datetime64[ns]\n",
      " 1   StoreKey              object        \n",
      " 2   ProductKey            object        \n",
      " 3   PromotionKey          int64         \n",
      " 4   BrandKey              int64         \n",
      " 5   SupplierKey           int64         \n",
      " 6   ProductCategory_Lvl1  object        \n",
      " 7   ProductCategory_Lvl2  object        \n",
      " 8   PromoMechanic         object        \n",
      " 9   PromotionStartDate    object        \n",
      " 10  PromotionEndDate      object        \n",
      "dtypes: datetime64[ns](1), int64(3), object(7)\n",
      "memory usage: 486.9+ MB\n"
     ]
    }
   ],
   "source": [
    "promofin.info()"
   ]
  },
  {
   "cell_type": "code",
   "execution_count": 30,
   "id": "fefbb3af",
   "metadata": {},
   "outputs": [
    {
     "name": "stdout",
     "output_type": "stream",
     "text": [
      "<class 'pandas.core.frame.DataFrame'>\n",
      "Int64Index: 11437248 entries, 0 to 11437247\n",
      "Data columns (total 17 columns):\n",
      " #   Column                Dtype         \n",
      "---  ------                -----         \n",
      " 0   TransactionDate       datetime64[ns]\n",
      " 1   DayOfWeek             object        \n",
      " 2   WeekendFlag           object        \n",
      " 3   StoreKey              int32         \n",
      " 4   ProductKey            object        \n",
      " 5   UnitVolume            float64       \n",
      " 6   ActualSales           float64       \n",
      " 7   SalesDiscount         float64       \n",
      " 8   RetailFullPrice       float64       \n",
      " 9   BrandKey              int64         \n",
      " 10  SupplierKey           int64         \n",
      " 11  ProductCategory_Lvl1  object        \n",
      " 12  ProductCategory_Lvl2  object        \n",
      " 13  DistributionChannel   object        \n",
      " 14  StoreType             object        \n",
      " 15  Region_Lvl1           object        \n",
      " 16  Region_Lvl2           object        \n",
      "dtypes: datetime64[ns](1), float64(4), int32(1), int64(2), object(9)\n",
      "memory usage: 1.5+ GB\n"
     ]
    }
   ],
   "source": [
    "transactions_ps.info()"
   ]
  },
  {
   "attachments": {},
   "cell_type": "markdown",
   "id": "34ca0d86",
   "metadata": {},
   "source": [
    " By looking into the dataset, we notice that some storekeys are not well recorded, as some were added with \"key\" at the beginning. We will remove it."
   ]
  },
  {
   "cell_type": "code",
   "execution_count": 31,
   "id": "072dde87",
   "metadata": {},
   "outputs": [],
   "source": [
    "w4 = []\n",
    "for el in promofin[\"StoreKey\"]:\n",
    "    if \"key\" in el:\n",
    "        w4.append(int(el[4:]))\n",
    "    \n",
    "    else:\n",
    "        w4.append(int(el))\n",
    "\n",
    "\n",
    "promofin[\"StoreKey\"] = w4 \n"
   ]
  },
  {
   "cell_type": "code",
   "execution_count": 32,
   "id": "a42098b6",
   "metadata": {},
   "outputs": [
    {
     "data": {
      "text/html": [
       "<div>\n",
       "<style scoped>\n",
       "    .dataframe tbody tr th:only-of-type {\n",
       "        vertical-align: middle;\n",
       "    }\n",
       "\n",
       "    .dataframe tbody tr th {\n",
       "        vertical-align: top;\n",
       "    }\n",
       "\n",
       "    .dataframe thead th {\n",
       "        text-align: right;\n",
       "    }\n",
       "</style>\n",
       "<table border=\"1\" class=\"dataframe\">\n",
       "  <thead>\n",
       "    <tr style=\"text-align: right;\">\n",
       "      <th></th>\n",
       "      <th>TransactionDate</th>\n",
       "      <th>DayOfWeek</th>\n",
       "      <th>WeekendFlag</th>\n",
       "      <th>StoreKey</th>\n",
       "      <th>ProductKey</th>\n",
       "      <th>UnitVolume</th>\n",
       "      <th>ActualSales</th>\n",
       "      <th>SalesDiscount</th>\n",
       "      <th>RetailFullPrice</th>\n",
       "      <th>BrandKey</th>\n",
       "      <th>...</th>\n",
       "      <th>ProductCategory_Lvl1</th>\n",
       "      <th>ProductCategory_Lvl2</th>\n",
       "      <th>DistributionChannel</th>\n",
       "      <th>StoreType</th>\n",
       "      <th>Region_Lvl1</th>\n",
       "      <th>Region_Lvl2</th>\n",
       "      <th>PromotionKey</th>\n",
       "      <th>PromoMechanic</th>\n",
       "      <th>PromotionStartDate</th>\n",
       "      <th>PromotionEndDate</th>\n",
       "    </tr>\n",
       "  </thead>\n",
       "  <tbody>\n",
       "    <tr>\n",
       "      <th>0</th>\n",
       "      <td>2020-01-29</td>\n",
       "      <td>Wednesday</td>\n",
       "      <td>False</td>\n",
       "      <td>118</td>\n",
       "      <td>49334</td>\n",
       "      <td>2.0</td>\n",
       "      <td>103.3508</td>\n",
       "      <td>-16.8736</td>\n",
       "      <td>120.2244</td>\n",
       "      <td>3521</td>\n",
       "      <td>...</td>\n",
       "      <td>Category A</td>\n",
       "      <td>Category AC</td>\n",
       "      <td>Physical</td>\n",
       "      <td>Store Type B</td>\n",
       "      <td>RegionB</td>\n",
       "      <td>Region 17</td>\n",
       "      <td>306999.0</td>\n",
       "      <td>X units for $Y (X = 1)</td>\n",
       "      <td>12/19/2019</td>\n",
       "      <td>2/10/2020</td>\n",
       "    </tr>\n",
       "    <tr>\n",
       "      <th>1</th>\n",
       "      <td>2022-02-26</td>\n",
       "      <td>Saturday</td>\n",
       "      <td>True</td>\n",
       "      <td>118</td>\n",
       "      <td>49334</td>\n",
       "      <td>7.0</td>\n",
       "      <td>402.3299</td>\n",
       "      <td>0.0000</td>\n",
       "      <td>402.3299</td>\n",
       "      <td>3521</td>\n",
       "      <td>...</td>\n",
       "      <td>Category A</td>\n",
       "      <td>Category AC</td>\n",
       "      <td>Physical</td>\n",
       "      <td>Store Type B</td>\n",
       "      <td>RegionB</td>\n",
       "      <td>Region 17</td>\n",
       "      <td>No Promo</td>\n",
       "      <td>No Promo</td>\n",
       "      <td>No Promo</td>\n",
       "      <td>No Promo</td>\n",
       "    </tr>\n",
       "    <tr>\n",
       "      <th>2</th>\n",
       "      <td>2020-09-24</td>\n",
       "      <td>Thursday</td>\n",
       "      <td>False</td>\n",
       "      <td>118</td>\n",
       "      <td>49334</td>\n",
       "      <td>3.0</td>\n",
       "      <td>166.0995</td>\n",
       "      <td>-14.2371</td>\n",
       "      <td>180.3366</td>\n",
       "      <td>3521</td>\n",
       "      <td>...</td>\n",
       "      <td>Category A</td>\n",
       "      <td>Category AC</td>\n",
       "      <td>Physical</td>\n",
       "      <td>Store Type B</td>\n",
       "      <td>RegionB</td>\n",
       "      <td>Region 17</td>\n",
       "      <td>290577.0</td>\n",
       "      <td>X units for $Y (X = 1)</td>\n",
       "      <td>8/24/2020</td>\n",
       "      <td>10/5/2020</td>\n",
       "    </tr>\n",
       "    <tr>\n",
       "      <th>3</th>\n",
       "      <td>2021-01-19</td>\n",
       "      <td>Tuesday</td>\n",
       "      <td>False</td>\n",
       "      <td>118</td>\n",
       "      <td>49334</td>\n",
       "      <td>4.0</td>\n",
       "      <td>229.9028</td>\n",
       "      <td>-21.0920</td>\n",
       "      <td>250.9948</td>\n",
       "      <td>3521</td>\n",
       "      <td>...</td>\n",
       "      <td>Category A</td>\n",
       "      <td>Category AC</td>\n",
       "      <td>Physical</td>\n",
       "      <td>Store Type B</td>\n",
       "      <td>RegionB</td>\n",
       "      <td>Region 17</td>\n",
       "      <td>272917.0</td>\n",
       "      <td>X units for $Y (X = 1)</td>\n",
       "      <td>12/21/2020</td>\n",
       "      <td>1/25/2021</td>\n",
       "    </tr>\n",
       "    <tr>\n",
       "      <th>4</th>\n",
       "      <td>2020-02-26</td>\n",
       "      <td>Wednesday</td>\n",
       "      <td>False</td>\n",
       "      <td>118</td>\n",
       "      <td>49334</td>\n",
       "      <td>2.0</td>\n",
       "      <td>114.9514</td>\n",
       "      <td>-5.2730</td>\n",
       "      <td>120.2244</td>\n",
       "      <td>3521</td>\n",
       "      <td>...</td>\n",
       "      <td>Category A</td>\n",
       "      <td>Category AC</td>\n",
       "      <td>Physical</td>\n",
       "      <td>Store Type B</td>\n",
       "      <td>RegionB</td>\n",
       "      <td>Region 17</td>\n",
       "      <td>319702.0</td>\n",
       "      <td>X units for $Y (X = 1)</td>\n",
       "      <td>1/18/2020</td>\n",
       "      <td>3/4/2020</td>\n",
       "    </tr>\n",
       "    <tr>\n",
       "      <th>...</th>\n",
       "      <td>...</td>\n",
       "      <td>...</td>\n",
       "      <td>...</td>\n",
       "      <td>...</td>\n",
       "      <td>...</td>\n",
       "      <td>...</td>\n",
       "      <td>...</td>\n",
       "      <td>...</td>\n",
       "      <td>...</td>\n",
       "      <td>...</td>\n",
       "      <td>...</td>\n",
       "      <td>...</td>\n",
       "      <td>...</td>\n",
       "      <td>...</td>\n",
       "      <td>...</td>\n",
       "      <td>...</td>\n",
       "      <td>...</td>\n",
       "      <td>...</td>\n",
       "      <td>...</td>\n",
       "      <td>...</td>\n",
       "      <td>...</td>\n",
       "    </tr>\n",
       "    <tr>\n",
       "      <th>11437243</th>\n",
       "      <td>2022-12-09</td>\n",
       "      <td>Friday</td>\n",
       "      <td>False</td>\n",
       "      <td>748</td>\n",
       "      <td>93291</td>\n",
       "      <td>36.0</td>\n",
       "      <td>569.4840</td>\n",
       "      <td>-854.2260</td>\n",
       "      <td>1423.7100</td>\n",
       "      <td>3521</td>\n",
       "      <td>...</td>\n",
       "      <td>Category A</td>\n",
       "      <td>Category AB</td>\n",
       "      <td>Physical</td>\n",
       "      <td>Other</td>\n",
       "      <td>RegionA</td>\n",
       "      <td>Region 30</td>\n",
       "      <td>377551.0</td>\n",
       "      <td>X units for $Y (X = 1)</td>\n",
       "      <td>11/24/2022</td>\n",
       "      <td>12/11/2022</td>\n",
       "    </tr>\n",
       "    <tr>\n",
       "      <th>11437244</th>\n",
       "      <td>2022-12-02</td>\n",
       "      <td>Friday</td>\n",
       "      <td>False</td>\n",
       "      <td>748</td>\n",
       "      <td>93291</td>\n",
       "      <td>72.0</td>\n",
       "      <td>1138.9680</td>\n",
       "      <td>-1708.4520</td>\n",
       "      <td>2847.4200</td>\n",
       "      <td>3521</td>\n",
       "      <td>...</td>\n",
       "      <td>Category A</td>\n",
       "      <td>Category AB</td>\n",
       "      <td>Physical</td>\n",
       "      <td>Other</td>\n",
       "      <td>RegionA</td>\n",
       "      <td>Region 30</td>\n",
       "      <td>377551.0</td>\n",
       "      <td>X units for $Y (X = 1)</td>\n",
       "      <td>11/24/2022</td>\n",
       "      <td>12/11/2022</td>\n",
       "    </tr>\n",
       "    <tr>\n",
       "      <th>11437245</th>\n",
       "      <td>2022-12-02</td>\n",
       "      <td>Friday</td>\n",
       "      <td>False</td>\n",
       "      <td>748</td>\n",
       "      <td>93291</td>\n",
       "      <td>72.0</td>\n",
       "      <td>1138.9680</td>\n",
       "      <td>-1708.4520</td>\n",
       "      <td>2847.4200</td>\n",
       "      <td>3521</td>\n",
       "      <td>...</td>\n",
       "      <td>Category A</td>\n",
       "      <td>Category AB</td>\n",
       "      <td>Physical</td>\n",
       "      <td>Other</td>\n",
       "      <td>RegionA</td>\n",
       "      <td>Region 30</td>\n",
       "      <td>377551.0</td>\n",
       "      <td>X units for $Y (X = 1)</td>\n",
       "      <td>11/24/2022</td>\n",
       "      <td>12/11/2022</td>\n",
       "    </tr>\n",
       "    <tr>\n",
       "      <th>11437246</th>\n",
       "      <td>2022-12-10</td>\n",
       "      <td>Saturday</td>\n",
       "      <td>True</td>\n",
       "      <td>748</td>\n",
       "      <td>93291</td>\n",
       "      <td>37.0</td>\n",
       "      <td>585.3030</td>\n",
       "      <td>-877.9545</td>\n",
       "      <td>1463.2575</td>\n",
       "      <td>3521</td>\n",
       "      <td>...</td>\n",
       "      <td>Category A</td>\n",
       "      <td>Category AB</td>\n",
       "      <td>Physical</td>\n",
       "      <td>Other</td>\n",
       "      <td>RegionA</td>\n",
       "      <td>Region 30</td>\n",
       "      <td>377551.0</td>\n",
       "      <td>X units for $Y (X = 1)</td>\n",
       "      <td>11/24/2022</td>\n",
       "      <td>12/11/2022</td>\n",
       "    </tr>\n",
       "    <tr>\n",
       "      <th>11437247</th>\n",
       "      <td>2022-12-10</td>\n",
       "      <td>Saturday</td>\n",
       "      <td>True</td>\n",
       "      <td>748</td>\n",
       "      <td>93291</td>\n",
       "      <td>37.0</td>\n",
       "      <td>585.3030</td>\n",
       "      <td>-877.9545</td>\n",
       "      <td>1463.2575</td>\n",
       "      <td>3521</td>\n",
       "      <td>...</td>\n",
       "      <td>Category A</td>\n",
       "      <td>Category AB</td>\n",
       "      <td>Physical</td>\n",
       "      <td>Other</td>\n",
       "      <td>RegionA</td>\n",
       "      <td>Region 30</td>\n",
       "      <td>377551.0</td>\n",
       "      <td>X units for $Y (X = 1)</td>\n",
       "      <td>11/24/2022</td>\n",
       "      <td>12/11/2022</td>\n",
       "    </tr>\n",
       "  </tbody>\n",
       "</table>\n",
       "<p>11437248 rows × 21 columns</p>\n",
       "</div>"
      ],
      "text/plain": [
       "         TransactionDate  DayOfWeek WeekendFlag  StoreKey ProductKey  \\\n",
       "0             2020-01-29  Wednesday       False       118      49334   \n",
       "1             2022-02-26   Saturday        True       118      49334   \n",
       "2             2020-09-24   Thursday       False       118      49334   \n",
       "3             2021-01-19    Tuesday       False       118      49334   \n",
       "4             2020-02-26  Wednesday       False       118      49334   \n",
       "...                  ...        ...         ...       ...        ...   \n",
       "11437243      2022-12-09     Friday       False       748      93291   \n",
       "11437244      2022-12-02     Friday       False       748      93291   \n",
       "11437245      2022-12-02     Friday       False       748      93291   \n",
       "11437246      2022-12-10   Saturday        True       748      93291   \n",
       "11437247      2022-12-10   Saturday        True       748      93291   \n",
       "\n",
       "          UnitVolume  ActualSales  SalesDiscount  RetailFullPrice  BrandKey  \\\n",
       "0                2.0     103.3508       -16.8736         120.2244      3521   \n",
       "1                7.0     402.3299         0.0000         402.3299      3521   \n",
       "2                3.0     166.0995       -14.2371         180.3366      3521   \n",
       "3                4.0     229.9028       -21.0920         250.9948      3521   \n",
       "4                2.0     114.9514        -5.2730         120.2244      3521   \n",
       "...              ...          ...            ...              ...       ...   \n",
       "11437243        36.0     569.4840      -854.2260        1423.7100      3521   \n",
       "11437244        72.0    1138.9680     -1708.4520        2847.4200      3521   \n",
       "11437245        72.0    1138.9680     -1708.4520        2847.4200      3521   \n",
       "11437246        37.0     585.3030      -877.9545        1463.2575      3521   \n",
       "11437247        37.0     585.3030      -877.9545        1463.2575      3521   \n",
       "\n",
       "          ...  ProductCategory_Lvl1 ProductCategory_Lvl2 DistributionChannel  \\\n",
       "0         ...            Category A          Category AC            Physical   \n",
       "1         ...            Category A          Category AC            Physical   \n",
       "2         ...            Category A          Category AC            Physical   \n",
       "3         ...            Category A          Category AC            Physical   \n",
       "4         ...            Category A          Category AC            Physical   \n",
       "...       ...                   ...                  ...                 ...   \n",
       "11437243  ...            Category A          Category AB            Physical   \n",
       "11437244  ...            Category A          Category AB            Physical   \n",
       "11437245  ...            Category A          Category AB            Physical   \n",
       "11437246  ...            Category A          Category AB            Physical   \n",
       "11437247  ...            Category A          Category AB            Physical   \n",
       "\n",
       "             StoreType Region_Lvl1 Region_Lvl2 PromotionKey  \\\n",
       "0         Store Type B     RegionB   Region 17     306999.0   \n",
       "1         Store Type B     RegionB   Region 17     No Promo   \n",
       "2         Store Type B     RegionB   Region 17     290577.0   \n",
       "3         Store Type B     RegionB   Region 17     272917.0   \n",
       "4         Store Type B     RegionB   Region 17     319702.0   \n",
       "...                ...         ...         ...          ...   \n",
       "11437243         Other     RegionA   Region 30     377551.0   \n",
       "11437244         Other     RegionA   Region 30     377551.0   \n",
       "11437245         Other     RegionA   Region 30     377551.0   \n",
       "11437246         Other     RegionA   Region 30     377551.0   \n",
       "11437247         Other     RegionA   Region 30     377551.0   \n",
       "\n",
       "                   PromoMechanic PromotionStartDate PromotionEndDate  \n",
       "0         X units for $Y (X = 1)         12/19/2019        2/10/2020  \n",
       "1                       No Promo           No Promo         No Promo  \n",
       "2         X units for $Y (X = 1)          8/24/2020        10/5/2020  \n",
       "3         X units for $Y (X = 1)         12/21/2020        1/25/2021  \n",
       "4         X units for $Y (X = 1)          1/18/2020         3/4/2020  \n",
       "...                          ...                ...              ...  \n",
       "11437243  X units for $Y (X = 1)         11/24/2022       12/11/2022  \n",
       "11437244  X units for $Y (X = 1)         11/24/2022       12/11/2022  \n",
       "11437245  X units for $Y (X = 1)         11/24/2022       12/11/2022  \n",
       "11437246  X units for $Y (X = 1)         11/24/2022       12/11/2022  \n",
       "11437247  X units for $Y (X = 1)         11/24/2022       12/11/2022  \n",
       "\n",
       "[11437248 rows x 21 columns]"
      ]
     },
     "metadata": {},
     "output_type": "display_data"
    }
   ],
   "source": [
    "total_products= pd.merge(transactions_ps, promofin, on=['TransactionDate', 'StoreKey', 'ProductKey', 'BrandKey', 'SupplierKey', 'ProductCategory_Lvl1', 'ProductCategory_Lvl2'], how='left')\n",
    "\n",
    "\n",
    "# Fill in missing values with data from the promofin dataframe\n",
    "total_products['PromotionKey'].fillna('No Promo', inplace = True)\n",
    "total_products['PromoMechanic'].fillna('No Promo', inplace=True)\n",
    "total_products['PromotionStartDate'].fillna('No Promo', inplace = True)\n",
    "total_products['PromotionEndDate'].fillna('No Promo', inplace = True)\n",
    "display(total_products)"
   ]
  },
  {
   "cell_type": "markdown",
   "id": "c1864844",
   "metadata": {},
   "source": [
    "Finally, we merge them all so that we can easily extract the relevant information and check for some insightful statistics about sold promoted products."
   ]
  },
  {
   "cell_type": "code",
   "execution_count": 33,
   "id": "5481f82c",
   "metadata": {},
   "outputs": [
    {
     "data": {
      "text/html": [
       "<div>\n",
       "<style scoped>\n",
       "    .dataframe tbody tr th:only-of-type {\n",
       "        vertical-align: middle;\n",
       "    }\n",
       "\n",
       "    .dataframe tbody tr th {\n",
       "        vertical-align: top;\n",
       "    }\n",
       "\n",
       "    .dataframe thead th {\n",
       "        text-align: right;\n",
       "    }\n",
       "</style>\n",
       "<table border=\"1\" class=\"dataframe\">\n",
       "  <thead>\n",
       "    <tr style=\"text-align: right;\">\n",
       "      <th></th>\n",
       "      <th>TransactionDate</th>\n",
       "      <th>DayOfWeek</th>\n",
       "      <th>WeekendFlag</th>\n",
       "      <th>StoreKey</th>\n",
       "      <th>ProductKey</th>\n",
       "      <th>UnitVolume</th>\n",
       "      <th>ActualSales</th>\n",
       "      <th>SalesDiscount</th>\n",
       "      <th>RetailFullPrice</th>\n",
       "      <th>BrandKey</th>\n",
       "      <th>SupplierKey</th>\n",
       "      <th>ProductCategory_Lvl1</th>\n",
       "      <th>ProductCategory_Lvl2</th>\n",
       "      <th>DistributionChannel</th>\n",
       "      <th>StoreType</th>\n",
       "      <th>Region_Lvl1</th>\n",
       "      <th>Region_Lvl2</th>\n",
       "    </tr>\n",
       "  </thead>\n",
       "  <tbody>\n",
       "    <tr>\n",
       "      <th>1</th>\n",
       "      <td>2022-02-26</td>\n",
       "      <td>Saturday</td>\n",
       "      <td>True</td>\n",
       "      <td>118</td>\n",
       "      <td>49334</td>\n",
       "      <td>7.0</td>\n",
       "      <td>402.3299</td>\n",
       "      <td>0.0</td>\n",
       "      <td>402.3299</td>\n",
       "      <td>3521</td>\n",
       "      <td>1028407101</td>\n",
       "      <td>Category A</td>\n",
       "      <td>Category AC</td>\n",
       "      <td>Physical</td>\n",
       "      <td>Store Type B</td>\n",
       "      <td>RegionB</td>\n",
       "      <td>Region 17</td>\n",
       "    </tr>\n",
       "    <tr>\n",
       "      <th>6</th>\n",
       "      <td>2020-08-29</td>\n",
       "      <td>Saturday</td>\n",
       "      <td>True</td>\n",
       "      <td>118</td>\n",
       "      <td>49334</td>\n",
       "      <td>8.0</td>\n",
       "      <td>480.8976</td>\n",
       "      <td>0.0</td>\n",
       "      <td>480.8976</td>\n",
       "      <td>3521</td>\n",
       "      <td>1028407101</td>\n",
       "      <td>Category A</td>\n",
       "      <td>Category AC</td>\n",
       "      <td>Physical</td>\n",
       "      <td>Store Type B</td>\n",
       "      <td>RegionB</td>\n",
       "      <td>Region 17</td>\n",
       "    </tr>\n",
       "    <tr>\n",
       "      <th>7</th>\n",
       "      <td>2021-05-10</td>\n",
       "      <td>Monday</td>\n",
       "      <td>False</td>\n",
       "      <td>118</td>\n",
       "      <td>49334</td>\n",
       "      <td>4.0</td>\n",
       "      <td>208.8108</td>\n",
       "      <td>0.0</td>\n",
       "      <td>208.8108</td>\n",
       "      <td>3521</td>\n",
       "      <td>1028407101</td>\n",
       "      <td>Category A</td>\n",
       "      <td>Category AC</td>\n",
       "      <td>Physical</td>\n",
       "      <td>Store Type B</td>\n",
       "      <td>RegionB</td>\n",
       "      <td>Region 17</td>\n",
       "    </tr>\n",
       "    <tr>\n",
       "      <th>14</th>\n",
       "      <td>2021-11-04</td>\n",
       "      <td>Thursday</td>\n",
       "      <td>False</td>\n",
       "      <td>118</td>\n",
       "      <td>49334</td>\n",
       "      <td>5.0</td>\n",
       "      <td>313.7435</td>\n",
       "      <td>0.0</td>\n",
       "      <td>313.7435</td>\n",
       "      <td>3521</td>\n",
       "      <td>1028407101</td>\n",
       "      <td>Category A</td>\n",
       "      <td>Category AC</td>\n",
       "      <td>Physical</td>\n",
       "      <td>Store Type B</td>\n",
       "      <td>RegionB</td>\n",
       "      <td>Region 17</td>\n",
       "    </tr>\n",
       "    <tr>\n",
       "      <th>16</th>\n",
       "      <td>2022-05-18</td>\n",
       "      <td>Wednesday</td>\n",
       "      <td>False</td>\n",
       "      <td>118</td>\n",
       "      <td>49334</td>\n",
       "      <td>3.0</td>\n",
       "      <td>172.4271</td>\n",
       "      <td>0.0</td>\n",
       "      <td>172.4271</td>\n",
       "      <td>3521</td>\n",
       "      <td>1028407101</td>\n",
       "      <td>Category A</td>\n",
       "      <td>Category AC</td>\n",
       "      <td>Physical</td>\n",
       "      <td>Store Type B</td>\n",
       "      <td>RegionB</td>\n",
       "      <td>Region 17</td>\n",
       "    </tr>\n",
       "    <tr>\n",
       "      <th>...</th>\n",
       "      <td>...</td>\n",
       "      <td>...</td>\n",
       "      <td>...</td>\n",
       "      <td>...</td>\n",
       "      <td>...</td>\n",
       "      <td>...</td>\n",
       "      <td>...</td>\n",
       "      <td>...</td>\n",
       "      <td>...</td>\n",
       "      <td>...</td>\n",
       "      <td>...</td>\n",
       "      <td>...</td>\n",
       "      <td>...</td>\n",
       "      <td>...</td>\n",
       "      <td>...</td>\n",
       "      <td>...</td>\n",
       "      <td>...</td>\n",
       "    </tr>\n",
       "    <tr>\n",
       "      <th>11437143</th>\n",
       "      <td>2022-11-25</td>\n",
       "      <td>Friday</td>\n",
       "      <td>False</td>\n",
       "      <td>726</td>\n",
       "      <td>87723</td>\n",
       "      <td>12.0</td>\n",
       "      <td>373.3284</td>\n",
       "      <td>0.0</td>\n",
       "      <td>373.3284</td>\n",
       "      <td>3521</td>\n",
       "      <td>1098896101</td>\n",
       "      <td>Category A</td>\n",
       "      <td>Category AB</td>\n",
       "      <td>Physical</td>\n",
       "      <td>Other</td>\n",
       "      <td>RegionA</td>\n",
       "      <td>Region 30</td>\n",
       "    </tr>\n",
       "    <tr>\n",
       "      <th>11437169</th>\n",
       "      <td>2022-12-01</td>\n",
       "      <td>Thursday</td>\n",
       "      <td>False</td>\n",
       "      <td>731</td>\n",
       "      <td>14412</td>\n",
       "      <td>5.0</td>\n",
       "      <td>155.5535</td>\n",
       "      <td>0.0</td>\n",
       "      <td>155.5535</td>\n",
       "      <td>3521</td>\n",
       "      <td>1098896101</td>\n",
       "      <td>Category A</td>\n",
       "      <td>Category AB</td>\n",
       "      <td>Physical</td>\n",
       "      <td>Other</td>\n",
       "      <td>RegionA</td>\n",
       "      <td>Region 30</td>\n",
       "    </tr>\n",
       "    <tr>\n",
       "      <th>11437170</th>\n",
       "      <td>2022-11-29</td>\n",
       "      <td>Tuesday</td>\n",
       "      <td>False</td>\n",
       "      <td>731</td>\n",
       "      <td>14412</td>\n",
       "      <td>2.0</td>\n",
       "      <td>62.2214</td>\n",
       "      <td>0.0</td>\n",
       "      <td>62.2214</td>\n",
       "      <td>3521</td>\n",
       "      <td>1098896101</td>\n",
       "      <td>Category A</td>\n",
       "      <td>Category AB</td>\n",
       "      <td>Physical</td>\n",
       "      <td>Other</td>\n",
       "      <td>RegionA</td>\n",
       "      <td>Region 30</td>\n",
       "    </tr>\n",
       "    <tr>\n",
       "      <th>11437183</th>\n",
       "      <td>2022-11-29</td>\n",
       "      <td>Tuesday</td>\n",
       "      <td>False</td>\n",
       "      <td>731</td>\n",
       "      <td>14397</td>\n",
       "      <td>3.0</td>\n",
       "      <td>93.3321</td>\n",
       "      <td>0.0</td>\n",
       "      <td>93.3321</td>\n",
       "      <td>3521</td>\n",
       "      <td>1098896101</td>\n",
       "      <td>Category A</td>\n",
       "      <td>Category AB</td>\n",
       "      <td>Physical</td>\n",
       "      <td>Other</td>\n",
       "      <td>RegionA</td>\n",
       "      <td>Region 30</td>\n",
       "    </tr>\n",
       "    <tr>\n",
       "      <th>11437184</th>\n",
       "      <td>2022-11-30</td>\n",
       "      <td>Wednesday</td>\n",
       "      <td>False</td>\n",
       "      <td>731</td>\n",
       "      <td>14435</td>\n",
       "      <td>12.0</td>\n",
       "      <td>411.2940</td>\n",
       "      <td>0.0</td>\n",
       "      <td>411.2940</td>\n",
       "      <td>3521</td>\n",
       "      <td>1098896101</td>\n",
       "      <td>Category A</td>\n",
       "      <td>Category AB</td>\n",
       "      <td>Physical</td>\n",
       "      <td>Other</td>\n",
       "      <td>RegionA</td>\n",
       "      <td>Region 30</td>\n",
       "    </tr>\n",
       "  </tbody>\n",
       "</table>\n",
       "<p>5594091 rows × 17 columns</p>\n",
       "</div>"
      ],
      "text/plain": [
       "         TransactionDate  DayOfWeek WeekendFlag  StoreKey ProductKey  \\\n",
       "1             2022-02-26   Saturday        True       118      49334   \n",
       "6             2020-08-29   Saturday        True       118      49334   \n",
       "7             2021-05-10     Monday       False       118      49334   \n",
       "14            2021-11-04   Thursday       False       118      49334   \n",
       "16            2022-05-18  Wednesday       False       118      49334   \n",
       "...                  ...        ...         ...       ...        ...   \n",
       "11437143      2022-11-25     Friday       False       726      87723   \n",
       "11437169      2022-12-01   Thursday       False       731      14412   \n",
       "11437170      2022-11-29    Tuesday       False       731      14412   \n",
       "11437183      2022-11-29    Tuesday       False       731      14397   \n",
       "11437184      2022-11-30  Wednesday       False       731      14435   \n",
       "\n",
       "          UnitVolume  ActualSales  SalesDiscount  RetailFullPrice  BrandKey  \\\n",
       "1                7.0     402.3299            0.0         402.3299      3521   \n",
       "6                8.0     480.8976            0.0         480.8976      3521   \n",
       "7                4.0     208.8108            0.0         208.8108      3521   \n",
       "14               5.0     313.7435            0.0         313.7435      3521   \n",
       "16               3.0     172.4271            0.0         172.4271      3521   \n",
       "...              ...          ...            ...              ...       ...   \n",
       "11437143        12.0     373.3284            0.0         373.3284      3521   \n",
       "11437169         5.0     155.5535            0.0         155.5535      3521   \n",
       "11437170         2.0      62.2214            0.0          62.2214      3521   \n",
       "11437183         3.0      93.3321            0.0          93.3321      3521   \n",
       "11437184        12.0     411.2940            0.0         411.2940      3521   \n",
       "\n",
       "          SupplierKey ProductCategory_Lvl1 ProductCategory_Lvl2  \\\n",
       "1          1028407101           Category A          Category AC   \n",
       "6          1028407101           Category A          Category AC   \n",
       "7          1028407101           Category A          Category AC   \n",
       "14         1028407101           Category A          Category AC   \n",
       "16         1028407101           Category A          Category AC   \n",
       "...               ...                  ...                  ...   \n",
       "11437143   1098896101           Category A          Category AB   \n",
       "11437169   1098896101           Category A          Category AB   \n",
       "11437170   1098896101           Category A          Category AB   \n",
       "11437183   1098896101           Category A          Category AB   \n",
       "11437184   1098896101           Category A          Category AB   \n",
       "\n",
       "         DistributionChannel     StoreType Region_Lvl1 Region_Lvl2  \n",
       "1                   Physical  Store Type B     RegionB   Region 17  \n",
       "6                   Physical  Store Type B     RegionB   Region 17  \n",
       "7                   Physical  Store Type B     RegionB   Region 17  \n",
       "14                  Physical  Store Type B     RegionB   Region 17  \n",
       "16                  Physical  Store Type B     RegionB   Region 17  \n",
       "...                      ...           ...         ...         ...  \n",
       "11437143            Physical         Other     RegionA   Region 30  \n",
       "11437169            Physical         Other     RegionA   Region 30  \n",
       "11437170            Physical         Other     RegionA   Region 30  \n",
       "11437183            Physical         Other     RegionA   Region 30  \n",
       "11437184            Physical         Other     RegionA   Region 30  \n",
       "\n",
       "[5594091 rows x 17 columns]"
      ]
     },
     "metadata": {},
     "output_type": "display_data"
    },
    {
     "name": "stdout",
     "output_type": "stream",
     "text": [
      "Category A    11437248\n",
      "Name: ProductCategory_Lvl1, dtype: int64\n"
     ]
    }
   ],
   "source": [
    "txs_not_discounted = transactions_ps[transactions_ps[\"SalesDiscount\"] == 0]\n",
    "display(txs_not_discounted)\n",
    "print(total_products['ProductCategory_Lvl1'].value_counts())"
   ]
  },
  {
   "cell_type": "markdown",
   "id": "752c8386",
   "metadata": {},
   "source": [
    "## Second task: Product category and performance\n",
    "\n",
    "In this part of the project we dive into the products analysis. We will start with computing relevant statistics on certain products and afterwards, we will focus on identifying general and insightful trends that can be valuable for the business, providing a framework that can be used for future studies and further analysis."
   ]
  },
  {
   "attachments": {},
   "cell_type": "markdown",
   "id": "64d7cb82",
   "metadata": {},
   "source": [
    "Beforehand, we get the statistics asked in the first task below!"
   ]
  },
  {
   "cell_type": "code",
   "execution_count": 34,
   "id": "6354bb71",
   "metadata": {},
   "outputs": [
    {
     "name": "stdout",
     "output_type": "stream",
     "text": [
      "The total sum of sales is: 3213385049.5526\n"
     ]
    }
   ],
   "source": [
    "sum_of_sales  = np.sum(total_products['ActualSales'])\n",
    "print(f'The total sum of sales is: {round(sum_of_sales , 4)}')"
   ]
  },
  {
   "cell_type": "code",
   "execution_count": 35,
   "id": "8543162b",
   "metadata": {},
   "outputs": [
    {
     "name": "stdout",
     "output_type": "stream",
     "text": [
      "The total sum of volume is: 28068262.0\n"
     ]
    }
   ],
   "source": [
    "sum_of_volumes = np.sum(total_products['UnitVolume'])\n",
    "# print(sum_of_volumes)\n",
    "print(f'The total sum of volume is: {round(sum_of_volumes , 4)}')"
   ]
  },
  {
   "cell_type": "code",
   "execution_count": 36,
   "id": "3de10456",
   "metadata": {},
   "outputs": [
    {
     "name": "stdout",
     "output_type": "stream",
     "text": [
      "The total sum of discounts is: -140909657.7063\n"
     ]
    }
   ],
   "source": [
    "sum_of_discounts = np.sum(total_products['SalesDiscount'])\n",
    "# print(round(sum_of_discounts, 2))\n",
    "print(f'The total sum of discounts is: {round(sum_of_discounts , 4)}')"
   ]
  },
  {
   "cell_type": "markdown",
   "id": "07f882d5",
   "metadata": {},
   "source": [
    "Here we display the dataframe showing the discount applied for each PromoMechanic rule."
   ]
  },
  {
   "cell_type": "code",
   "execution_count": 37,
   "id": "ebb17f41",
   "metadata": {},
   "outputs": [
    {
     "data": {
      "text/html": [
       "<div>\n",
       "<style scoped>\n",
       "    .dataframe tbody tr th:only-of-type {\n",
       "        vertical-align: middle;\n",
       "    }\n",
       "\n",
       "    .dataframe tbody tr th {\n",
       "        vertical-align: top;\n",
       "    }\n",
       "\n",
       "    .dataframe thead th {\n",
       "        text-align: right;\n",
       "    }\n",
       "</style>\n",
       "<table border=\"1\" class=\"dataframe\">\n",
       "  <thead>\n",
       "    <tr style=\"text-align: right;\">\n",
       "      <th></th>\n",
       "      <th>PromoMechanic</th>\n",
       "      <th>SalesDiscount</th>\n",
       "    </tr>\n",
       "  </thead>\n",
       "  <tbody>\n",
       "    <tr>\n",
       "      <th>0</th>\n",
       "      <td>Buy $X for $Y</td>\n",
       "      <td>-1.011187e+07</td>\n",
       "    </tr>\n",
       "    <tr>\n",
       "      <th>1</th>\n",
       "      <td>Buy $X for Y%</td>\n",
       "      <td>-2.063721e+05</td>\n",
       "    </tr>\n",
       "    <tr>\n",
       "      <th>2</th>\n",
       "      <td>Buy X free X</td>\n",
       "      <td>-8.757020e+06</td>\n",
       "    </tr>\n",
       "    <tr>\n",
       "      <th>3</th>\n",
       "      <td>No Promo</td>\n",
       "      <td>-8.062417e+01</td>\n",
       "    </tr>\n",
       "    <tr>\n",
       "      <th>4</th>\n",
       "      <td>PWP</td>\n",
       "      <td>-3.975749e+07</td>\n",
       "    </tr>\n",
       "    <tr>\n",
       "      <th>5</th>\n",
       "      <td>Percentage off</td>\n",
       "      <td>-6.302129e+06</td>\n",
       "    </tr>\n",
       "    <tr>\n",
       "      <th>6</th>\n",
       "      <td>Price off</td>\n",
       "      <td>-1.243922e+04</td>\n",
       "    </tr>\n",
       "    <tr>\n",
       "      <th>7</th>\n",
       "      <td>X units for $Y (X = 1)</td>\n",
       "      <td>-4.618764e+07</td>\n",
       "    </tr>\n",
       "    <tr>\n",
       "      <th>8</th>\n",
       "      <td>X units for $Y (X &gt; 1)</td>\n",
       "      <td>-2.161643e+07</td>\n",
       "    </tr>\n",
       "    <tr>\n",
       "      <th>9</th>\n",
       "      <td>X units for Y%</td>\n",
       "      <td>-2.700594e+06</td>\n",
       "    </tr>\n",
       "    <tr>\n",
       "      <th>10</th>\n",
       "      <td>Xth @ $Y</td>\n",
       "      <td>-1.015719e+06</td>\n",
       "    </tr>\n",
       "    <tr>\n",
       "      <th>11</th>\n",
       "      <td>Xth for Y%</td>\n",
       "      <td>-4.241875e+06</td>\n",
       "    </tr>\n",
       "  </tbody>\n",
       "</table>\n",
       "</div>"
      ],
      "text/plain": [
       "             PromoMechanic  SalesDiscount\n",
       "0            Buy $X for $Y  -1.011187e+07\n",
       "1            Buy $X for Y%  -2.063721e+05\n",
       "2             Buy X free X  -8.757020e+06\n",
       "3                 No Promo  -8.062417e+01\n",
       "4                      PWP  -3.975749e+07\n",
       "5           Percentage off  -6.302129e+06\n",
       "6                Price off  -1.243922e+04\n",
       "7   X units for $Y (X = 1)  -4.618764e+07\n",
       "8   X units for $Y (X > 1)  -2.161643e+07\n",
       "9           X units for Y%  -2.700594e+06\n",
       "10                Xth @ $Y  -1.015719e+06\n",
       "11              Xth for Y%  -4.241875e+06"
      ]
     },
     "metadata": {},
     "output_type": "display_data"
    }
   ],
   "source": [
    "sum_of_discounts_promomechanic = total_products.groupby(by = ['PromoMechanic'], as_index  = False)['SalesDiscount'].sum()\n",
    "display(sum_of_discounts_promomechanic)\n",
    "# print(np.sum(sum_of_discounts_promomechanic['SalesDiscount']))"
   ]
  },
  {
   "cell_type": "markdown",
   "id": "13ac9f5f",
   "metadata": {},
   "source": [
    "Here we display the dataframe showing the sales for each distribution channel."
   ]
  },
  {
   "cell_type": "code",
   "execution_count": 38,
   "id": "276e8dc9",
   "metadata": {},
   "outputs": [
    {
     "data": {
      "text/html": [
       "<div>\n",
       "<style scoped>\n",
       "    .dataframe tbody tr th:only-of-type {\n",
       "        vertical-align: middle;\n",
       "    }\n",
       "\n",
       "    .dataframe tbody tr th {\n",
       "        vertical-align: top;\n",
       "    }\n",
       "\n",
       "    .dataframe thead th {\n",
       "        text-align: right;\n",
       "    }\n",
       "</style>\n",
       "<table border=\"1\" class=\"dataframe\">\n",
       "  <thead>\n",
       "    <tr style=\"text-align: right;\">\n",
       "      <th></th>\n",
       "      <th>DistributionChannel</th>\n",
       "      <th>ActualSales</th>\n",
       "    </tr>\n",
       "  </thead>\n",
       "  <tbody>\n",
       "    <tr>\n",
       "      <th>0</th>\n",
       "      <td>Online</td>\n",
       "      <td>5.159732e+07</td>\n",
       "    </tr>\n",
       "    <tr>\n",
       "      <th>1</th>\n",
       "      <td>Physical</td>\n",
       "      <td>3.161788e+09</td>\n",
       "    </tr>\n",
       "  </tbody>\n",
       "</table>\n",
       "</div>"
      ],
      "text/plain": [
       "  DistributionChannel   ActualSales\n",
       "0              Online  5.159732e+07\n",
       "1            Physical  3.161788e+09"
      ]
     },
     "metadata": {},
     "output_type": "display_data"
    }
   ],
   "source": [
    "# print(total_products['DistributionChannel'].value_counts())\n",
    "online_vs_offline_sales = total_products.groupby(by = ['DistributionChannel'], as_index  = False)['ActualSales'].sum()\n",
    "display(online_vs_offline_sales)"
   ]
  },
  {
   "cell_type": "markdown",
   "id": "20fb966f",
   "metadata": {},
   "source": [
    "We do the same for volume."
   ]
  },
  {
   "cell_type": "code",
   "execution_count": 39,
   "id": "12b5a15e",
   "metadata": {},
   "outputs": [
    {
     "data": {
      "text/html": [
       "<div>\n",
       "<style scoped>\n",
       "    .dataframe tbody tr th:only-of-type {\n",
       "        vertical-align: middle;\n",
       "    }\n",
       "\n",
       "    .dataframe tbody tr th {\n",
       "        vertical-align: top;\n",
       "    }\n",
       "\n",
       "    .dataframe thead th {\n",
       "        text-align: right;\n",
       "    }\n",
       "</style>\n",
       "<table border=\"1\" class=\"dataframe\">\n",
       "  <thead>\n",
       "    <tr style=\"text-align: right;\">\n",
       "      <th></th>\n",
       "      <th>DistributionChannel</th>\n",
       "      <th>UnitVolume</th>\n",
       "    </tr>\n",
       "  </thead>\n",
       "  <tbody>\n",
       "    <tr>\n",
       "      <th>0</th>\n",
       "      <td>Online</td>\n",
       "      <td>814221.0</td>\n",
       "    </tr>\n",
       "    <tr>\n",
       "      <th>1</th>\n",
       "      <td>Physical</td>\n",
       "      <td>27254041.0</td>\n",
       "    </tr>\n",
       "  </tbody>\n",
       "</table>\n",
       "</div>"
      ],
      "text/plain": [
       "  DistributionChannel  UnitVolume\n",
       "0              Online    814221.0\n",
       "1            Physical  27254041.0"
      ]
     },
     "metadata": {},
     "output_type": "display_data"
    }
   ],
   "source": [
    "# print(total_products['DistributionChannel'].value_counts())\n",
    "online_vs_offline_volume= total_products.groupby(by = ['DistributionChannel'], as_index  = False)['UnitVolume'].sum()\n",
    "display(online_vs_offline_volume)"
   ]
  },
  {
   "cell_type": "markdown",
   "id": "2e92e913",
   "metadata": {},
   "source": [
    "Again for discounts."
   ]
  },
  {
   "cell_type": "code",
   "execution_count": 40,
   "id": "2601ea3b",
   "metadata": {},
   "outputs": [
    {
     "data": {
      "text/html": [
       "<div>\n",
       "<style scoped>\n",
       "    .dataframe tbody tr th:only-of-type {\n",
       "        vertical-align: middle;\n",
       "    }\n",
       "\n",
       "    .dataframe tbody tr th {\n",
       "        vertical-align: top;\n",
       "    }\n",
       "\n",
       "    .dataframe thead th {\n",
       "        text-align: right;\n",
       "    }\n",
       "</style>\n",
       "<table border=\"1\" class=\"dataframe\">\n",
       "  <thead>\n",
       "    <tr style=\"text-align: right;\">\n",
       "      <th></th>\n",
       "      <th>DistributionChannel</th>\n",
       "      <th>SalesDiscount</th>\n",
       "    </tr>\n",
       "  </thead>\n",
       "  <tbody>\n",
       "    <tr>\n",
       "      <th>0</th>\n",
       "      <td>Online</td>\n",
       "      <td>-5.288079e+06</td>\n",
       "    </tr>\n",
       "    <tr>\n",
       "      <th>1</th>\n",
       "      <td>Physical</td>\n",
       "      <td>-1.356216e+08</td>\n",
       "    </tr>\n",
       "  </tbody>\n",
       "</table>\n",
       "</div>"
      ],
      "text/plain": [
       "  DistributionChannel  SalesDiscount\n",
       "0              Online  -5.288079e+06\n",
       "1            Physical  -1.356216e+08"
      ]
     },
     "metadata": {},
     "output_type": "display_data"
    }
   ],
   "source": [
    "# print(total_products['DistributionChannel'].value_counts())\n",
    "online_vs_offline_discounts= total_products.groupby(by = ['DistributionChannel'], as_index  = False)['SalesDiscount'].sum()\n",
    "display(online_vs_offline_discounts)"
   ]
  },
  {
   "attachments": {},
   "cell_type": "markdown",
   "id": "6d6256a7",
   "metadata": {},
   "source": [
    "Let us see how the store 2071 has done."
   ]
  },
  {
   "cell_type": "code",
   "execution_count": 41,
   "id": "1aade3e4",
   "metadata": {},
   "outputs": [
    {
     "name": "stdout",
     "output_type": "stream",
     "text": [
      "Total sales for Store 2071: 3220095.0408\n",
      "Total discounts for Store 2071: -98310.8666\n",
      "Total volume for Store 2071: 19636.0\n"
     ]
    }
   ],
   "source": [
    "storekey2071 = total_products[total_products['StoreKey'] == 2071]\n",
    "# display(storekey2071)\n",
    "storekey2071_sales = np.sum(storekey2071['ActualSales'])\n",
    "print(f'Total sales for Store 2071: {round(storekey2071_sales, 4)}')\n",
    "storekey2071_discounts = np.sum(storekey2071['SalesDiscount'])\n",
    "print(f'Total discounts for Store 2071: {round(storekey2071_discounts,4)}')\n",
    "\n",
    "storekey2071_volume = np.sum(storekey2071['UnitVolume'])\n",
    "print(f'Total volume for Store 2071: {storekey2071_volume}')"
   ]
  },
  {
   "attachments": {},
   "cell_type": "markdown",
   "id": "e08f804a",
   "metadata": {},
   "source": [
    "The product category AC seems to be popular."
   ]
  },
  {
   "cell_type": "code",
   "execution_count": 42,
   "id": "5c887d07",
   "metadata": {},
   "outputs": [
    {
     "name": "stdout",
     "output_type": "stream",
     "text": [
      "Total sales for Product Category AC: 1210178843.7786\n",
      "Total discounts for Product Category AC: -37722595.6933\n",
      "Total volume for Product Category AC: 10097935.0\n"
     ]
    }
   ],
   "source": [
    "productCategoryAC = total_products[total_products['ProductCategory_Lvl2'] == 'Category AC']   \n",
    "# display(productCategoryAC)\n",
    "productCategoryAC_sales = np.sum(productCategoryAC['ActualSales'])\n",
    "print(f'Total sales for Product Category AC: {round(productCategoryAC_sales, 4)}')\n",
    "productCategoryAC_discounts = np.sum(productCategoryAC['SalesDiscount'])\n",
    "print(f'Total discounts for Product Category AC: {round(productCategoryAC_discounts,4)}')\n",
    "\n",
    "productCategoryAC_volume = np.sum(productCategoryAC['UnitVolume'])\n",
    "print(f'Total volume for Product Category AC: {productCategoryAC_volume}')"
   ]
  },
  {
   "attachments": {},
   "cell_type": "markdown",
   "id": "0a8c0298",
   "metadata": {},
   "source": [
    "And the product 49489 too!"
   ]
  },
  {
   "cell_type": "code",
   "execution_count": 43,
   "id": "37c51f54",
   "metadata": {},
   "outputs": [
    {
     "name": "stdout",
     "output_type": "stream",
     "text": [
      "Total sales for Product 49489: 29908763.4048\n",
      "Total discounts for Product 49489: -1017907.0913\n",
      "Total volume for Product 49489: 228209.0\n"
     ]
    }
   ],
   "source": [
    "productKey49489 = total_products[total_products['ProductKey'] == '49489']   \n",
    "# display(storekey2071)\n",
    "productKey49489_sales = np.sum(productKey49489['ActualSales'])\n",
    "print(f'Total sales for Product 49489: {round(productKey49489_sales, 4)}')\n",
    "productKey49489_discounts = np.sum(productKey49489['SalesDiscount'])\n",
    "print(f'Total discounts for Product 49489: {round(productKey49489_discounts,4)}')\n",
    "\n",
    "productKey49489_volume = np.sum(productKey49489['UnitVolume'])\n",
    "print(f'Total volume for Product 49489: {productKey49489_volume}')"
   ]
  },
  {
   "attachments": {},
   "cell_type": "markdown",
   "id": "9068de86",
   "metadata": {},
   "source": [
    "Now, we are ready to start with the second task. First, let us see some basic statistics on sales, unitvolumes sold and discounts made over the 10 year span. Actually, 2012 was the only significant year until 2020, where sales have literally boomed. Either the retailer has not operated in these 10 years, or we miss lots of data."
   ]
  },
  {
   "cell_type": "code",
   "execution_count": 44,
   "id": "a5abf17d",
   "metadata": {},
   "outputs": [
    {
     "data": {
      "image/png": "[encoded data removed]",
      "text/plain": [
       "<Figure size 720x720 with 3 Axes>"
      ]
     },
     "metadata": {},
     "output_type": "display_data"
    }
   ],
   "source": [
    "import matplotlib.pyplot as plt\n",
    "import seaborn as sns\n",
    "sns.set_style('whitegrid')\n",
    "\n",
    "# Convert TransactionDate column to datetime format\n",
    "total_products['TransactionDate'] = pd.to_datetime(total_products['TransactionDate'])\n",
    "\n",
    "# Group by month and calculate average sales, discounts, and unit volumes\n",
    "param = ['Actual sales','UnitVolume','SalesDiscount']\n",
    "monthly_data = total_products.groupby(pd.Grouper(key='TransactionDate', axis=0, freq='M')).sum()\n",
    "\n",
    "# Plot monthly trends\n",
    "fig, ax = plt.subplots(3, 1, figsize=(10, 10))\n",
    "\n",
    "ax[0].plot(monthly_data['ActualSales'], label='Total Sales')\n",
    "ax[0].set_title('Monthly Total Sales')\n",
    "ax[0].set_ylabel('ActualSales')\n",
    "ax[0].legend()\n",
    "\n",
    "ax[1].plot(monthly_data['SalesDiscount'], label='Total Discount')\n",
    "ax[1].set_title('Monthly total Discount')\n",
    "ax[1].set_ylabel('SalesDiscount')\n",
    "ax[1].legend()\n",
    "\n",
    "ax[2].plot(monthly_data['UnitVolume'], label='Total Unit Volume')\n",
    "ax[2].set_title('Monthly Total Average Unit Volume')\n",
    "ax[2].set_ylabel('UnitVolume')\n",
    "ax[2].legend()\n",
    "\n",
    "plt.show()\n"
   ]
  },
  {
   "cell_type": "markdown",
   "id": "a63ed888",
   "metadata": {},
   "source": [
    "In this section we will separetely show the actual average sales per month. There is a red line to separate data from 2012 from the remaining, we felt that without it would be misleading for the eventual reader."
   ]
  },
  {
   "cell_type": "code",
   "execution_count": 45,
   "id": "cfc39dba",
   "metadata": {},
   "outputs": [
    {
     "data": {
      "image/png": "[encoded data removed]",
      "text/plain": [
       "<Figure size 720x720 with 1 Axes>"
      ]
     },
     "metadata": {},
     "output_type": "display_data"
    }
   ],
   "source": [
    "param = ['ActualSales','SalesDiscount','UnitVolume', 'DistributionChannel']\n",
    "monthly_data_mean = total_products.groupby(pd.Grouper(key='TransactionDate', axis=0, freq='M'))[param].mean()\n",
    " \n",
    "\n",
    "monthly_data_mean.dropna(inplace = True)   #getting rid of months where actual sales were null (no sales)\n",
    "\n",
    "\n",
    "fig, ax = plt.subplots(1, 1, figsize=(10, 10))\n",
    "months = [str(x)[0:7] for x in monthly_data_mean.index.to_list()]  #displaying only the months\n",
    "monthly_data_mean.reset_index(inplace=True)\n",
    "monthly_data_mean['TransactionDate'] = months \n",
    "\n",
    "sns.barplot(data= monthly_data_mean, y = monthly_data_mean['TransactionDate'], x = monthly_data_mean['ActualSales'], label='Average Sales', orient = 'h', palette= 'magma')\n",
    "plt.axhline(y=2.5, color='r', linestyle='--')\n",
    "plt.title('Daily Average Sales x Month')\n",
    "plt.xticks(rotation=90)\n",
    "plt.ylabel('Months')\n",
    "plt.xlabel('Average Sales')\n",
    "plt.legend() ;"
   ]
  },
  {
   "cell_type": "markdown",
   "id": "0765850c",
   "metadata": {},
   "source": [
    "The sales discounts are also displayed below."
   ]
  },
  {
   "cell_type": "code",
   "execution_count": 46,
   "id": "f270e231",
   "metadata": {},
   "outputs": [
    {
     "data": {
      "image/png": "[encoded data removed]",
      "text/plain": [
       "<Figure size 720x720 with 1 Axes>"
      ]
     },
     "metadata": {},
     "output_type": "display_data"
    }
   ],
   "source": [
    "fig, ax = plt.subplots(1, 1, figsize=(10, 10))\n",
    "sns.barplot(data= monthly_data_mean, y = monthly_data_mean['TransactionDate'], x = monthly_data_mean['SalesDiscount'], label='Average Discount Applied', orient=\"h\", palette = 'rocket')\n",
    "plt.axhline(y=2.5, color='r', linestyle='--')\n",
    "plt.title('Daily Discount x Month')\n",
    "plt.xticks(rotation=90)\n",
    "plt.ylabel('Months')\n",
    "plt.xlabel('Average Discount Applied')\n",
    "plt.legend() ;"
   ]
  },
  {
   "cell_type": "markdown",
   "id": "ced73bc0",
   "metadata": {},
   "source": [
    "And eventually, let us see how unit volumes have changed over time."
   ]
  },
  {
   "cell_type": "code",
   "execution_count": 47,
   "id": "eaae6d0a",
   "metadata": {},
   "outputs": [
    {
     "data": {
      "image/png": "[encoded data removed]",
      "text/plain": [
       "<Figure size 720x720 with 1 Axes>"
      ]
     },
     "metadata": {},
     "output_type": "display_data"
    }
   ],
   "source": [
    "fig, ax = plt.subplots(1, 1, figsize=(10, 10))\n",
    "sns.barplot(data = monthly_data_mean, y = monthly_data_mean['TransactionDate'], x = monthly_data_mean['UnitVolume'], label='Average Units Sold', orient=\"h\", palette = 'magma')\n",
    "plt.axhline(y=2.5, color='r', linestyle='--')\n",
    "plt.title('Average Daily Volume x Month')\n",
    "plt.xticks(rotation=90)\n",
    "plt.ylabel('Months')\n",
    "plt.xlabel('Average Units sold')\n",
    "plt.legend() ;"
   ]
  },
  {
   "cell_type": "code",
   "execution_count": 48,
   "id": "f0c64dc0",
   "metadata": {},
   "outputs": [],
   "source": [
    "online_total_product = total_products[total_products['DistributionChannel'] == 'Online']\n",
    "offline_total_product = total_products[total_products['DistributionChannel'] == 'Physical']\n",
    "\n",
    "monthly_data_mean_online = online_total_product.groupby(pd.Grouper(key='TransactionDate', axis=0, freq='M'))[param].mean()\n",
    "# display(monthly_data_mean_online)\n",
    "monthly_data_mean_online.dropna(inplace = True)   #getting rid of months where actual sales were null (no sales)\n",
    "months_1 = [str(x)[0:7] for x in monthly_data_mean_online.index.to_list()]  #displaying only the months\n",
    "monthly_data_mean_online.reset_index(inplace=True)\n",
    "monthly_data_mean_online['TransactionDate'] = months_1\n",
    "\n",
    "monthly_data_mean_offline = offline_total_product.groupby(pd.Grouper(key='TransactionDate', axis=0, freq='M'))[param].mean()\n",
    "# display(monthly_data_mean_online)\n",
    "monthly_data_mean_offline.dropna(inplace = True)   #getting rid of months where actual sales were null (no sales)\n",
    "months_2 = [str(x)[0:7] for x in monthly_data_mean_offline.index.to_list()]  #displaying only the months\n",
    "monthly_data_mean_offline.reset_index(inplace=True)\n",
    "monthly_data_mean_offline['TransactionDate'] = months_2 \n"
   ]
  },
  {
   "cell_type": "code",
   "execution_count": 49,
   "id": "310c7f7d",
   "metadata": {},
   "outputs": [
    {
     "data": {
      "image/png": "[encoded data removed]",
      "text/plain": [
       "<Figure size 720x720 with 1 Axes>"
      ]
     },
     "metadata": {},
     "output_type": "display_data"
    }
   ],
   "source": [
    "fig, ax = plt.subplots(1, 1, figsize=(10, 10))\n",
    "sns.barplot(data= monthly_data_mean_online, y = monthly_data_mean_online['TransactionDate'], x = monthly_data_mean_online['ActualSales'], label='Average Online Sales', orient = 'h', palette = 'magma')\n",
    "plt.title('Daily Average Sales x Month')\n",
    "plt.xticks(rotation=90)\n",
    "plt.ylabel('Months')\n",
    "plt.xlabel('Average Sales')\n",
    "plt.legend();"
   ]
  },
  {
   "cell_type": "code",
   "execution_count": 50,
   "id": "68498860",
   "metadata": {},
   "outputs": [
    {
     "data": {
      "image/png": "[encoded data removed]",
      "text/plain": [
       "<Figure size 720x720 with 1 Axes>"
      ]
     },
     "metadata": {},
     "output_type": "display_data"
    }
   ],
   "source": [
    "fig, ax = plt.subplots(1, 1, figsize=(10, 10))\n",
    "sns.barplot(data= monthly_data_mean, y = monthly_data_mean_offline['TransactionDate'], x = monthly_data_mean_offline['ActualSales'], label='Average Offline Sales', orient = 'h', palette = 'magma')\n",
    "plt.axhline(y=2.51, color='r', linestyle='--')\n",
    "plt.title('Daily Average Sales x Month')\n",
    "plt.xticks(rotation=90)\n",
    "plt.ylabel('Months')\n",
    "plt.xlabel('Average Sales')\n",
    "plt.legend() ;"
   ]
  },
  {
   "cell_type": "markdown",
   "id": "26f311a0",
   "metadata": {},
   "source": [
    "We try now to create a dynamic chart to allow the user to analyze a deeper spectrum of dimensions in the data."
   ]
  },
  {
   "cell_type": "code",
   "execution_count": 51,
   "id": "c4f54847",
   "metadata": {},
   "outputs": [],
   "source": [
    "total_products['TransactionDate'] = pd.to_datetime(total_products['TransactionDate'])\n",
    "\n",
    "total_products['Date_monthly'] = total_products['TransactionDate'].dt.to_period('M')\n",
    "\n",
    "total_products['SalesType'] = total_products['DistributionChannel'].apply(lambda x: 'Online' if x == 'Online' else 'Offline')\n",
    "\n",
    "total_products['DiscountType'] = total_products['SalesDiscount'].apply(lambda x: 'Discounted' if x > 0 else 'Non-Discounted')\n",
    "\n",
    "total_products['Region'] = total_products['Region_Lvl2']\n",
    "\n",
    "total_products['SubCategory'] = total_products['ProductCategory_Lvl2']\n",
    "\n",
    "total_products = total_products.merge(CPIs, on='Date_monthly', how='left')\n"
   ]
  },
  {
   "cell_type": "markdown",
   "id": "39071c50",
   "metadata": {},
   "source": [
    "We try now to create a dynamic chart to allow the user to analyze a deeper spectrum of dimensions in the data."
   ]
  },
  {
   "cell_type": "code",
   "execution_count": 52,
   "id": "570af881",
   "metadata": {},
   "outputs": [
    {
     "data": {
      "application/vnd.plotly.v1+json": {
       "config": {
        "plotlyServerURL": "https://plot.ly"
       },
       "data": [
        {
         "marker": {
          "color": "blue"
         },
         "name": "Actual Sales",
         "type": "bar",
         "x": [
          "Online",
          "RegionA",
          "RegionB"
         ],
         "xaxis": "x",
         "y": [
          51597322.76568,
          2571555002.94523,
          590232723.8417
         ],
         "yaxis": "y"
        }
       ],
       "layout": {
        "template": {
         "data": {
          "bar": [
           {
            "error_x": {
             "color": "#2a3f5f"
            },
            "error_y": {
             "color": "#2a3f5f"
            },
            "marker": {
             "line": {
              "color": "#E5ECF6",
              "width": 0.5
             },
             "pattern": {
              "fillmode": "overlay",
              "size": 10,
              "solidity": 0.2
             }
            },
            "type": "bar"
           }
          ],
          "barpolar": [
           {
            "marker": {
             "line": {
              "color": "#E5ECF6",
              "width": 0.5
             },
             "pattern": {
              "fillmode": "overlay",
              "size": 10,
              "solidity": 0.2
             }
            },
            "type": "barpolar"
           }
          ],
          "carpet": [
           {
            "aaxis": {
             "endlinecolor": "#2a3f5f",
             "gridcolor": "white",
             "linecolor": "white",
             "minorgridcolor": "white",
             "startlinecolor": "#2a3f5f"
            },
            "baxis": {
             "endlinecolor": "#2a3f5f",
             "gridcolor": "white",
             "linecolor": "white",
             "minorgridcolor": "white",
             "startlinecolor": "#2a3f5f"
            },
            "type": "carpet"
           }
          ],
          "choropleth": [
           {
            "colorbar": {
             "outlinewidth": 0,
             "ticks": ""
            },
            "type": "choropleth"
           }
          ],
          "contour": [
           {
            "colorbar": {
             "outlinewidth": 0,
             "ticks": ""
            },
            "colorscale": [
             [
              0,
              "#0d0887"
             ],
             [
              0.1111111111111111,
              "#46039f"
             ],
             [
              0.2222222222222222,
              "#7201a8"
             ],
             [
              0.3333333333333333,
              "#9c179e"
             ],
             [
              0.4444444444444444,
              "#bd3786"
             ],
             [
              0.5555555555555556,
              "#d8576b"
             ],
             [
              0.6666666666666666,
              "#ed7953"
             ],
             [
              0.7777777777777778,
              "#fb9f3a"
             ],
             [
              0.8888888888888888,
              "#fdca26"
             ],
             [
              1,
              "#f0f921"
             ]
            ],
            "type": "contour"
           }
          ],
          "contourcarpet": [
           {
            "colorbar": {
             "outlinewidth": 0,
             "ticks": ""
            },
            "type": "contourcarpet"
           }
          ],
          "heatmap": [
           {
            "colorbar": {
             "outlinewidth": 0,
             "ticks": ""
            },
            "colorscale": [
             [
              0,
              "#0d0887"
             ],
             [
              0.1111111111111111,
              "#46039f"
             ],
             [
              0.2222222222222222,
              "#7201a8"
             ],
             [
              0.3333333333333333,
              "#9c179e"
             ],
             [
              0.4444444444444444,
              "#bd3786"
             ],
             [
              0.5555555555555556,
              "#d8576b"
             ],
             [
              0.6666666666666666,
              "#ed7953"
             ],
             [
              0.7777777777777778,
              "#fb9f3a"
             ],
             [
              0.8888888888888888,
              "#fdca26"
             ],
             [
              1,
              "#f0f921"
             ]
            ],
            "type": "heatmap"
           }
          ],
          "heatmapgl": [
           {
            "colorbar": {
             "outlinewidth": 0,
             "ticks": ""
            },
            "colorscale": [
             [
              0,
              "#0d0887"
             ],
             [
              0.1111111111111111,
              "#46039f"
             ],
             [
              0.2222222222222222,
              "#7201a8"
             ],
             [
              0.3333333333333333,
              "#9c179e"
             ],
             [
              0.4444444444444444,
              "#bd3786"
             ],
             [
              0.5555555555555556,
              "#d8576b"
             ],
             [
              0.6666666666666666,
              "#ed7953"
             ],
             [
              0.7777777777777778,
              "#fb9f3a"
             ],
             [
              0.8888888888888888,
              "#fdca26"
             ],
             [
              1,
              "#f0f921"
             ]
            ],
            "type": "heatmapgl"
           }
          ],
          "histogram": [
           {
            "marker": {
             "pattern": {
              "fillmode": "overlay",
              "size": 10,
              "solidity": 0.2
             }
            },
            "type": "histogram"
           }
          ],
          "histogram2d": [
           {
            "colorbar": {
             "outlinewidth": 0,
             "ticks": ""
            },
            "colorscale": [
             [
              0,
              "#0d0887"
             ],
             [
              0.1111111111111111,
              "#46039f"
             ],
             [
              0.2222222222222222,
              "#7201a8"
             ],
             [
              0.3333333333333333,
              "#9c179e"
             ],
             [
              0.4444444444444444,
              "#bd3786"
             ],
             [
              0.5555555555555556,
              "#d8576b"
             ],
             [
              0.6666666666666666,
              "#ed7953"
             ],
             [
              0.7777777777777778,
              "#fb9f3a"
             ],
             [
              0.8888888888888888,
              "#fdca26"
             ],
             [
              1,
              "#f0f921"
             ]
            ],
            "type": "histogram2d"
           }
          ],
          "histogram2dcontour": [
           {
            "colorbar": {
             "outlinewidth": 0,
             "ticks": ""
            },
            "colorscale": [
             [
              0,
              "#0d0887"
             ],
             [
              0.1111111111111111,
              "#46039f"
             ],
             [
              0.2222222222222222,
              "#7201a8"
             ],
             [
              0.3333333333333333,
              "#9c179e"
             ],
             [
              0.4444444444444444,
              "#bd3786"
             ],
             [
              0.5555555555555556,
              "#d8576b"
             ],
             [
              0.6666666666666666,
              "#ed7953"
             ],
             [
              0.7777777777777778,
              "#fb9f3a"
             ],
             [
              0.8888888888888888,
              "#fdca26"
             ],
             [
              1,
              "#f0f921"
             ]
            ],
            "type": "histogram2dcontour"
           }
          ],
          "mesh3d": [
           {
            "colorbar": {
             "outlinewidth": 0,
             "ticks": ""
            },
            "type": "mesh3d"
           }
          ],
          "parcoords": [
           {
            "line": {
             "colorbar": {
              "outlinewidth": 0,
              "ticks": ""
             }
            },
            "type": "parcoords"
           }
          ],
          "pie": [
           {
            "automargin": true,
            "type": "pie"
           }
          ],
          "scatter": [
           {
            "fillpattern": {
             "fillmode": "overlay",
             "size": 10,
             "solidity": 0.2
            },
            "type": "scatter"
           }
          ],
          "scatter3d": [
           {
            "line": {
             "colorbar": {
              "outlinewidth": 0,
              "ticks": ""
             }
            },
            "marker": {
             "colorbar": {
              "outlinewidth": 0,
              "ticks": ""
             }
            },
            "type": "scatter3d"
           }
          ],
          "scattercarpet": [
           {
            "marker": {
             "colorbar": {
              "outlinewidth": 0,
              "ticks": ""
             }
            },
            "type": "scattercarpet"
           }
          ],
          "scattergeo": [
           {
            "marker": {
             "colorbar": {
              "outlinewidth": 0,
              "ticks": ""
             }
            },
            "type": "scattergeo"
           }
          ],
          "scattergl": [
           {
            "marker": {
             "colorbar": {
              "outlinewidth": 0,
              "ticks": ""
             }
            },
            "type": "scattergl"
           }
          ],
          "scattermapbox": [
           {
            "marker": {
             "colorbar": {
              "outlinewidth": 0,
              "ticks": ""
             }
            },
            "type": "scattermapbox"
           }
          ],
          "scatterpolar": [
           {
            "marker": {
             "colorbar": {
              "outlinewidth": 0,
              "ticks": ""
             }
            },
            "type": "scatterpolar"
           }
          ],
          "scatterpolargl": [
           {
            "marker": {
             "colorbar": {
              "outlinewidth": 0,
              "ticks": ""
             }
            },
            "type": "scatterpolargl"
           }
          ],
          "scatterternary": [
           {
            "marker": {
             "colorbar": {
              "outlinewidth": 0,
              "ticks": ""
             }
            },
            "type": "scatterternary"
           }
          ],
          "surface": [
           {
            "colorbar": {
             "outlinewidth": 0,
             "ticks": ""
            },
            "colorscale": [
             [
              0,
              "#0d0887"
             ],
             [
              0.1111111111111111,
              "#46039f"
             ],
             [
              0.2222222222222222,
              "#7201a8"
             ],
             [
              0.3333333333333333,
              "#9c179e"
             ],
             [
              0.4444444444444444,
              "#bd3786"
             ],
             [
              0.5555555555555556,
              "#d8576b"
             ],
             [
              0.6666666666666666,
              "#ed7953"
             ],
             [
              0.7777777777777778,
              "#fb9f3a"
             ],
             [
              0.8888888888888888,
              "#fdca26"
             ],
             [
              1,
              "#f0f921"
             ]
            ],
            "type": "surface"
           }
          ],
          "table": [
           {
            "cells": {
             "fill": {
              "color": "#EBF0F8"
             },
             "line": {
              "color": "white"
             }
            },
            "header": {
             "fill": {
              "color": "#C8D4E3"
             },
             "line": {
              "color": "white"
             }
            },
            "type": "table"
           }
          ]
         },
         "layout": {
          "annotationdefaults": {
           "arrowcolor": "#2a3f5f",
           "arrowhead": 0,
           "arrowwidth": 1
          },
          "autotypenumbers": "strict",
          "coloraxis": {
           "colorbar": {
            "outlinewidth": 0,
            "ticks": ""
           }
          },
          "colorscale": {
           "diverging": [
            [
             0,
             "#8e0152"
            ],
            [
             0.1,
             "#c51b7d"
            ],
            [
             0.2,
             "#de77ae"
            ],
            [
             0.3,
             "#f1b6da"
            ],
            [
             0.4,
             "#fde0ef"
            ],
            [
             0.5,
             "#f7f7f7"
            ],
            [
             0.6,
             "#e6f5d0"
            ],
            [
             0.7,
             "#b8e186"
            ],
            [
             0.8,
             "#7fbc41"
            ],
            [
             0.9,
             "#4d9221"
            ],
            [
             1,
             "#276419"
            ]
           ],
           "sequential": [
            [
             0,
             "#0d0887"
            ],
            [
             0.1111111111111111,
             "#46039f"
            ],
            [
             0.2222222222222222,
             "#7201a8"
            ],
            [
             0.3333333333333333,
             "#9c179e"
            ],
            [
             0.4444444444444444,
             "#bd3786"
            ],
            [
             0.5555555555555556,
             "#d8576b"
            ],
            [
             0.6666666666666666,
             "#ed7953"
            ],
            [
             0.7777777777777778,
             "#fb9f3a"
            ],
            [
             0.8888888888888888,
             "#fdca26"
            ],
            [
             1,
             "#f0f921"
            ]
           ],
           "sequentialminus": [
            [
             0,
             "#0d0887"
            ],
            [
             0.1111111111111111,
             "#46039f"
            ],
            [
             0.2222222222222222,
             "#7201a8"
            ],
            [
             0.3333333333333333,
             "#9c179e"
            ],
            [
             0.4444444444444444,
             "#bd3786"
            ],
            [
             0.5555555555555556,
             "#d8576b"
            ],
            [
             0.6666666666666666,
             "#ed7953"
            ],
            [
             0.7777777777777778,
             "#fb9f3a"
            ],
            [
             0.8888888888888888,
             "#fdca26"
            ],
            [
             1,
             "#f0f921"
            ]
           ]
          },
          "colorway": [
           "#636efa",
           "#EF553B",
           "#00cc96",
           "#ab63fa",
           "#FFA15A",
           "#19d3f3",
           "#FF6692",
           "#B6E880",
           "#FF97FF",
           "#FECB52"
          ],
          "font": {
           "color": "#2a3f5f"
          },
          "geo": {
           "bgcolor": "white",
           "lakecolor": "white",
           "landcolor": "#E5ECF6",
           "showlakes": true,
           "showland": true,
           "subunitcolor": "white"
          },
          "hoverlabel": {
           "align": "left"
          },
          "hovermode": "closest",
          "mapbox": {
           "style": "light"
          },
          "paper_bgcolor": "white",
          "plot_bgcolor": "#E5ECF6",
          "polar": {
           "angularaxis": {
            "gridcolor": "white",
            "linecolor": "white",
            "ticks": ""
           },
           "bgcolor": "#E5ECF6",
           "radialaxis": {
            "gridcolor": "white",
            "linecolor": "white",
            "ticks": ""
           }
          },
          "scene": {
           "xaxis": {
            "backgroundcolor": "#E5ECF6",
            "gridcolor": "white",
            "gridwidth": 2,
            "linecolor": "white",
            "showbackground": true,
            "ticks": "",
            "zerolinecolor": "white"
           },
           "yaxis": {
            "backgroundcolor": "#E5ECF6",
            "gridcolor": "white",
            "gridwidth": 2,
            "linecolor": "white",
            "showbackground": true,
            "ticks": "",
            "zerolinecolor": "white"
           },
           "zaxis": {
            "backgroundcolor": "#E5ECF6",
            "gridcolor": "white",
            "gridwidth": 2,
            "linecolor": "white",
            "showbackground": true,
            "ticks": "",
            "zerolinecolor": "white"
           }
          },
          "shapedefaults": {
           "line": {
            "color": "#2a3f5f"
           }
          },
          "ternary": {
           "aaxis": {
            "gridcolor": "white",
            "linecolor": "white",
            "ticks": ""
           },
           "baxis": {
            "gridcolor": "white",
            "linecolor": "white",
            "ticks": ""
           },
           "bgcolor": "#E5ECF6",
           "caxis": {
            "gridcolor": "white",
            "linecolor": "white",
            "ticks": ""
           }
          },
          "title": {
           "x": 0.05
          },
          "xaxis": {
           "automargin": true,
           "gridcolor": "white",
           "linecolor": "white",
           "ticks": "",
           "title": {
            "standoff": 15
           },
           "zerolinecolor": "white",
           "zerolinewidth": 2
          },
          "yaxis": {
           "automargin": true,
           "gridcolor": "white",
           "linecolor": "white",
           "ticks": "",
           "title": {
            "standoff": 15
           },
           "zerolinecolor": "white",
           "zerolinewidth": 2
          }
         }
        },
        "title": {
         "text": "Total Sales by Region"
        },
        "xaxis": {
         "anchor": "y",
         "domain": [
          0,
          1
         ],
         "title": {
          "text": "Region"
         }
        },
        "yaxis": {
         "anchor": "x",
         "domain": [
          0,
          1
         ],
         "title": {
          "text": "Actual Sales"
         }
        }
       }
      }
     },
     "metadata": {},
     "output_type": "display_data"
    }
   ],
   "source": [
    "import plotly.graph_objs as go\n",
    "from plotly.subplots import make_subplots\n",
    "\n",
    "region_sales = total_products.groupby('Region_Lvl1')['ActualSales'].sum()\n",
    "\n",
    "fig = make_subplots(rows=1, cols=1)\n",
    "\n",
    "trace = go.Bar(\n",
    "    x=region_sales.index,\n",
    "    y=region_sales.values,\n",
    "    name='Actual Sales',\n",
    "    marker=dict(color='blue')\n",
    ")\n",
    "\n",
    "fig.add_trace(trace, row=1, col=1)\n",
    "\n",
    "fig.update_layout(\n",
    "    title='Total Sales by Region',\n",
    "    xaxis_title='Region',\n",
    "    yaxis_title='Actual Sales'\n",
    ")\n",
    "\n",
    "fig.show()\n"
   ]
  },
  {
   "attachments": {},
   "cell_type": "markdown",
   "id": "61519ec6",
   "metadata": {},
   "source": [
    "After visualizing the 3 top regions, we take a look at the region A subregions sales."
   ]
  },
  {
   "cell_type": "code",
   "execution_count": 53,
   "id": "8119e252",
   "metadata": {},
   "outputs": [
    {
     "data": {
      "application/vnd.plotly.v1+json": {
       "config": {
        "plotlyServerURL": "https://plot.ly"
       },
       "data": [
        {
         "marker": {
          "color": "red"
         },
         "name": "Actual Sales",
         "type": "bar",
         "x": [
          "Region 1",
          "Region 10",
          "Region 101",
          "Region 102",
          "Region 103",
          "Region 104",
          "Region 105",
          "Region 106",
          "Region 108",
          "Region 109",
          "Region 11",
          "Region 110",
          "Region 112",
          "Region 113",
          "Region 114",
          "Region 115",
          "Region 116",
          "Region 117",
          "Region 118",
          "Region 119",
          "Region 120",
          "Region 121",
          "Region 122",
          "Region 123",
          "Region 124",
          "Region 126",
          "Region 128",
          "Region 129",
          "Region 13",
          "Region 130",
          "Region 131",
          "Region 132",
          "Region 133",
          "Region 134",
          "Region 135",
          "Region 136",
          "Region 137",
          "Region 138",
          "Region 139",
          "Region 14",
          "Region 140",
          "Region 143",
          "Region 144",
          "Region 145",
          "Region 146",
          "Region 147",
          "Region 149",
          "Region 15",
          "Region 150",
          "Region 151",
          "Region 152",
          "Region 153",
          "Region 154",
          "Region 155",
          "Region 156",
          "Region 157",
          "Region 159",
          "Region 16",
          "Region 160",
          "Region 161",
          "Region 162",
          "Region 163",
          "Region 164",
          "Region 165",
          "Region 166",
          "Region 167",
          "Region 168",
          "Region 169",
          "Region 170",
          "Region 171",
          "Region 173",
          "Region 174",
          "Region 175",
          "Region 176",
          "Region 178",
          "Region 18",
          "Region 181",
          "Region 182",
          "Region 183",
          "Region 184",
          "Region 185",
          "Region 186",
          "Region 188",
          "Region 19",
          "Region 190",
          "Region 191",
          "Region 192",
          "Region 194",
          "Region 196",
          "Region 197",
          "Region 198",
          "Region 199",
          "Region 2",
          "Region 20",
          "Region 200",
          "Region 201",
          "Region 202",
          "Region 203",
          "Region 204",
          "Region 205",
          "Region 206",
          "Region 207",
          "Region 209",
          "Region 21",
          "Region 210",
          "Region 211",
          "Region 215",
          "Region 216",
          "Region 217",
          "Region 218",
          "Region 219",
          "Region 22",
          "Region 220",
          "Region 221",
          "Region 23",
          "Region 25",
          "Region 26",
          "Region 27",
          "Region 28",
          "Region 29",
          "Region 3",
          "Region 30",
          "Region 31",
          "Region 32",
          "Region 33",
          "Region 34",
          "Region 35",
          "Region 36",
          "Region 38",
          "Region 4",
          "Region 41",
          "Region 42",
          "Region 43",
          "Region 44",
          "Region 45",
          "Region 47",
          "Region 48",
          "Region 5",
          "Region 50",
          "Region 51",
          "Region 52",
          "Region 53",
          "Region 55",
          "Region 56",
          "Region 57",
          "Region 58",
          "Region 6",
          "Region 60",
          "Region 61",
          "Region 62",
          "Region 63",
          "Region 64",
          "Region 65",
          "Region 66",
          "Region 67",
          "Region 68",
          "Region 7",
          "Region 70",
          "Region 71",
          "Region 72",
          "Region 73",
          "Region 74",
          "Region 75",
          "Region 77",
          "Region 78",
          "Region 79",
          "Region 8",
          "Region 80",
          "Region 81",
          "Region 82",
          "Region 83",
          "Region 84",
          "Region 86",
          "Region 87",
          "Region 88",
          "Region 89",
          "Region 9",
          "Region 90",
          "Region 91",
          "Region 92",
          "Region 93",
          "Region 94",
          "Region 95",
          "Region 96",
          "Region 97",
          "Region 98",
          "Unknown"
         ],
         "xaxis": "x",
         "y": [
          16692997.62621,
          35210519.13102,
          4564044.83458,
          3117707.81123,
          10501155.45736,
          5487938.51932,
          26316826.33414,
          8047006.60645,
          3227653.5347,
          27547006.70601,
          111120831.01763,
          4965985.4467,
          2282463.62675,
          5574888.90079,
          4161103.61798,
          1905563.068,
          1476706.37465,
          3681747.82555,
          1132839.8953800001,
          6124335.92271,
          8820135.69453,
          15212453.22847,
          14027473.34677,
          6053035.9458800005,
          4875078.41687,
          638654.63413,
          4644792.04122,
          5189744.63914,
          11488085.64236,
          7687058.07476,
          11064257.07097,
          4699638.1664,
          46439515.91814,
          4918044.10402,
          2041282.79371,
          2440159.44127,
          1005226.33502,
          13125702.07651,
          5143362.22389,
          10045228.02553,
          6437858.30827,
          5088598.91991,
          4600588.18347,
          4645945.33423,
          17002668.78847,
          7246672.66979,
          4937499.9975,
          5612599.07667,
          12812571.58031,
          687319.80144,
          11200183.37511,
          15836984.99325,
          7402001.85661,
          8480308.38591,
          5332163.34224,
          3206937.44695,
          3567875.8964,
          3275905.01769,
          3042050.12174,
          11028437.81044,
          4007001.03674,
          1857409.87381,
          5981511.16351,
          619210.20053,
          1070858.18833,
          2083434.97997,
          439373.30511,
          4462400.69376,
          4590199.58244,
          6595927.55665,
          4027606.95397,
          11179212.70692,
          5947524.70987,
          5700034.66197,
          4329633.53167,
          10665732.0095,
          3387919.83134,
          645681.1351,
          4814543.83194,
          4288620.45405,
          6407575.52192,
          8357154.37723,
          2359254.027,
          3320576.23906,
          1965446.34952,
          1716201.49995,
          1405434.81929,
          712885.99467,
          2977278.54067,
          5336884.55805,
          4238149.12597,
          2471668.30542,
          282849615.48092,
          126818750.95301,
          10299904.61011,
          8013279.02193,
          3881238.14103,
          1459453.83932,
          6080349.15437,
          11112776.68577,
          3846489.51042,
          5393863.50627,
          3492811.96434,
          3654666.50605,
          2199887.9019,
          1087113.28306,
          3055340.47214,
          3746505.27482,
          3644953.9037,
          4238814.13918,
          5641084.57852,
          19818110.01291,
          6206701.60634,
          1709361.69828,
          27441779.75506,
          4490442.61314,
          24109148.31328,
          3193276.21128,
          7252210.74374,
          116727.17066,
          47671827.88311,
          765172.04317,
          69224392.02579,
          24254038.24293,
          10626445.99765,
          29464701.13656,
          1455802.6032,
          51063166.3575,
          4915318.91208,
          66876790.09821,
          23404885.81783,
          40978031.93436,
          21450277.94375,
          30274251.57386,
          4792037.56061,
          3245468.3301,
          3487485.37295,
          8454075.07027,
          21009814.76275,
          2558535.03956,
          9378403.057,
          47899076.18423,
          9429251.50988,
          48063610.3243,
          31993880.52349,
          4322529.99209,
          20057838.6442,
          42158122.70833,
          15046392.50265,
          1151960.46132,
          7721052.64882,
          19436952.78965,
          15061903.10243,
          9489025.86877,
          26314135.96195,
          15338366.59805,
          157767232.91407,
          8114466.38031,
          18205789.00352,
          13031275.53026,
          5444736.60177,
          18404346.49004,
          3710590.39733,
          4571812.59634,
          5323197.4143199995,
          11701788.02864,
          27376177.76424,
          7045839.02254,
          8063367.05556,
          2904905.87745,
          4061092.12105,
          4553833.14278,
          18809699.62901,
          23298146.6406,
          3198589.95402,
          2909542.51426,
          46692314.2949,
          7109165.06339,
          2957464.55768,
          27432122.15026,
          407536.00325999997,
          7058327.8416,
          7333933.59586,
          7625113.20843,
          7761380.67567,
          2881816.07839,
          3955.01365
         ],
         "yaxis": "y"
        }
       ],
       "layout": {
        "template": {
         "data": {
          "bar": [
           {
            "error_x": {
             "color": "#2a3f5f"
            },
            "error_y": {
             "color": "#2a3f5f"
            },
            "marker": {
             "line": {
              "color": "#E5ECF6",
              "width": 0.5
             },
             "pattern": {
              "fillmode": "overlay",
              "size": 10,
              "solidity": 0.2
             }
            },
            "type": "bar"
           }
          ],
          "barpolar": [
           {
            "marker": {
             "line": {
              "color": "#E5ECF6",
              "width": 0.5
             },
             "pattern": {
              "fillmode": "overlay",
              "size": 10,
              "solidity": 0.2
             }
            },
            "type": "barpolar"
           }
          ],
          "carpet": [
           {
            "aaxis": {
             "endlinecolor": "#2a3f5f",
             "gridcolor": "white",
             "linecolor": "white",
             "minorgridcolor": "white",
             "startlinecolor": "#2a3f5f"
            },
            "baxis": {
             "endlinecolor": "#2a3f5f",
             "gridcolor": "white",
             "linecolor": "white",
             "minorgridcolor": "white",
             "startlinecolor": "#2a3f5f"
            },
            "type": "carpet"
           }
          ],
          "choropleth": [
           {
            "colorbar": {
             "outlinewidth": 0,
             "ticks": ""
            },
            "type": "choropleth"
           }
          ],
          "contour": [
           {
            "colorbar": {
             "outlinewidth": 0,
             "ticks": ""
            },
            "colorscale": [
             [
              0,
              "#0d0887"
             ],
             [
              0.1111111111111111,
              "#46039f"
             ],
             [
              0.2222222222222222,
              "#7201a8"
             ],
             [
              0.3333333333333333,
              "#9c179e"
             ],
             [
              0.4444444444444444,
              "#bd3786"
             ],
             [
              0.5555555555555556,
              "#d8576b"
             ],
             [
              0.6666666666666666,
              "#ed7953"
             ],
             [
              0.7777777777777778,
              "#fb9f3a"
             ],
             [
              0.8888888888888888,
              "#fdca26"
             ],
             [
              1,
              "#f0f921"
             ]
            ],
            "type": "contour"
           }
          ],
          "contourcarpet": [
           {
            "colorbar": {
             "outlinewidth": 0,
             "ticks": ""
            },
            "type": "contourcarpet"
           }
          ],
          "heatmap": [
           {
            "colorbar": {
             "outlinewidth": 0,
             "ticks": ""
            },
            "colorscale": [
             [
              0,
              "#0d0887"
             ],
             [
              0.1111111111111111,
              "#46039f"
             ],
             [
              0.2222222222222222,
              "#7201a8"
             ],
             [
              0.3333333333333333,
              "#9c179e"
             ],
             [
              0.4444444444444444,
              "#bd3786"
             ],
             [
              0.5555555555555556,
              "#d8576b"
             ],
             [
              0.6666666666666666,
              "#ed7953"
             ],
             [
              0.7777777777777778,
              "#fb9f3a"
             ],
             [
              0.8888888888888888,
              "#fdca26"
             ],
             [
              1,
              "#f0f921"
             ]
            ],
            "type": "heatmap"
           }
          ],
          "heatmapgl": [
           {
            "colorbar": {
             "outlinewidth": 0,
             "ticks": ""
            },
            "colorscale": [
             [
              0,
              "#0d0887"
             ],
             [
              0.1111111111111111,
              "#46039f"
             ],
             [
              0.2222222222222222,
              "#7201a8"
             ],
             [
              0.3333333333333333,
              "#9c179e"
             ],
             [
              0.4444444444444444,
              "#bd3786"
             ],
             [
              0.5555555555555556,
              "#d8576b"
             ],
             [
              0.6666666666666666,
              "#ed7953"
             ],
             [
              0.7777777777777778,
              "#fb9f3a"
             ],
             [
              0.8888888888888888,
              "#fdca26"
             ],
             [
              1,
              "#f0f921"
             ]
            ],
            "type": "heatmapgl"
           }
          ],
          "histogram": [
           {
            "marker": {
             "pattern": {
              "fillmode": "overlay",
              "size": 10,
              "solidity": 0.2
             }
            },
            "type": "histogram"
           }
          ],
          "histogram2d": [
           {
            "colorbar": {
             "outlinewidth": 0,
             "ticks": ""
            },
            "colorscale": [
             [
              0,
              "#0d0887"
             ],
             [
              0.1111111111111111,
              "#46039f"
             ],
             [
              0.2222222222222222,
              "#7201a8"
             ],
             [
              0.3333333333333333,
              "#9c179e"
             ],
             [
              0.4444444444444444,
              "#bd3786"
             ],
             [
              0.5555555555555556,
              "#d8576b"
             ],
             [
              0.6666666666666666,
              "#ed7953"
             ],
             [
              0.7777777777777778,
              "#fb9f3a"
             ],
             [
              0.8888888888888888,
              "#fdca26"
             ],
             [
              1,
              "#f0f921"
             ]
            ],
            "type": "histogram2d"
           }
          ],
          "histogram2dcontour": [
           {
            "colorbar": {
             "outlinewidth": 0,
             "ticks": ""
            },
            "colorscale": [
             [
              0,
              "#0d0887"
             ],
             [
              0.1111111111111111,
              "#46039f"
             ],
             [
              0.2222222222222222,
              "#7201a8"
             ],
             [
              0.3333333333333333,
              "#9c179e"
             ],
             [
              0.4444444444444444,
              "#bd3786"
             ],
             [
              0.5555555555555556,
              "#d8576b"
             ],
             [
              0.6666666666666666,
              "#ed7953"
             ],
             [
              0.7777777777777778,
              "#fb9f3a"
             ],
             [
              0.8888888888888888,
              "#fdca26"
             ],
             [
              1,
              "#f0f921"
             ]
            ],
            "type": "histogram2dcontour"
           }
          ],
          "mesh3d": [
           {
            "colorbar": {
             "outlinewidth": 0,
             "ticks": ""
            },
            "type": "mesh3d"
           }
          ],
          "parcoords": [
           {
            "line": {
             "colorbar": {
              "outlinewidth": 0,
              "ticks": ""
             }
            },
            "type": "parcoords"
           }
          ],
          "pie": [
           {
            "automargin": true,
            "type": "pie"
           }
          ],
          "scatter": [
           {
            "fillpattern": {
             "fillmode": "overlay",
             "size": 10,
             "solidity": 0.2
            },
            "type": "scatter"
           }
          ],
          "scatter3d": [
           {
            "line": {
             "colorbar": {
              "outlinewidth": 0,
              "ticks": ""
             }
            },
            "marker": {
             "colorbar": {
              "outlinewidth": 0,
              "ticks": ""
             }
            },
            "type": "scatter3d"
           }
          ],
          "scattercarpet": [
           {
            "marker": {
             "colorbar": {
              "outlinewidth": 0,
              "ticks": ""
             }
            },
            "type": "scattercarpet"
           }
          ],
          "scattergeo": [
           {
            "marker": {
             "colorbar": {
              "outlinewidth": 0,
              "ticks": ""
             }
            },
            "type": "scattergeo"
           }
          ],
          "scattergl": [
           {
            "marker": {
             "colorbar": {
              "outlinewidth": 0,
              "ticks": ""
             }
            },
            "type": "scattergl"
           }
          ],
          "scattermapbox": [
           {
            "marker": {
             "colorbar": {
              "outlinewidth": 0,
              "ticks": ""
             }
            },
            "type": "scattermapbox"
           }
          ],
          "scatterpolar": [
           {
            "marker": {
             "colorbar": {
              "outlinewidth": 0,
              "ticks": ""
             }
            },
            "type": "scatterpolar"
           }
          ],
          "scatterpolargl": [
           {
            "marker": {
             "colorbar": {
              "outlinewidth": 0,
              "ticks": ""
             }
            },
            "type": "scatterpolargl"
           }
          ],
          "scatterternary": [
           {
            "marker": {
             "colorbar": {
              "outlinewidth": 0,
              "ticks": ""
             }
            },
            "type": "scatterternary"
           }
          ],
          "surface": [
           {
            "colorbar": {
             "outlinewidth": 0,
             "ticks": ""
            },
            "colorscale": [
             [
              0,
              "#0d0887"
             ],
             [
              0.1111111111111111,
              "#46039f"
             ],
             [
              0.2222222222222222,
              "#7201a8"
             ],
             [
              0.3333333333333333,
              "#9c179e"
             ],
             [
              0.4444444444444444,
              "#bd3786"
             ],
             [
              0.5555555555555556,
              "#d8576b"
             ],
             [
              0.6666666666666666,
              "#ed7953"
             ],
             [
              0.7777777777777778,
              "#fb9f3a"
             ],
             [
              0.8888888888888888,
              "#fdca26"
             ],
             [
              1,
              "#f0f921"
             ]
            ],
            "type": "surface"
           }
          ],
          "table": [
           {
            "cells": {
             "fill": {
              "color": "#EBF0F8"
             },
             "line": {
              "color": "white"
             }
            },
            "header": {
             "fill": {
              "color": "#C8D4E3"
             },
             "line": {
              "color": "white"
             }
            },
            "type": "table"
           }
          ]
         },
         "layout": {
          "annotationdefaults": {
           "arrowcolor": "#2a3f5f",
           "arrowhead": 0,
           "arrowwidth": 1
          },
          "autotypenumbers": "strict",
          "coloraxis": {
           "colorbar": {
            "outlinewidth": 0,
            "ticks": ""
           }
          },
          "colorscale": {
           "diverging": [
            [
             0,
             "#8e0152"
            ],
            [
             0.1,
             "#c51b7d"
            ],
            [
             0.2,
             "#de77ae"
            ],
            [
             0.3,
             "#f1b6da"
            ],
            [
             0.4,
             "#fde0ef"
            ],
            [
             0.5,
             "#f7f7f7"
            ],
            [
             0.6,
             "#e6f5d0"
            ],
            [
             0.7,
             "#b8e186"
            ],
            [
             0.8,
             "#7fbc41"
            ],
            [
             0.9,
             "#4d9221"
            ],
            [
             1,
             "#276419"
            ]
           ],
           "sequential": [
            [
             0,
             "#0d0887"
            ],
            [
             0.1111111111111111,
             "#46039f"
            ],
            [
             0.2222222222222222,
             "#7201a8"
            ],
            [
             0.3333333333333333,
             "#9c179e"
            ],
            [
             0.4444444444444444,
             "#bd3786"
            ],
            [
             0.5555555555555556,
             "#d8576b"
            ],
            [
             0.6666666666666666,
             "#ed7953"
            ],
            [
             0.7777777777777778,
             "#fb9f3a"
            ],
            [
             0.8888888888888888,
             "#fdca26"
            ],
            [
             1,
             "#f0f921"
            ]
           ],
           "sequentialminus": [
            [
             0,
             "#0d0887"
            ],
            [
             0.1111111111111111,
             "#46039f"
            ],
            [
             0.2222222222222222,
             "#7201a8"
            ],
            [
             0.3333333333333333,
             "#9c179e"
            ],
            [
             0.4444444444444444,
             "#bd3786"
            ],
            [
             0.5555555555555556,
             "#d8576b"
            ],
            [
             0.6666666666666666,
             "#ed7953"
            ],
            [
             0.7777777777777778,
             "#fb9f3a"
            ],
            [
             0.8888888888888888,
             "#fdca26"
            ],
            [
             1,
             "#f0f921"
            ]
           ]
          },
          "colorway": [
           "#636efa",
           "#EF553B",
           "#00cc96",
           "#ab63fa",
           "#FFA15A",
           "#19d3f3",
           "#FF6692",
           "#B6E880",
           "#FF97FF",
           "#FECB52"
          ],
          "font": {
           "color": "#2a3f5f"
          },
          "geo": {
           "bgcolor": "white",
           "lakecolor": "white",
           "landcolor": "#E5ECF6",
           "showlakes": true,
           "showland": true,
           "subunitcolor": "white"
          },
          "hoverlabel": {
           "align": "left"
          },
          "hovermode": "closest",
          "mapbox": {
           "style": "light"
          },
          "paper_bgcolor": "white",
          "plot_bgcolor": "#E5ECF6",
          "polar": {
           "angularaxis": {
            "gridcolor": "white",
            "linecolor": "white",
            "ticks": ""
           },
           "bgcolor": "#E5ECF6",
           "radialaxis": {
            "gridcolor": "white",
            "linecolor": "white",
            "ticks": ""
           }
          },
          "scene": {
           "xaxis": {
            "backgroundcolor": "#E5ECF6",
            "gridcolor": "white",
            "gridwidth": 2,
            "linecolor": "white",
            "showbackground": true,
            "ticks": "",
            "zerolinecolor": "white"
           },
           "yaxis": {
            "backgroundcolor": "#E5ECF6",
            "gridcolor": "white",
            "gridwidth": 2,
            "linecolor": "white",
            "showbackground": true,
            "ticks": "",
            "zerolinecolor": "white"
           },
           "zaxis": {
            "backgroundcolor": "#E5ECF6",
            "gridcolor": "white",
            "gridwidth": 2,
            "linecolor": "white",
            "showbackground": true,
            "ticks": "",
            "zerolinecolor": "white"
           }
          },
          "shapedefaults": {
           "line": {
            "color": "#2a3f5f"
           }
          },
          "ternary": {
           "aaxis": {
            "gridcolor": "white",
            "linecolor": "white",
            "ticks": ""
           },
           "baxis": {
            "gridcolor": "white",
            "linecolor": "white",
            "ticks": ""
           },
           "bgcolor": "#E5ECF6",
           "caxis": {
            "gridcolor": "white",
            "linecolor": "white",
            "ticks": ""
           }
          },
          "title": {
           "x": 0.05
          },
          "xaxis": {
           "automargin": true,
           "gridcolor": "white",
           "linecolor": "white",
           "ticks": "",
           "title": {
            "standoff": 15
           },
           "zerolinecolor": "white",
           "zerolinewidth": 2
          },
          "yaxis": {
           "automargin": true,
           "gridcolor": "white",
           "linecolor": "white",
           "ticks": "",
           "title": {
            "standoff": 15
           },
           "zerolinecolor": "white",
           "zerolinewidth": 2
          }
         }
        },
        "title": {
         "text": "Total Sales by Region"
        },
        "xaxis": {
         "anchor": "y",
         "domain": [
          0,
          1
         ],
         "title": {
          "text": "Region A: subregions"
         }
        },
        "yaxis": {
         "anchor": "x",
         "domain": [
          0,
          1
         ],
         "title": {
          "text": "Actual Sales"
         }
        }
       }
      }
     },
     "metadata": {},
     "output_type": "display_data"
    }
   ],
   "source": [
    "import plotly.graph_objs as go\n",
    "from plotly.subplots import make_subplots\n",
    "\n",
    "regionA_sales = total_products[total_products['Region_Lvl1'] == 'RegionA']\n",
    "\n",
    "region_sales = regionA_sales.groupby('Region_Lvl2')['ActualSales'].sum()\n",
    "\n",
    "fig = make_subplots(rows=1, cols=1)\n",
    "\n",
    "trace = go.Bar(\n",
    "    x=region_sales.index,\n",
    "    y=region_sales.values,\n",
    "    name='Actual Sales',\n",
    "    marker=dict(color='red')\n",
    ")\n",
    "\n",
    "fig.add_trace(trace, row=1, col=1)\n",
    "\n",
    "fig.update_layout(\n",
    "    title='Total Sales by Region',\n",
    "    xaxis_title='Region A: subregions',\n",
    "    yaxis_title='Actual Sales'\n",
    ")\n",
    "\n",
    "fig.show()\n"
   ]
  },
  {
   "attachments": {},
   "cell_type": "markdown",
   "id": "b163545f",
   "metadata": {},
   "source": [
    "Now it is turn for Region B."
   ]
  },
  {
   "cell_type": "code",
   "execution_count": 54,
   "id": "0251b97f",
   "metadata": {},
   "outputs": [
    {
     "data": {
      "application/vnd.plotly.v1+json": {
       "config": {
        "plotlyServerURL": "https://plot.ly"
       },
       "data": [
        {
         "marker": {
          "color": "green"
         },
         "name": "Actual Sales",
         "type": "bar",
         "x": [
          "Region 100",
          "Region 107",
          "Region 111",
          "Region 12",
          "Region 125",
          "Region 127",
          "Region 141",
          "Region 142",
          "Region 148",
          "Region 158",
          "Region 17",
          "Region 172",
          "Region 177",
          "Region 179",
          "Region 180",
          "Region 187",
          "Region 193",
          "Region 195",
          "Region 208",
          "Region 212",
          "Region 213",
          "Region 214",
          "Region 24",
          "Region 37",
          "Region 39",
          "Region 40",
          "Region 46",
          "Region 49",
          "Region 54",
          "Region 59",
          "Region 69",
          "Region 76",
          "Region 85",
          "Region 99"
         ],
         "xaxis": "x",
         "y": [
          4802144.02088,
          9290089.09512,
          6998624.21127,
          133193606.34947,
          4009791.03369,
          6310358.34596,
          6182333.05213,
          11212512.72142,
          9573019.04646,
          14908910.45227,
          26835492.2886,
          7599981.22904,
          4772915.58859,
          3207404.98623,
          3219328.27636,
          4651244.3653,
          937609.46078,
          7847029.94439,
          3355562.94562,
          6096710.46471,
          9808508.60751,
          7508129.76989,
          31543419.55859,
          44900192.19344,
          103864779.36668,
          29112967.79799,
          11202849.72045,
          5157156.07543,
          5987500.2192,
          9316410.66331,
          23712781.71878,
          8234865.61552,
          9988581.11812,
          14889913.5385
         ],
         "yaxis": "y"
        }
       ],
       "layout": {
        "template": {
         "data": {
          "bar": [
           {
            "error_x": {
             "color": "#2a3f5f"
            },
            "error_y": {
             "color": "#2a3f5f"
            },
            "marker": {
             "line": {
              "color": "#E5ECF6",
              "width": 0.5
             },
             "pattern": {
              "fillmode": "overlay",
              "size": 10,
              "solidity": 0.2
             }
            },
            "type": "bar"
           }
          ],
          "barpolar": [
           {
            "marker": {
             "line": {
              "color": "#E5ECF6",
              "width": 0.5
             },
             "pattern": {
              "fillmode": "overlay",
              "size": 10,
              "solidity": 0.2
             }
            },
            "type": "barpolar"
           }
          ],
          "carpet": [
           {
            "aaxis": {
             "endlinecolor": "#2a3f5f",
             "gridcolor": "white",
             "linecolor": "white",
             "minorgridcolor": "white",
             "startlinecolor": "#2a3f5f"
            },
            "baxis": {
             "endlinecolor": "#2a3f5f",
             "gridcolor": "white",
             "linecolor": "white",
             "minorgridcolor": "white",
             "startlinecolor": "#2a3f5f"
            },
            "type": "carpet"
           }
          ],
          "choropleth": [
           {
            "colorbar": {
             "outlinewidth": 0,
             "ticks": ""
            },
            "type": "choropleth"
           }
          ],
          "contour": [
           {
            "colorbar": {
             "outlinewidth": 0,
             "ticks": ""
            },
            "colorscale": [
             [
              0,
              "#0d0887"
             ],
             [
              0.1111111111111111,
              "#46039f"
             ],
             [
              0.2222222222222222,
              "#7201a8"
             ],
             [
              0.3333333333333333,
              "#9c179e"
             ],
             [
              0.4444444444444444,
              "#bd3786"
             ],
             [
              0.5555555555555556,
              "#d8576b"
             ],
             [
              0.6666666666666666,
              "#ed7953"
             ],
             [
              0.7777777777777778,
              "#fb9f3a"
             ],
             [
              0.8888888888888888,
              "#fdca26"
             ],
             [
              1,
              "#f0f921"
             ]
            ],
            "type": "contour"
           }
          ],
          "contourcarpet": [
           {
            "colorbar": {
             "outlinewidth": 0,
             "ticks": ""
            },
            "type": "contourcarpet"
           }
          ],
          "heatmap": [
           {
            "colorbar": {
             "outlinewidth": 0,
             "ticks": ""
            },
            "colorscale": [
             [
              0,
              "#0d0887"
             ],
             [
              0.1111111111111111,
              "#46039f"
             ],
             [
              0.2222222222222222,
              "#7201a8"
             ],
             [
              0.3333333333333333,
              "#9c179e"
             ],
             [
              0.4444444444444444,
              "#bd3786"
             ],
             [
              0.5555555555555556,
              "#d8576b"
             ],
             [
              0.6666666666666666,
              "#ed7953"
             ],
             [
              0.7777777777777778,
              "#fb9f3a"
             ],
             [
              0.8888888888888888,
              "#fdca26"
             ],
             [
              1,
              "#f0f921"
             ]
            ],
            "type": "heatmap"
           }
          ],
          "heatmapgl": [
           {
            "colorbar": {
             "outlinewidth": 0,
             "ticks": ""
            },
            "colorscale": [
             [
              0,
              "#0d0887"
             ],
             [
              0.1111111111111111,
              "#46039f"
             ],
             [
              0.2222222222222222,
              "#7201a8"
             ],
             [
              0.3333333333333333,
              "#9c179e"
             ],
             [
              0.4444444444444444,
              "#bd3786"
             ],
             [
              0.5555555555555556,
              "#d8576b"
             ],
             [
              0.6666666666666666,
              "#ed7953"
             ],
             [
              0.7777777777777778,
              "#fb9f3a"
             ],
             [
              0.8888888888888888,
              "#fdca26"
             ],
             [
              1,
              "#f0f921"
             ]
            ],
            "type": "heatmapgl"
           }
          ],
          "histogram": [
           {
            "marker": {
             "pattern": {
              "fillmode": "overlay",
              "size": 10,
              "solidity": 0.2
             }
            },
            "type": "histogram"
           }
          ],
          "histogram2d": [
           {
            "colorbar": {
             "outlinewidth": 0,
             "ticks": ""
            },
            "colorscale": [
             [
              0,
              "#0d0887"
             ],
             [
              0.1111111111111111,
              "#46039f"
             ],
             [
              0.2222222222222222,
              "#7201a8"
             ],
             [
              0.3333333333333333,
              "#9c179e"
             ],
             [
              0.4444444444444444,
              "#bd3786"
             ],
             [
              0.5555555555555556,
              "#d8576b"
             ],
             [
              0.6666666666666666,
              "#ed7953"
             ],
             [
              0.7777777777777778,
              "#fb9f3a"
             ],
             [
              0.8888888888888888,
              "#fdca26"
             ],
             [
              1,
              "#f0f921"
             ]
            ],
            "type": "histogram2d"
           }
          ],
          "histogram2dcontour": [
           {
            "colorbar": {
             "outlinewidth": 0,
             "ticks": ""
            },
            "colorscale": [
             [
              0,
              "#0d0887"
             ],
             [
              0.1111111111111111,
              "#46039f"
             ],
             [
              0.2222222222222222,
              "#7201a8"
             ],
             [
              0.3333333333333333,
              "#9c179e"
             ],
             [
              0.4444444444444444,
              "#bd3786"
             ],
             [
              0.5555555555555556,
              "#d8576b"
             ],
             [
              0.6666666666666666,
              "#ed7953"
             ],
             [
              0.7777777777777778,
              "#fb9f3a"
             ],
             [
              0.8888888888888888,
              "#fdca26"
             ],
             [
              1,
              "#f0f921"
             ]
            ],
            "type": "histogram2dcontour"
           }
          ],
          "mesh3d": [
           {
            "colorbar": {
             "outlinewidth": 0,
             "ticks": ""
            },
            "type": "mesh3d"
           }
          ],
          "parcoords": [
           {
            "line": {
             "colorbar": {
              "outlinewidth": 0,
              "ticks": ""
             }
            },
            "type": "parcoords"
           }
          ],
          "pie": [
           {
            "automargin": true,
            "type": "pie"
           }
          ],
          "scatter": [
           {
            "fillpattern": {
             "fillmode": "overlay",
             "size": 10,
             "solidity": 0.2
            },
            "type": "scatter"
           }
          ],
          "scatter3d": [
           {
            "line": {
             "colorbar": {
              "outlinewidth": 0,
              "ticks": ""
             }
            },
            "marker": {
             "colorbar": {
              "outlinewidth": 0,
              "ticks": ""
             }
            },
            "type": "scatter3d"
           }
          ],
          "scattercarpet": [
           {
            "marker": {
             "colorbar": {
              "outlinewidth": 0,
              "ticks": ""
             }
            },
            "type": "scattercarpet"
           }
          ],
          "scattergeo": [
           {
            "marker": {
             "colorbar": {
              "outlinewidth": 0,
              "ticks": ""
             }
            },
            "type": "scattergeo"
           }
          ],
          "scattergl": [
           {
            "marker": {
             "colorbar": {
              "outlinewidth": 0,
              "ticks": ""
             }
            },
            "type": "scattergl"
           }
          ],
          "scattermapbox": [
           {
            "marker": {
             "colorbar": {
              "outlinewidth": 0,
              "ticks": ""
             }
            },
            "type": "scattermapbox"
           }
          ],
          "scatterpolar": [
           {
            "marker": {
             "colorbar": {
              "outlinewidth": 0,
              "ticks": ""
             }
            },
            "type": "scatterpolar"
           }
          ],
          "scatterpolargl": [
           {
            "marker": {
             "colorbar": {
              "outlinewidth": 0,
              "ticks": ""
             }
            },
            "type": "scatterpolargl"
           }
          ],
          "scatterternary": [
           {
            "marker": {
             "colorbar": {
              "outlinewidth": 0,
              "ticks": ""
             }
            },
            "type": "scatterternary"
           }
          ],
          "surface": [
           {
            "colorbar": {
             "outlinewidth": 0,
             "ticks": ""
            },
            "colorscale": [
             [
              0,
              "#0d0887"
             ],
             [
              0.1111111111111111,
              "#46039f"
             ],
             [
              0.2222222222222222,
              "#7201a8"
             ],
             [
              0.3333333333333333,
              "#9c179e"
             ],
             [
              0.4444444444444444,
              "#bd3786"
             ],
             [
              0.5555555555555556,
              "#d8576b"
             ],
             [
              0.6666666666666666,
              "#ed7953"
             ],
             [
              0.7777777777777778,
              "#fb9f3a"
             ],
             [
              0.8888888888888888,
              "#fdca26"
             ],
             [
              1,
              "#f0f921"
             ]
            ],
            "type": "surface"
           }
          ],
          "table": [
           {
            "cells": {
             "fill": {
              "color": "#EBF0F8"
             },
             "line": {
              "color": "white"
             }
            },
            "header": {
             "fill": {
              "color": "#C8D4E3"
             },
             "line": {
              "color": "white"
             }
            },
            "type": "table"
           }
          ]
         },
         "layout": {
          "annotationdefaults": {
           "arrowcolor": "#2a3f5f",
           "arrowhead": 0,
           "arrowwidth": 1
          },
          "autotypenumbers": "strict",
          "coloraxis": {
           "colorbar": {
            "outlinewidth": 0,
            "ticks": ""
           }
          },
          "colorscale": {
           "diverging": [
            [
             0,
             "#8e0152"
            ],
            [
             0.1,
             "#c51b7d"
            ],
            [
             0.2,
             "#de77ae"
            ],
            [
             0.3,
             "#f1b6da"
            ],
            [
             0.4,
             "#fde0ef"
            ],
            [
             0.5,
             "#f7f7f7"
            ],
            [
             0.6,
             "#e6f5d0"
            ],
            [
             0.7,
             "#b8e186"
            ],
            [
             0.8,
             "#7fbc41"
            ],
            [
             0.9,
             "#4d9221"
            ],
            [
             1,
             "#276419"
            ]
           ],
           "sequential": [
            [
             0,
             "#0d0887"
            ],
            [
             0.1111111111111111,
             "#46039f"
            ],
            [
             0.2222222222222222,
             "#7201a8"
            ],
            [
             0.3333333333333333,
             "#9c179e"
            ],
            [
             0.4444444444444444,
             "#bd3786"
            ],
            [
             0.5555555555555556,
             "#d8576b"
            ],
            [
             0.6666666666666666,
             "#ed7953"
            ],
            [
             0.7777777777777778,
             "#fb9f3a"
            ],
            [
             0.8888888888888888,
             "#fdca26"
            ],
            [
             1,
             "#f0f921"
            ]
           ],
           "sequentialminus": [
            [
             0,
             "#0d0887"
            ],
            [
             0.1111111111111111,
             "#46039f"
            ],
            [
             0.2222222222222222,
             "#7201a8"
            ],
            [
             0.3333333333333333,
             "#9c179e"
            ],
            [
             0.4444444444444444,
             "#bd3786"
            ],
            [
             0.5555555555555556,
             "#d8576b"
            ],
            [
             0.6666666666666666,
             "#ed7953"
            ],
            [
             0.7777777777777778,
             "#fb9f3a"
            ],
            [
             0.8888888888888888,
             "#fdca26"
            ],
            [
             1,
             "#f0f921"
            ]
           ]
          },
          "colorway": [
           "#636efa",
           "#EF553B",
           "#00cc96",
           "#ab63fa",
           "#FFA15A",
           "#19d3f3",
           "#FF6692",
           "#B6E880",
           "#FF97FF",
           "#FECB52"
          ],
          "font": {
           "color": "#2a3f5f"
          },
          "geo": {
           "bgcolor": "white",
           "lakecolor": "white",
           "landcolor": "#E5ECF6",
           "showlakes": true,
           "showland": true,
           "subunitcolor": "white"
          },
          "hoverlabel": {
           "align": "left"
          },
          "hovermode": "closest",
          "mapbox": {
           "style": "light"
          },
          "paper_bgcolor": "white",
          "plot_bgcolor": "#E5ECF6",
          "polar": {
           "angularaxis": {
            "gridcolor": "white",
            "linecolor": "white",
            "ticks": ""
           },
           "bgcolor": "#E5ECF6",
           "radialaxis": {
            "gridcolor": "white",
            "linecolor": "white",
            "ticks": ""
           }
          },
          "scene": {
           "xaxis": {
            "backgroundcolor": "#E5ECF6",
            "gridcolor": "white",
            "gridwidth": 2,
            "linecolor": "white",
            "showbackground": true,
            "ticks": "",
            "zerolinecolor": "white"
           },
           "yaxis": {
            "backgroundcolor": "#E5ECF6",
            "gridcolor": "white",
            "gridwidth": 2,
            "linecolor": "white",
            "showbackground": true,
            "ticks": "",
            "zerolinecolor": "white"
           },
           "zaxis": {
            "backgroundcolor": "#E5ECF6",
            "gridcolor": "white",
            "gridwidth": 2,
            "linecolor": "white",
            "showbackground": true,
            "ticks": "",
            "zerolinecolor": "white"
           }
          },
          "shapedefaults": {
           "line": {
            "color": "#2a3f5f"
           }
          },
          "ternary": {
           "aaxis": {
            "gridcolor": "white",
            "linecolor": "white",
            "ticks": ""
           },
           "baxis": {
            "gridcolor": "white",
            "linecolor": "white",
            "ticks": ""
           },
           "bgcolor": "#E5ECF6",
           "caxis": {
            "gridcolor": "white",
            "linecolor": "white",
            "ticks": ""
           }
          },
          "title": {
           "x": 0.05
          },
          "xaxis": {
           "automargin": true,
           "gridcolor": "white",
           "linecolor": "white",
           "ticks": "",
           "title": {
            "standoff": 15
           },
           "zerolinecolor": "white",
           "zerolinewidth": 2
          },
          "yaxis": {
           "automargin": true,
           "gridcolor": "white",
           "linecolor": "white",
           "ticks": "",
           "title": {
            "standoff": 15
           },
           "zerolinecolor": "white",
           "zerolinewidth": 2
          }
         }
        },
        "title": {
         "text": "Total Sales by Subregion"
        },
        "xaxis": {
         "anchor": "y",
         "domain": [
          0,
          1
         ],
         "title": {
          "text": "Region B: subregions"
         }
        },
        "yaxis": {
         "anchor": "x",
         "domain": [
          0,
          1
         ],
         "title": {
          "text": "Actual Sales"
         }
        }
       }
      }
     },
     "metadata": {},
     "output_type": "display_data"
    }
   ],
   "source": [
    "regionB_sales = total_products[total_products['Region_Lvl1'] == 'RegionB']\n",
    "# print(regionA_sales)\n",
    "region_sales = regionB_sales.groupby('Region_Lvl2')['ActualSales'].sum()\n",
    "\n",
    "fig = make_subplots(rows=1, cols=1)\n",
    "\n",
    "trace = go.Bar(\n",
    "    x=region_sales.index,\n",
    "    y=region_sales.values,\n",
    "    name='Actual Sales',\n",
    "    marker=dict(color='green')\n",
    ")\n",
    "\n",
    "fig.add_trace(trace, row=1, col=1)\n",
    "\n",
    "fig.update_layout(\n",
    "    title='Total Sales by Subregion',\n",
    "    xaxis_title='Region B: subregions',\n",
    "    yaxis_title='Actual Sales'\n",
    ")\n",
    "\n",
    "fig.show()"
   ]
  },
  {
   "attachments": {},
   "cell_type": "markdown",
   "id": "6a4ceb69",
   "metadata": {},
   "source": [
    "Commenta cosa hai fatto brodi"
   ]
  },
  {
   "cell_type": "code",
   "execution_count": 55,
   "id": "64106941",
   "metadata": {},
   "outputs": [],
   "source": [
    "temp = total_products['ProductCategory_Lvl2']\n",
    "temp = np.array(temp)\n",
    "temp = [i if i[0:9] == 'Category' else 'Category' + i[9::] for i in temp]\n",
    "total_products['ProductCategory_Lvl2'] = temp\n",
    "\n",
    "category_sales = total_products.groupby('ProductCategory_Lvl2')['ActualSales'].sum()\n",
    "# print(category_sales)"
   ]
  },
  {
   "attachments": {},
   "cell_type": "markdown",
   "id": "0423891c",
   "metadata": {},
   "source": [
    "We also show a barplot where total sales per category are shown."
   ]
  },
  {
   "cell_type": "code",
   "execution_count": 56,
   "id": "7f54f82f",
   "metadata": {},
   "outputs": [
    {
     "data": {
      "application/vnd.plotly.v1+json": {
       "config": {
        "plotlyServerURL": "https://plot.ly"
       },
       "data": [
        {
         "marker": {
          "color": "orange"
         },
         "name": "Actual Sales",
         "type": "bar",
         "x": [
          "CategoryAA",
          "CategoryAB",
          "CategoryAC",
          "CategoryAD",
          "CategoryAE"
         ],
         "xaxis": "x",
         "y": [
          731671673.91864,
          1019246578.73904,
          1210178843.77858,
          17694272.65695,
          234593680.4594
         ],
         "yaxis": "y"
        }
       ],
       "layout": {
        "template": {
         "data": {
          "bar": [
           {
            "error_x": {
             "color": "#2a3f5f"
            },
            "error_y": {
             "color": "#2a3f5f"
            },
            "marker": {
             "line": {
              "color": "#E5ECF6",
              "width": 0.5
             },
             "pattern": {
              "fillmode": "overlay",
              "size": 10,
              "solidity": 0.2
             }
            },
            "type": "bar"
           }
          ],
          "barpolar": [
           {
            "marker": {
             "line": {
              "color": "#E5ECF6",
              "width": 0.5
             },
             "pattern": {
              "fillmode": "overlay",
              "size": 10,
              "solidity": 0.2
             }
            },
            "type": "barpolar"
           }
          ],
          "carpet": [
           {
            "aaxis": {
             "endlinecolor": "#2a3f5f",
             "gridcolor": "white",
             "linecolor": "white",
             "minorgridcolor": "white",
             "startlinecolor": "#2a3f5f"
            },
            "baxis": {
             "endlinecolor": "#2a3f5f",
             "gridcolor": "white",
             "linecolor": "white",
             "minorgridcolor": "white",
             "startlinecolor": "#2a3f5f"
            },
            "type": "carpet"
           }
          ],
          "choropleth": [
           {
            "colorbar": {
             "outlinewidth": 0,
             "ticks": ""
            },
            "type": "choropleth"
           }
          ],
          "contour": [
           {
            "colorbar": {
             "outlinewidth": 0,
             "ticks": ""
            },
            "colorscale": [
             [
              0,
              "#0d0887"
             ],
             [
              0.1111111111111111,
              "#46039f"
             ],
             [
              0.2222222222222222,
              "#7201a8"
             ],
             [
              0.3333333333333333,
              "#9c179e"
             ],
             [
              0.4444444444444444,
              "#bd3786"
             ],
             [
              0.5555555555555556,
              "#d8576b"
             ],
             [
              0.6666666666666666,
              "#ed7953"
             ],
             [
              0.7777777777777778,
              "#fb9f3a"
             ],
             [
              0.8888888888888888,
              "#fdca26"
             ],
             [
              1,
              "#f0f921"
             ]
            ],
            "type": "contour"
           }
          ],
          "contourcarpet": [
           {
            "colorbar": {
             "outlinewidth": 0,
             "ticks": ""
            },
            "type": "contourcarpet"
           }
          ],
          "heatmap": [
           {
            "colorbar": {
             "outlinewidth": 0,
             "ticks": ""
            },
            "colorscale": [
             [
              0,
              "#0d0887"
             ],
             [
              0.1111111111111111,
              "#46039f"
             ],
             [
              0.2222222222222222,
              "#7201a8"
             ],
             [
              0.3333333333333333,
              "#9c179e"
             ],
             [
              0.4444444444444444,
              "#bd3786"
             ],
             [
              0.5555555555555556,
              "#d8576b"
             ],
             [
              0.6666666666666666,
              "#ed7953"
             ],
             [
              0.7777777777777778,
              "#fb9f3a"
             ],
             [
              0.8888888888888888,
              "#fdca26"
             ],
             [
              1,
              "#f0f921"
             ]
            ],
            "type": "heatmap"
           }
          ],
          "heatmapgl": [
           {
            "colorbar": {
             "outlinewidth": 0,
             "ticks": ""
            },
            "colorscale": [
             [
              0,
              "#0d0887"
             ],
             [
              0.1111111111111111,
              "#46039f"
             ],
             [
              0.2222222222222222,
              "#7201a8"
             ],
             [
              0.3333333333333333,
              "#9c179e"
             ],
             [
              0.4444444444444444,
              "#bd3786"
             ],
             [
              0.5555555555555556,
              "#d8576b"
             ],
             [
              0.6666666666666666,
              "#ed7953"
             ],
             [
              0.7777777777777778,
              "#fb9f3a"
             ],
             [
              0.8888888888888888,
              "#fdca26"
             ],
             [
              1,
              "#f0f921"
             ]
            ],
            "type": "heatmapgl"
           }
          ],
          "histogram": [
           {
            "marker": {
             "pattern": {
              "fillmode": "overlay",
              "size": 10,
              "solidity": 0.2
             }
            },
            "type": "histogram"
           }
          ],
          "histogram2d": [
           {
            "colorbar": {
             "outlinewidth": 0,
             "ticks": ""
            },
            "colorscale": [
             [
              0,
              "#0d0887"
             ],
             [
              0.1111111111111111,
              "#46039f"
             ],
             [
              0.2222222222222222,
              "#7201a8"
             ],
             [
              0.3333333333333333,
              "#9c179e"
             ],
             [
              0.4444444444444444,
              "#bd3786"
             ],
             [
              0.5555555555555556,
              "#d8576b"
             ],
             [
              0.6666666666666666,
              "#ed7953"
             ],
             [
              0.7777777777777778,
              "#fb9f3a"
             ],
             [
              0.8888888888888888,
              "#fdca26"
             ],
             [
              1,
              "#f0f921"
             ]
            ],
            "type": "histogram2d"
           }
          ],
          "histogram2dcontour": [
           {
            "colorbar": {
             "outlinewidth": 0,
             "ticks": ""
            },
            "colorscale": [
             [
              0,
              "#0d0887"
             ],
             [
              0.1111111111111111,
              "#46039f"
             ],
             [
              0.2222222222222222,
              "#7201a8"
             ],
             [
              0.3333333333333333,
              "#9c179e"
             ],
             [
              0.4444444444444444,
              "#bd3786"
             ],
             [
              0.5555555555555556,
              "#d8576b"
             ],
             [
              0.6666666666666666,
              "#ed7953"
             ],
             [
              0.7777777777777778,
              "#fb9f3a"
             ],
             [
              0.8888888888888888,
              "#fdca26"
             ],
             [
              1,
              "#f0f921"
             ]
            ],
            "type": "histogram2dcontour"
           }
          ],
          "mesh3d": [
           {
            "colorbar": {
             "outlinewidth": 0,
             "ticks": ""
            },
            "type": "mesh3d"
           }
          ],
          "parcoords": [
           {
            "line": {
             "colorbar": {
              "outlinewidth": 0,
              "ticks": ""
             }
            },
            "type": "parcoords"
           }
          ],
          "pie": [
           {
            "automargin": true,
            "type": "pie"
           }
          ],
          "scatter": [
           {
            "fillpattern": {
             "fillmode": "overlay",
             "size": 10,
             "solidity": 0.2
            },
            "type": "scatter"
           }
          ],
          "scatter3d": [
           {
            "line": {
             "colorbar": {
              "outlinewidth": 0,
              "ticks": ""
             }
            },
            "marker": {
             "colorbar": {
              "outlinewidth": 0,
              "ticks": ""
             }
            },
            "type": "scatter3d"
           }
          ],
          "scattercarpet": [
           {
            "marker": {
             "colorbar": {
              "outlinewidth": 0,
              "ticks": ""
             }
            },
            "type": "scattercarpet"
           }
          ],
          "scattergeo": [
           {
            "marker": {
             "colorbar": {
              "outlinewidth": 0,
              "ticks": ""
             }
            },
            "type": "scattergeo"
           }
          ],
          "scattergl": [
           {
            "marker": {
             "colorbar": {
              "outlinewidth": 0,
              "ticks": ""
             }
            },
            "type": "scattergl"
           }
          ],
          "scattermapbox": [
           {
            "marker": {
             "colorbar": {
              "outlinewidth": 0,
              "ticks": ""
             }
            },
            "type": "scattermapbox"
           }
          ],
          "scatterpolar": [
           {
            "marker": {
             "colorbar": {
              "outlinewidth": 0,
              "ticks": ""
             }
            },
            "type": "scatterpolar"
           }
          ],
          "scatterpolargl": [
           {
            "marker": {
             "colorbar": {
              "outlinewidth": 0,
              "ticks": ""
             }
            },
            "type": "scatterpolargl"
           }
          ],
          "scatterternary": [
           {
            "marker": {
             "colorbar": {
              "outlinewidth": 0,
              "ticks": ""
             }
            },
            "type": "scatterternary"
           }
          ],
          "surface": [
           {
            "colorbar": {
             "outlinewidth": 0,
             "ticks": ""
            },
            "colorscale": [
             [
              0,
              "#0d0887"
             ],
             [
              0.1111111111111111,
              "#46039f"
             ],
             [
              0.2222222222222222,
              "#7201a8"
             ],
             [
              0.3333333333333333,
              "#9c179e"
             ],
             [
              0.4444444444444444,
              "#bd3786"
             ],
             [
              0.5555555555555556,
              "#d8576b"
             ],
             [
              0.6666666666666666,
              "#ed7953"
             ],
             [
              0.7777777777777778,
              "#fb9f3a"
             ],
             [
              0.8888888888888888,
              "#fdca26"
             ],
             [
              1,
              "#f0f921"
             ]
            ],
            "type": "surface"
           }
          ],
          "table": [
           {
            "cells": {
             "fill": {
              "color": "#EBF0F8"
             },
             "line": {
              "color": "white"
             }
            },
            "header": {
             "fill": {
              "color": "#C8D4E3"
             },
             "line": {
              "color": "white"
             }
            },
            "type": "table"
           }
          ]
         },
         "layout": {
          "annotationdefaults": {
           "arrowcolor": "#2a3f5f",
           "arrowhead": 0,
           "arrowwidth": 1
          },
          "autotypenumbers": "strict",
          "coloraxis": {
           "colorbar": {
            "outlinewidth": 0,
            "ticks": ""
           }
          },
          "colorscale": {
           "diverging": [
            [
             0,
             "#8e0152"
            ],
            [
             0.1,
             "#c51b7d"
            ],
            [
             0.2,
             "#de77ae"
            ],
            [
             0.3,
             "#f1b6da"
            ],
            [
             0.4,
             "#fde0ef"
            ],
            [
             0.5,
             "#f7f7f7"
            ],
            [
             0.6,
             "#e6f5d0"
            ],
            [
             0.7,
             "#b8e186"
            ],
            [
             0.8,
             "#7fbc41"
            ],
            [
             0.9,
             "#4d9221"
            ],
            [
             1,
             "#276419"
            ]
           ],
           "sequential": [
            [
             0,
             "#0d0887"
            ],
            [
             0.1111111111111111,
             "#46039f"
            ],
            [
             0.2222222222222222,
             "#7201a8"
            ],
            [
             0.3333333333333333,
             "#9c179e"
            ],
            [
             0.4444444444444444,
             "#bd3786"
            ],
            [
             0.5555555555555556,
             "#d8576b"
            ],
            [
             0.6666666666666666,
             "#ed7953"
            ],
            [
             0.7777777777777778,
             "#fb9f3a"
            ],
            [
             0.8888888888888888,
             "#fdca26"
            ],
            [
             1,
             "#f0f921"
            ]
           ],
           "sequentialminus": [
            [
             0,
             "#0d0887"
            ],
            [
             0.1111111111111111,
             "#46039f"
            ],
            [
             0.2222222222222222,
             "#7201a8"
            ],
            [
             0.3333333333333333,
             "#9c179e"
            ],
            [
             0.4444444444444444,
             "#bd3786"
            ],
            [
             0.5555555555555556,
             "#d8576b"
            ],
            [
             0.6666666666666666,
             "#ed7953"
            ],
            [
             0.7777777777777778,
             "#fb9f3a"
            ],
            [
             0.8888888888888888,
             "#fdca26"
            ],
            [
             1,
             "#f0f921"
            ]
           ]
          },
          "colorway": [
           "#636efa",
           "#EF553B",
           "#00cc96",
           "#ab63fa",
           "#FFA15A",
           "#19d3f3",
           "#FF6692",
           "#B6E880",
           "#FF97FF",
           "#FECB52"
          ],
          "font": {
           "color": "#2a3f5f"
          },
          "geo": {
           "bgcolor": "white",
           "lakecolor": "white",
           "landcolor": "#E5ECF6",
           "showlakes": true,
           "showland": true,
           "subunitcolor": "white"
          },
          "hoverlabel": {
           "align": "left"
          },
          "hovermode": "closest",
          "mapbox": {
           "style": "light"
          },
          "paper_bgcolor": "white",
          "plot_bgcolor": "#E5ECF6",
          "polar": {
           "angularaxis": {
            "gridcolor": "white",
            "linecolor": "white",
            "ticks": ""
           },
           "bgcolor": "#E5ECF6",
           "radialaxis": {
            "gridcolor": "white",
            "linecolor": "white",
            "ticks": ""
           }
          },
          "scene": {
           "xaxis": {
            "backgroundcolor": "#E5ECF6",
            "gridcolor": "white",
            "gridwidth": 2,
            "linecolor": "white",
            "showbackground": true,
            "ticks": "",
            "zerolinecolor": "white"
           },
           "yaxis": {
            "backgroundcolor": "#E5ECF6",
            "gridcolor": "white",
            "gridwidth": 2,
            "linecolor": "white",
            "showbackground": true,
            "ticks": "",
            "zerolinecolor": "white"
           },
           "zaxis": {
            "backgroundcolor": "#E5ECF6",
            "gridcolor": "white",
            "gridwidth": 2,
            "linecolor": "white",
            "showbackground": true,
            "ticks": "",
            "zerolinecolor": "white"
           }
          },
          "shapedefaults": {
           "line": {
            "color": "#2a3f5f"
           }
          },
          "ternary": {
           "aaxis": {
            "gridcolor": "white",
            "linecolor": "white",
            "ticks": ""
           },
           "baxis": {
            "gridcolor": "white",
            "linecolor": "white",
            "ticks": ""
           },
           "bgcolor": "#E5ECF6",
           "caxis": {
            "gridcolor": "white",
            "linecolor": "white",
            "ticks": ""
           }
          },
          "title": {
           "x": 0.05
          },
          "xaxis": {
           "automargin": true,
           "gridcolor": "white",
           "linecolor": "white",
           "ticks": "",
           "title": {
            "standoff": 15
           },
           "zerolinecolor": "white",
           "zerolinewidth": 2
          },
          "yaxis": {
           "automargin": true,
           "gridcolor": "white",
           "linecolor": "white",
           "ticks": "",
           "title": {
            "standoff": 15
           },
           "zerolinecolor": "white",
           "zerolinewidth": 2
          }
         }
        },
        "title": {
         "text": "Total Sales by Category"
        },
        "xaxis": {
         "anchor": "y",
         "domain": [
          0,
          1
         ],
         "title": {
          "text": "Category"
         }
        },
        "yaxis": {
         "anchor": "x",
         "domain": [
          0,
          1
         ],
         "title": {
          "text": "Actual Sales"
         }
        }
       }
      }
     },
     "metadata": {},
     "output_type": "display_data"
    }
   ],
   "source": [
    "fig = make_subplots(rows=1, cols=1)\n",
    "\n",
    "\n",
    "trace = go.Bar(\n",
    "    x=category_sales.index,\n",
    "    y=category_sales.values,\n",
    "    name='Actual Sales',\n",
    "    marker=dict(color='orange')\n",
    ")\n",
    "\n",
    "fig.add_trace(trace, row=1, col=1)\n",
    "\n",
    "fig.update_layout(\n",
    "    title='Total Sales by Category',\n",
    "    xaxis_title='Category',\n",
    "    yaxis_title='Actual Sales'\n",
    ")\n",
    "\n",
    "fig.show()"
   ]
  },
  {
   "attachments": {},
   "cell_type": "markdown",
   "id": "ca0b022b",
   "metadata": {},
   "source": [
    "Even though total sales can be a good way to estimate the popularity of product categories, the average seems more appropriate as it takes into account the number ofproducts belonging to each category."
   ]
  },
  {
   "cell_type": "code",
   "execution_count": 57,
   "id": "d997ef9d",
   "metadata": {},
   "outputs": [],
   "source": [
    "category_mean = total_products.groupby('ProductCategory_Lvl2')['ActualSales'].mean()\n",
    "# print(category_sales)"
   ]
  },
  {
   "cell_type": "code",
   "execution_count": 58,
   "id": "8c8733fd",
   "metadata": {},
   "outputs": [
    {
     "data": {
      "application/vnd.plotly.v1+json": {
       "config": {
        "plotlyServerURL": "https://plot.ly"
       },
       "data": [
        {
         "marker": {
          "color": "cyan"
         },
         "name": "Actual Sales",
         "type": "bar",
         "x": [
          "CategoryAA",
          "CategoryAB",
          "CategoryAC",
          "CategoryAD",
          "CategoryAE"
         ],
         "xaxis": "x",
         "y": [
          271.4574210207669,
          272.95905446158395,
          297.35044470137893,
          240.28725192088325,
          296.5133844886207
         ],
         "yaxis": "y"
        }
       ],
       "layout": {
        "template": {
         "data": {
          "bar": [
           {
            "error_x": {
             "color": "#2a3f5f"
            },
            "error_y": {
             "color": "#2a3f5f"
            },
            "marker": {
             "line": {
              "color": "#E5ECF6",
              "width": 0.5
             },
             "pattern": {
              "fillmode": "overlay",
              "size": 10,
              "solidity": 0.2
             }
            },
            "type": "bar"
           }
          ],
          "barpolar": [
           {
            "marker": {
             "line": {
              "color": "#E5ECF6",
              "width": 0.5
             },
             "pattern": {
              "fillmode": "overlay",
              "size": 10,
              "solidity": 0.2
             }
            },
            "type": "barpolar"
           }
          ],
          "carpet": [
           {
            "aaxis": {
             "endlinecolor": "#2a3f5f",
             "gridcolor": "white",
             "linecolor": "white",
             "minorgridcolor": "white",
             "startlinecolor": "#2a3f5f"
            },
            "baxis": {
             "endlinecolor": "#2a3f5f",
             "gridcolor": "white",
             "linecolor": "white",
             "minorgridcolor": "white",
             "startlinecolor": "#2a3f5f"
            },
            "type": "carpet"
           }
          ],
          "choropleth": [
           {
            "colorbar": {
             "outlinewidth": 0,
             "ticks": ""
            },
            "type": "choropleth"
           }
          ],
          "contour": [
           {
            "colorbar": {
             "outlinewidth": 0,
             "ticks": ""
            },
            "colorscale": [
             [
              0,
              "#0d0887"
             ],
             [
              0.1111111111111111,
              "#46039f"
             ],
             [
              0.2222222222222222,
              "#7201a8"
             ],
             [
              0.3333333333333333,
              "#9c179e"
             ],
             [
              0.4444444444444444,
              "#bd3786"
             ],
             [
              0.5555555555555556,
              "#d8576b"
             ],
             [
              0.6666666666666666,
              "#ed7953"
             ],
             [
              0.7777777777777778,
              "#fb9f3a"
             ],
             [
              0.8888888888888888,
              "#fdca26"
             ],
             [
              1,
              "#f0f921"
             ]
            ],
            "type": "contour"
           }
          ],
          "contourcarpet": [
           {
            "colorbar": {
             "outlinewidth": 0,
             "ticks": ""
            },
            "type": "contourcarpet"
           }
          ],
          "heatmap": [
           {
            "colorbar": {
             "outlinewidth": 0,
             "ticks": ""
            },
            "colorscale": [
             [
              0,
              "#0d0887"
             ],
             [
              0.1111111111111111,
              "#46039f"
             ],
             [
              0.2222222222222222,
              "#7201a8"
             ],
             [
              0.3333333333333333,
              "#9c179e"
             ],
             [
              0.4444444444444444,
              "#bd3786"
             ],
             [
              0.5555555555555556,
              "#d8576b"
             ],
             [
              0.6666666666666666,
              "#ed7953"
             ],
             [
              0.7777777777777778,
              "#fb9f3a"
             ],
             [
              0.8888888888888888,
              "#fdca26"
             ],
             [
              1,
              "#f0f921"
             ]
            ],
            "type": "heatmap"
           }
          ],
          "heatmapgl": [
           {
            "colorbar": {
             "outlinewidth": 0,
             "ticks": ""
            },
            "colorscale": [
             [
              0,
              "#0d0887"
             ],
             [
              0.1111111111111111,
              "#46039f"
             ],
             [
              0.2222222222222222,
              "#7201a8"
             ],
             [
              0.3333333333333333,
              "#9c179e"
             ],
             [
              0.4444444444444444,
              "#bd3786"
             ],
             [
              0.5555555555555556,
              "#d8576b"
             ],
             [
              0.6666666666666666,
              "#ed7953"
             ],
             [
              0.7777777777777778,
              "#fb9f3a"
             ],
             [
              0.8888888888888888,
              "#fdca26"
             ],
             [
              1,
              "#f0f921"
             ]
            ],
            "type": "heatmapgl"
           }
          ],
          "histogram": [
           {
            "marker": {
             "pattern": {
              "fillmode": "overlay",
              "size": 10,
              "solidity": 0.2
             }
            },
            "type": "histogram"
           }
          ],
          "histogram2d": [
           {
            "colorbar": {
             "outlinewidth": 0,
             "ticks": ""
            },
            "colorscale": [
             [
              0,
              "#0d0887"
             ],
             [
              0.1111111111111111,
              "#46039f"
             ],
             [
              0.2222222222222222,
              "#7201a8"
             ],
             [
              0.3333333333333333,
              "#9c179e"
             ],
             [
              0.4444444444444444,
              "#bd3786"
             ],
             [
              0.5555555555555556,
              "#d8576b"
             ],
             [
              0.6666666666666666,
              "#ed7953"
             ],
             [
              0.7777777777777778,
              "#fb9f3a"
             ],
             [
              0.8888888888888888,
              "#fdca26"
             ],
             [
              1,
              "#f0f921"
             ]
            ],
            "type": "histogram2d"
           }
          ],
          "histogram2dcontour": [
           {
            "colorbar": {
             "outlinewidth": 0,
             "ticks": ""
            },
            "colorscale": [
             [
              0,
              "#0d0887"
             ],
             [
              0.1111111111111111,
              "#46039f"
             ],
             [
              0.2222222222222222,
              "#7201a8"
             ],
             [
              0.3333333333333333,
              "#9c179e"
             ],
             [
              0.4444444444444444,
              "#bd3786"
             ],
             [
              0.5555555555555556,
              "#d8576b"
             ],
             [
              0.6666666666666666,
              "#ed7953"
             ],
             [
              0.7777777777777778,
              "#fb9f3a"
             ],
             [
              0.8888888888888888,
              "#fdca26"
             ],
             [
              1,
              "#f0f921"
             ]
            ],
            "type": "histogram2dcontour"
           }
          ],
          "mesh3d": [
           {
            "colorbar": {
             "outlinewidth": 0,
             "ticks": ""
            },
            "type": "mesh3d"
           }
          ],
          "parcoords": [
           {
            "line": {
             "colorbar": {
              "outlinewidth": 0,
              "ticks": ""
             }
            },
            "type": "parcoords"
           }
          ],
          "pie": [
           {
            "automargin": true,
            "type": "pie"
           }
          ],
          "scatter": [
           {
            "fillpattern": {
             "fillmode": "overlay",
             "size": 10,
             "solidity": 0.2
            },
            "type": "scatter"
           }
          ],
          "scatter3d": [
           {
            "line": {
             "colorbar": {
              "outlinewidth": 0,
              "ticks": ""
             }
            },
            "marker": {
             "colorbar": {
              "outlinewidth": 0,
              "ticks": ""
             }
            },
            "type": "scatter3d"
           }
          ],
          "scattercarpet": [
           {
            "marker": {
             "colorbar": {
              "outlinewidth": 0,
              "ticks": ""
             }
            },
            "type": "scattercarpet"
           }
          ],
          "scattergeo": [
           {
            "marker": {
             "colorbar": {
              "outlinewidth": 0,
              "ticks": ""
             }
            },
            "type": "scattergeo"
           }
          ],
          "scattergl": [
           {
            "marker": {
             "colorbar": {
              "outlinewidth": 0,
              "ticks": ""
             }
            },
            "type": "scattergl"
           }
          ],
          "scattermapbox": [
           {
            "marker": {
             "colorbar": {
              "outlinewidth": 0,
              "ticks": ""
             }
            },
            "type": "scattermapbox"
           }
          ],
          "scatterpolar": [
           {
            "marker": {
             "colorbar": {
              "outlinewidth": 0,
              "ticks": ""
             }
            },
            "type": "scatterpolar"
           }
          ],
          "scatterpolargl": [
           {
            "marker": {
             "colorbar": {
              "outlinewidth": 0,
              "ticks": ""
             }
            },
            "type": "scatterpolargl"
           }
          ],
          "scatterternary": [
           {
            "marker": {
             "colorbar": {
              "outlinewidth": 0,
              "ticks": ""
             }
            },
            "type": "scatterternary"
           }
          ],
          "surface": [
           {
            "colorbar": {
             "outlinewidth": 0,
             "ticks": ""
            },
            "colorscale": [
             [
              0,
              "#0d0887"
             ],
             [
              0.1111111111111111,
              "#46039f"
             ],
             [
              0.2222222222222222,
              "#7201a8"
             ],
             [
              0.3333333333333333,
              "#9c179e"
             ],
             [
              0.4444444444444444,
              "#bd3786"
             ],
             [
              0.5555555555555556,
              "#d8576b"
             ],
             [
              0.6666666666666666,
              "#ed7953"
             ],
             [
              0.7777777777777778,
              "#fb9f3a"
             ],
             [
              0.8888888888888888,
              "#fdca26"
             ],
             [
              1,
              "#f0f921"
             ]
            ],
            "type": "surface"
           }
          ],
          "table": [
           {
            "cells": {
             "fill": {
              "color": "#EBF0F8"
             },
             "line": {
              "color": "white"
             }
            },
            "header": {
             "fill": {
              "color": "#C8D4E3"
             },
             "line": {
              "color": "white"
             }
            },
            "type": "table"
           }
          ]
         },
         "layout": {
          "annotationdefaults": {
           "arrowcolor": "#2a3f5f",
           "arrowhead": 0,
           "arrowwidth": 1
          },
          "autotypenumbers": "strict",
          "coloraxis": {
           "colorbar": {
            "outlinewidth": 0,
            "ticks": ""
           }
          },
          "colorscale": {
           "diverging": [
            [
             0,
             "#8e0152"
            ],
            [
             0.1,
             "#c51b7d"
            ],
            [
             0.2,
             "#de77ae"
            ],
            [
             0.3,
             "#f1b6da"
            ],
            [
             0.4,
             "#fde0ef"
            ],
            [
             0.5,
             "#f7f7f7"
            ],
            [
             0.6,
             "#e6f5d0"
            ],
            [
             0.7,
             "#b8e186"
            ],
            [
             0.8,
             "#7fbc41"
            ],
            [
             0.9,
             "#4d9221"
            ],
            [
             1,
             "#276419"
            ]
           ],
           "sequential": [
            [
             0,
             "#0d0887"
            ],
            [
             0.1111111111111111,
             "#46039f"
            ],
            [
             0.2222222222222222,
             "#7201a8"
            ],
            [
             0.3333333333333333,
             "#9c179e"
            ],
            [
             0.4444444444444444,
             "#bd3786"
            ],
            [
             0.5555555555555556,
             "#d8576b"
            ],
            [
             0.6666666666666666,
             "#ed7953"
            ],
            [
             0.7777777777777778,
             "#fb9f3a"
            ],
            [
             0.8888888888888888,
             "#fdca26"
            ],
            [
             1,
             "#f0f921"
            ]
           ],
           "sequentialminus": [
            [
             0,
             "#0d0887"
            ],
            [
             0.1111111111111111,
             "#46039f"
            ],
            [
             0.2222222222222222,
             "#7201a8"
            ],
            [
             0.3333333333333333,
             "#9c179e"
            ],
            [
             0.4444444444444444,
             "#bd3786"
            ],
            [
             0.5555555555555556,
             "#d8576b"
            ],
            [
             0.6666666666666666,
             "#ed7953"
            ],
            [
             0.7777777777777778,
             "#fb9f3a"
            ],
            [
             0.8888888888888888,
             "#fdca26"
            ],
            [
             1,
             "#f0f921"
            ]
           ]
          },
          "colorway": [
           "#636efa",
           "#EF553B",
           "#00cc96",
           "#ab63fa",
           "#FFA15A",
           "#19d3f3",
           "#FF6692",
           "#B6E880",
           "#FF97FF",
           "#FECB52"
          ],
          "font": {
           "color": "#2a3f5f"
          },
          "geo": {
           "bgcolor": "white",
           "lakecolor": "white",
           "landcolor": "#E5ECF6",
           "showlakes": true,
           "showland": true,
           "subunitcolor": "white"
          },
          "hoverlabel": {
           "align": "left"
          },
          "hovermode": "closest",
          "mapbox": {
           "style": "light"
          },
          "paper_bgcolor": "white",
          "plot_bgcolor": "#E5ECF6",
          "polar": {
           "angularaxis": {
            "gridcolor": "white",
            "linecolor": "white",
            "ticks": ""
           },
           "bgcolor": "#E5ECF6",
           "radialaxis": {
            "gridcolor": "white",
            "linecolor": "white",
            "ticks": ""
           }
          },
          "scene": {
           "xaxis": {
            "backgroundcolor": "#E5ECF6",
            "gridcolor": "white",
            "gridwidth": 2,
            "linecolor": "white",
            "showbackground": true,
            "ticks": "",
            "zerolinecolor": "white"
           },
           "yaxis": {
            "backgroundcolor": "#E5ECF6",
            "gridcolor": "white",
            "gridwidth": 2,
            "linecolor": "white",
            "showbackground": true,
            "ticks": "",
            "zerolinecolor": "white"
           },
           "zaxis": {
            "backgroundcolor": "#E5ECF6",
            "gridcolor": "white",
            "gridwidth": 2,
            "linecolor": "white",
            "showbackground": true,
            "ticks": "",
            "zerolinecolor": "white"
           }
          },
          "shapedefaults": {
           "line": {
            "color": "#2a3f5f"
           }
          },
          "ternary": {
           "aaxis": {
            "gridcolor": "white",
            "linecolor": "white",
            "ticks": ""
           },
           "baxis": {
            "gridcolor": "white",
            "linecolor": "white",
            "ticks": ""
           },
           "bgcolor": "#E5ECF6",
           "caxis": {
            "gridcolor": "white",
            "linecolor": "white",
            "ticks": ""
           }
          },
          "title": {
           "x": 0.05
          },
          "xaxis": {
           "automargin": true,
           "gridcolor": "white",
           "linecolor": "white",
           "ticks": "",
           "title": {
            "standoff": 15
           },
           "zerolinecolor": "white",
           "zerolinewidth": 2
          },
          "yaxis": {
           "automargin": true,
           "gridcolor": "white",
           "linecolor": "white",
           "ticks": "",
           "title": {
            "standoff": 15
           },
           "zerolinecolor": "white",
           "zerolinewidth": 2
          }
         }
        },
        "title": {
         "text": "Total Sales by Category"
        },
        "xaxis": {
         "anchor": "y",
         "domain": [
          0,
          1
         ],
         "title": {
          "text": "Category"
         }
        },
        "yaxis": {
         "anchor": "x",
         "domain": [
          0,
          1
         ],
         "title": {
          "text": "Actual Sales"
         }
        }
       }
      }
     },
     "metadata": {},
     "output_type": "display_data"
    }
   ],
   "source": [
    "fig = make_subplots(rows=1, cols=1)\n",
    "\n",
    "\n",
    "trace = go.Bar(\n",
    "    x=category_mean.index,\n",
    "    y=category_mean.values,\n",
    "    name='Actual Sales',\n",
    "    marker=dict(color='cyan')\n",
    ")\n",
    "\n",
    "fig.add_trace(trace, row=1, col=1)\n",
    "\n",
    "fig.update_layout(\n",
    "    title='Total Sales by Category',\n",
    "    xaxis_title='Category',\n",
    "    yaxis_title='Actual Sales'\n",
    ")\n",
    "\n",
    "fig.show()"
   ]
  },
  {
   "cell_type": "code",
   "execution_count": 60,
   "id": "a89eecb7",
   "metadata": {},
   "outputs": [
    {
     "data": {
      "text/plain": [
       "Index(['TransactionDate', 'DayOfWeek', 'WeekendFlag', 'StoreKey', 'ProductKey',\n",
       "       'UnitVolume', 'ActualSales', 'SalesDiscount', 'RetailFullPrice',\n",
       "       'BrandKey', 'SupplierKey', 'ProductCategory_Lvl1',\n",
       "       'ProductCategory_Lvl2', 'DistributionChannel', 'StoreType',\n",
       "       'Region_Lvl1', 'Region_Lvl2', 'PromotionKey', 'PromoMechanic',\n",
       "       'PromotionStartDate', 'PromotionEndDate', 'Date_monthly', 'SalesType',\n",
       "       'DiscountType', 'Region', 'SubCategory', 'CPI_monthly ', 'Date_daily',\n",
       "       'CPI_daily'],\n",
       "      dtype='object')"
      ]
     },
     "execution_count": 60,
     "metadata": {},
     "output_type": "execute_result"
    }
   ],
   "source": [
    "total_products.columns"
   ]
  },
  {
   "attachments": {},
   "cell_type": "markdown",
   "id": "11b98dd9",
   "metadata": {},
   "source": [
    "Below, we will create a simple function called SalesAnalyzer, which will show some sales insights (Total sales, unitvolumes and discounts), according to what measure we want to obtain (E.g max sales, min sales, average, total). This can be an easy and useful class that can be afterwards used by analysts to extract useful information about the sales."
   ]
  },
  {
   "cell_type": "code",
   "execution_count": 59,
   "id": "21716b8b",
   "metadata": {},
   "outputs": [
    {
     "ename": "KeyboardInterrupt",
     "evalue": "Interrupted by user",
     "output_type": "error",
     "traceback": [
      "\u001b[1;31m---------------------------------------------------------------------------\u001b[0m",
      "\u001b[1;31mKeyboardInterrupt\u001b[0m                         Traceback (most recent call last)",
      "\u001b[1;32mc:\\Users\\39339\\Documents\\University materials\\University materials\\Hackatow\\Hackathon_Data20230218161619\\Hackathon_Data\\OWHackathon-checkpoint (1).ipynb Cell 108\u001b[0m in \u001b[0;36m<cell line: 151>\u001b[1;34m()\u001b[0m\n\u001b[0;32m    <a href='vscode-notebook-cell:/c%3A/Users/39339/Documents/University%20materials/University%20materials/Hackatow/Hackathon_Data20230218161619/Hackathon_Data/OWHackathon-checkpoint%20%281%29.ipynb#Y212sZmlsZQ%3D%3D?line=146'>147</a>\u001b[0m         \u001b[39mprint\u001b[39m(\u001b[39m\"\u001b[39m\u001b[39mThere is no such pick available!\u001b[39m\u001b[39m\"\u001b[39m)\n\u001b[0;32m    <a href='vscode-notebook-cell:/c%3A/Users/39339/Documents/University%20materials/University%20materials/Hackatow/Hackathon_Data20230218161619/Hackathon_Data/OWHackathon-checkpoint%20%281%29.ipynb#Y212sZmlsZQ%3D%3D?line=147'>148</a>\u001b[0m         exit() \n\u001b[1;32m--> <a href='vscode-notebook-cell:/c%3A/Users/39339/Documents/University%20materials/University%20materials/Hackatow/Hackathon_Data20230218161619/Hackathon_Data/OWHackathon-checkpoint%20%281%29.ipynb#Y212sZmlsZQ%3D%3D?line=150'>151</a>\u001b[0m s1 \u001b[39m=\u001b[39m SalesAnalyzer(total_products, inp1 \u001b[39m=\u001b[39m param1(), inp2 \u001b[39m=\u001b[39m param2(), param1 \u001b[39m=\u001b[39m param[\u001b[39m0\u001b[39m:\u001b[39m-\u001b[39m\u001b[39m1\u001b[39m])\n\u001b[0;32m    <a href='vscode-notebook-cell:/c%3A/Users/39339/Documents/University%20materials/University%20materials/Hackatow/Hackathon_Data20230218161619/Hackathon_Data/OWHackathon-checkpoint%20%281%29.ipynb#Y212sZmlsZQ%3D%3D?line=151'>152</a>\u001b[0m \u001b[39m#s1.summary_statistics()\u001b[39;00m\n\u001b[0;32m    <a href='vscode-notebook-cell:/c%3A/Users/39339/Documents/University%20materials/University%20materials/Hackatow/Hackathon_Data20230218161619/Hackathon_Data/OWHackathon-checkpoint%20%281%29.ipynb#Y212sZmlsZQ%3D%3D?line=152'>153</a>\u001b[0m \u001b[39m#s1.sales_by_category()\u001b[39;00m\n\u001b[0;32m    <a href='vscode-notebook-cell:/c%3A/Users/39339/Documents/University%20materials/University%20materials/Hackatow/Hackathon_Data20230218161619/Hackathon_Data/OWHackathon-checkpoint%20%281%29.ipynb#Y212sZmlsZQ%3D%3D?line=153'>154</a>\u001b[0m \u001b[39m#s1.sales_by_category2()\u001b[39;00m\n\u001b[0;32m    <a href='vscode-notebook-cell:/c%3A/Users/39339/Documents/University%20materials/University%20materials/Hackatow/Hackathon_Data20230218161619/Hackathon_Data/OWHackathon-checkpoint%20%281%29.ipynb#Y212sZmlsZQ%3D%3D?line=154'>155</a>\u001b[0m \u001b[39m#s1.correlation_stat()\u001b[39;00m\n\u001b[0;32m    <a href='vscode-notebook-cell:/c%3A/Users/39339/Documents/University%20materials/University%20materials/Hackatow/Hackathon_Data20230218161619/Hackathon_Data/OWHackathon-checkpoint%20%281%29.ipynb#Y212sZmlsZQ%3D%3D?line=155'>156</a>\u001b[0m s1\u001b[39m.\u001b[39munit_volume_vs_actual_sales()\n",
      "\u001b[1;32mc:\\Users\\39339\\Documents\\University materials\\University materials\\Hackatow\\Hackathon_Data20230218161619\\Hackathon_Data\\OWHackathon-checkpoint (1).ipynb Cell 108\u001b[0m in \u001b[0;36mparam1\u001b[1;34m()\u001b[0m\n\u001b[0;32m    <a href='vscode-notebook-cell:/c%3A/Users/39339/Documents/University%20materials/University%20materials/Hackatow/Hackathon_Data20230218161619/Hackathon_Data/OWHackathon-checkpoint%20%281%29.ipynb#Y212sZmlsZQ%3D%3D?line=134'>135</a>\u001b[0m \u001b[39mdef\u001b[39;00m \u001b[39mparam1\u001b[39m():\n\u001b[1;32m--> <a href='vscode-notebook-cell:/c%3A/Users/39339/Documents/University%20materials/University%20materials/Hackatow/Hackathon_Data20230218161619/Hackathon_Data/OWHackathon-checkpoint%20%281%29.ipynb#Y212sZmlsZQ%3D%3D?line=135'>136</a>\u001b[0m         inp1 \u001b[39m=\u001b[39m \u001b[39mstr\u001b[39m(\u001b[39minput\u001b[39;49m(\u001b[39m\"\u001b[39;49m\u001b[39mDo you want to see the average of your parameter or its sum? Pick between \u001b[39;49m\u001b[39m'\u001b[39;49m\u001b[39msum\u001b[39;49m\u001b[39m'\u001b[39;49m\u001b[39m and \u001b[39;49m\u001b[39m'\u001b[39;49m\u001b[39mavg\u001b[39;49m\u001b[39m'\u001b[39;49m\u001b[39m: \u001b[39;49m\u001b[39m\"\u001b[39;49m))\n\u001b[0;32m    <a href='vscode-notebook-cell:/c%3A/Users/39339/Documents/University%20materials/University%20materials/Hackatow/Hackathon_Data20230218161619/Hackathon_Data/OWHackathon-checkpoint%20%281%29.ipynb#Y212sZmlsZQ%3D%3D?line=136'>137</a>\u001b[0m         \u001b[39mif\u001b[39;00m inp1 \u001b[39min\u001b[39;00m [\u001b[39m\"\u001b[39m\u001b[39msum\u001b[39m\u001b[39m\"\u001b[39m, \u001b[39m\"\u001b[39m\u001b[39mavg\u001b[39m\u001b[39m\"\u001b[39m]:\n\u001b[0;32m    <a href='vscode-notebook-cell:/c%3A/Users/39339/Documents/University%20materials/University%20materials/Hackatow/Hackathon_Data20230218161619/Hackathon_Data/OWHackathon-checkpoint%20%281%29.ipynb#Y212sZmlsZQ%3D%3D?line=137'>138</a>\u001b[0m             \u001b[39mreturn\u001b[39;00m inp1\n",
      "File \u001b[1;32m~\\AppData\\Local\\Packages\\PythonSoftwareFoundation.Python.3.10_qbz5n2kfra8p0\\LocalCache\\local-packages\\Python310\\site-packages\\ipykernel\\kernelbase.py:1177\u001b[0m, in \u001b[0;36mKernel.raw_input\u001b[1;34m(self, prompt)\u001b[0m\n\u001b[0;32m   1173\u001b[0m \u001b[39mif\u001b[39;00m \u001b[39mnot\u001b[39;00m \u001b[39mself\u001b[39m\u001b[39m.\u001b[39m_allow_stdin:\n\u001b[0;32m   1174\u001b[0m     \u001b[39mraise\u001b[39;00m StdinNotImplementedError(\n\u001b[0;32m   1175\u001b[0m         \u001b[39m\"\u001b[39m\u001b[39mraw_input was called, but this frontend does not support input requests.\u001b[39m\u001b[39m\"\u001b[39m\n\u001b[0;32m   1176\u001b[0m     )\n\u001b[1;32m-> 1177\u001b[0m \u001b[39mreturn\u001b[39;00m \u001b[39mself\u001b[39;49m\u001b[39m.\u001b[39;49m_input_request(\n\u001b[0;32m   1178\u001b[0m     \u001b[39mstr\u001b[39;49m(prompt),\n\u001b[0;32m   1179\u001b[0m     \u001b[39mself\u001b[39;49m\u001b[39m.\u001b[39;49m_parent_ident[\u001b[39m\"\u001b[39;49m\u001b[39mshell\u001b[39;49m\u001b[39m\"\u001b[39;49m],\n\u001b[0;32m   1180\u001b[0m     \u001b[39mself\u001b[39;49m\u001b[39m.\u001b[39;49mget_parent(\u001b[39m\"\u001b[39;49m\u001b[39mshell\u001b[39;49m\u001b[39m\"\u001b[39;49m),\n\u001b[0;32m   1181\u001b[0m     password\u001b[39m=\u001b[39;49m\u001b[39mFalse\u001b[39;49;00m,\n\u001b[0;32m   1182\u001b[0m )\n",
      "File \u001b[1;32m~\\AppData\\Local\\Packages\\PythonSoftwareFoundation.Python.3.10_qbz5n2kfra8p0\\LocalCache\\local-packages\\Python310\\site-packages\\ipykernel\\kernelbase.py:1219\u001b[0m, in \u001b[0;36mKernel._input_request\u001b[1;34m(self, prompt, ident, parent, password)\u001b[0m\n\u001b[0;32m   1216\u001b[0m             \u001b[39mbreak\u001b[39;00m\n\u001b[0;32m   1217\u001b[0m \u001b[39mexcept\u001b[39;00m \u001b[39mKeyboardInterrupt\u001b[39;00m:\n\u001b[0;32m   1218\u001b[0m     \u001b[39m# re-raise KeyboardInterrupt, to truncate traceback\u001b[39;00m\n\u001b[1;32m-> 1219\u001b[0m     \u001b[39mraise\u001b[39;00m \u001b[39mKeyboardInterrupt\u001b[39;00m(\u001b[39m\"\u001b[39m\u001b[39mInterrupted by user\u001b[39m\u001b[39m\"\u001b[39m) \u001b[39mfrom\u001b[39;00m \u001b[39mNone\u001b[39m\n\u001b[0;32m   1220\u001b[0m \u001b[39mexcept\u001b[39;00m \u001b[39mException\u001b[39;00m:\n\u001b[0;32m   1221\u001b[0m     \u001b[39mself\u001b[39m\u001b[39m.\u001b[39mlog\u001b[39m.\u001b[39mwarning(\u001b[39m\"\u001b[39m\u001b[39mInvalid Message:\u001b[39m\u001b[39m\"\u001b[39m, exc_info\u001b[39m=\u001b[39m\u001b[39mTrue\u001b[39;00m)\n",
      "\u001b[1;31mKeyboardInterrupt\u001b[0m: Interrupted by user"
     ]
    }
   ],
   "source": [
    "import plotly.graph_objs as go\n",
    "from plotly.subplots import make_subplots\n",
    "\n",
    "import pandas as pd\n",
    "import numpy as np\n",
    "import matplotlib.pyplot as plt\n",
    "\n",
    "class SalesAnalyzer:\n",
    "    \n",
    "    def __init__(self, data, inp1, inp2, param1):   #setting up the relevant parameters\n",
    "        self.data = data\n",
    "        self.inp1 = inp1 \n",
    "        self.inp2 = inp2\n",
    "        self.param1 = param1  \n",
    "        #self.columns = data.columns \n",
    "\n",
    "    def boxplot(self):             #producing a boxplot for the column chosen\n",
    "        p7 = str(self.inp2)\n",
    "        sns.boxplot(self.data[p7])\n",
    "\n",
    "    def correlation_stat(self):   #this help you understand if there exists some correlation between features in the sales data!    \n",
    "        self.data['Discount']\n",
    "        print(self.data.columns)\n",
    "        print(self.data.columns.dtypes)\n",
    "        feat = []\n",
    "        while True:\n",
    "            featinp = str(input(\"Select the feature name you want (must be numerical!), if you are done, please type 'stop': \"))\n",
    "            if featinp != \"stop\" and featinp in self.data.columns:\n",
    "                feat.append(featinp)\n",
    "            if featinp == \"stop\":\n",
    "                break \n",
    "\n",
    "            else:\n",
    "                print('wrong choice, try again')\n",
    "                \n",
    "            \n",
    "        new_corr = self.data[feat]\n",
    "        sns.heatmap(new_corr.corr(), annot = True)\n",
    "\n",
    "\n",
    "    def summary_statistics(self, param1):\n",
    "    \n",
    "        summary = self.data[param1].describe()\n",
    "        return summary\n",
    "    \n",
    "\n",
    "\n",
    "    def sales_by_category2(self):\n",
    "        \n",
    "        inpsal = str(self.inp2)\n",
    "        if self.inp1 == \"sum\":\n",
    "            fig, ax = plt.subplots(figsize=(10,6))\n",
    "            category_sales = self.data.groupby('SubCategory')[inpsal].sum().sort_values(ascending=False)\n",
    "            category_sales.plot(kind='bar', ax=ax)\n",
    "            ax.set_title('Total Sales by Product Category')\n",
    "            ax.set_xlabel('Product Category')\n",
    "            ax.set_ylabel('Actual Sales')\n",
    "            plt.show()\n",
    "        if inpsal == \"avg\":\n",
    "            fig, ax = plt.subplots(figsize=(10,6))\n",
    "            category_sales = self.data.groupby('SubCategory')[inpsal].mean().sort_values(ascending=False)\n",
    "            category_sales.plot(kind='bar', ax=ax)\n",
    "            ax.set_title('Total Sales by Product Category')\n",
    "            ax.set_xlabel('Product Category')\n",
    "            ax.set_ylabel('Actual Sales')\n",
    "            plt.show()\n",
    "        else:\n",
    "            exit \n",
    "            \n",
    "\n",
    "\n",
    "        \n",
    "    def sales_by_region(self):\n",
    "        p3 = str(self.inp2)\n",
    "        fig, ax = plt.subplots(figsize=(10,6))\n",
    "        if self.inp1 == \"sum\":\n",
    "\n",
    "            region_sales = self.data.groupby('Region_Lvl1')[p3].sum().sort_values(ascending=False)\n",
    "            region_sales.plot(kind='bar', ax=ax)\n",
    "            ax.set_title('Total Sales by Region')\n",
    "            ax.set_xlabel('Region')\n",
    "            ax.set_ylabel('Actual Sales')\n",
    "            plt.show()\n",
    "        \n",
    "        if self.inp1 == \"avg\":\n",
    "            region_sales = self.data.groupby('Region_Lvl1')[p3].mean().sort_values(ascending=False)\n",
    "            region_sales.plot(kind='bar', ax=ax)\n",
    "            ax.set_title('Total Sales by Region')\n",
    "            ax.set_xlabel('Region')\n",
    "            ax.set_ylabel('Actual Sales')\n",
    "            plt.show()\n",
    "\n",
    "        \n",
    "    def sales_by_store_type(self):\n",
    "        p4 = str(self.inp2)\n",
    "        fig, ax = plt.subplots(figsize=(10,6))\n",
    "        if self.inp1 == \"sum\":\n",
    "            store_type_sales = self.data.groupby('StoreType')[p4].sum().sort_values(ascending=False)\n",
    "            store_type_sales.plot(kind='bar', ax=ax)\n",
    "            ax.set_title('Total Sales by Store Type')\n",
    "            ax.set_xlabel('Store Type')\n",
    "            ax.set_ylabel('Actual Sales')\n",
    "            plt.show()\n",
    "        if self.inp1 == \"avg\":\n",
    "            store_type_sales = self.data.groupby('StoreType')[p4].mean().sort_values(ascending=False)\n",
    "            store_type_sales.plot(kind='bar', ax=ax)\n",
    "            ax.set_title('Total Sales by Store Type')\n",
    "            ax.set_xlabel('Store Type')\n",
    "            ax.set_ylabel('Actual Sales')\n",
    "            plt.show()\n",
    "\n",
    "    \n",
    "\n",
    "        \n",
    "    def discount_distribution(self):\n",
    "        fig, ax = plt.subplots(figsize=(10,6))\n",
    "        discount_distribution = self.data['SalesDiscount']\n",
    "        discount_distribution.hist(bins=20, ax=ax)\n",
    "        ax.set_title('Distribution of Sales Discounts')\n",
    "        ax.set_xlabel('Sales Discount')\n",
    "        ax.set_ylabel('Frequency')\n",
    "        plt.show()\n",
    "        \n",
    "    def unit_volume_vs_actual_sales(self):                              #let us see how revenues change with respect to unit volumes sold\n",
    "        fig, ax = plt.subplots(figsize=(10,6))\n",
    "        ax.scatter(self.data['UnitVolume'], self.data['ActualSales'])\n",
    "        ax.set_title('Unit Volume vs Actual Sales')\n",
    "        ax.set_xlabel('Unit Volume')\n",
    "        ax.set_ylabel('Actual Sales')\n",
    "        plt.show()\n",
    "\n",
    "    \n",
    "    \n",
    "\n",
    "def param1():\n",
    "        inp1 = str(input(\"Do you want to see the average of your parameter or its sum? Pick between 'sum' and 'avg': \"))\n",
    "        if inp1 in [\"sum\", \"avg\"]:\n",
    "            return inp1\n",
    "\n",
    "\n",
    "def param2():\n",
    "    print(param)        \n",
    "    inp2 = str(input(\"Do you want to see actual sales, unitvolumes or discount info? Pick the parameter among the ones printed : \"))\n",
    "    if inp2 in param[0:-1]:\n",
    "        return inp2\n",
    "    else:\n",
    "        print(\"There is no such pick available!\")\n",
    "        exit() \n",
    "        \n",
    "             \n",
    "s1 = SalesAnalyzer(total_products, inp1 = param1(), inp2 = param2(), param1 = param[0:-1])\n",
    "#s1.summary_statistics()\n",
    "#s1.sales_by_category()\n",
    "#s1.sales_by_category2()\n",
    "#s1.correlation_stat()\n",
    "s1.unit_volume_vs_actual_sales()\n",
    "\n",
    "\n",
    "\n",
    "        \n",
    "\n",
    "\n",
    "\n",
    "\n",
    "\n",
    "\n",
    "        "
   ]
  },
  {
   "attachments": {},
   "cell_type": "markdown",
   "id": "09a858a0",
   "metadata": {},
   "source": [
    "As we have created a general class to look into the general data, we want to offer a general framework for products too. It is indeed important to extract relevant and specific trends in products by comparing their performance in a comprehensive way. "
   ]
  },
  {
   "cell_type": "code",
   "execution_count": null,
   "id": "2fb857e3",
   "metadata": {},
   "outputs": [],
   "source": [
    "#In this class one can choose to retain insights on a specific product.\n",
    "\n",
    "class Product_Analysis():\n",
    "    def __init__(self, data, products):\n",
    "        self.data = data\n",
    "        self.products = products\n",
    "        self.params = ['RetailFullPrice', 'UnitVolume', 'ActualSales', 'SalesDiscount']\n",
    "\n",
    "\n",
    "    def describe_product(self):\n",
    "        des_inp = int(input(\"Please select the product key: \"))\n",
    "        if des_inp in self.products:\n",
    "            des_p = self.data[self.data['ProductKey' == des_inp]]\n",
    "            # create a bar plot of the descriptive statistics of the actual sales column\n",
    "            print(self.params)\n",
    "            inpf = str(input(\"Pick the NUMERICAL feature that you want to investigate into (these are printed below): \"))\n",
    "            des_p[inpf].describe().plot(kind='bar')\n",
    "            plt.title('Some Statistics for Product ' + str(des_inp))\n",
    "            plt.xlabel('Statistic')\n",
    "            plt.ylabel('Features')\n",
    "            plt.show()\n",
    "            \n",
    "\n",
    "#The function below will show how the chosen statistics change over time for a specific product\n",
    "\n",
    "    def product_lineplot(self):\n",
    "        inpy = int(input(\"Please insert the Product key you want to look into: \"))\n",
    "        if inpy in self.products:\n",
    "            print(self.params)\n",
    "            inpf = str(input(\"Pick the NUMERICAL feature that you want to investigate into (these are printed below): \"))\n",
    "            if inpf in self.params:\n",
    "                prod = self.data[self.data['ProductKey' == inpy]]\n",
    "                prod = prod.sort_values('TransactionDate')\n",
    "                sns.lineplot(x = prod['TransactionDate'], y = prod[inpf]) \n",
    "            else:\n",
    "                print(\"There is no product having this key!!\")\n",
    "                quit()\n",
    "\n",
    "\n",
    "    def discount_distribution_product(self):\n",
    "        inpy = int(input(\"Please insert the Product key you want to look into: \"))\n",
    "\n",
    "        fig, ax = plt.subplots(figsize=(10,6))\n",
    "        discount_distribution = self.data['ProductKey' == inpy]['SalesDiscount']\n",
    "        discount_distribution.hist(bins=20, ax=ax)\n",
    "        ax.set_title(f'Distribution of Sales Discounts for product number {inpy} ')\n",
    "        ax.set_xlabel('Sales Discount')\n",
    "        ax.set_ylabel('Frequency')\n",
    "        plt.show()\n",
    "            \n",
    "\n",
    "\n",
    "\n",
    "\n",
    "    \n",
    "pr = Product_Analysis(total_products, Productkeycorr)\n",
    "pr.describe_product()\n",
    "pr.product_lineplot()\n"
   ]
  },
  {
   "attachments": {},
   "cell_type": "markdown",
   "id": "19cc2777",
   "metadata": {},
   "source": [
    "Let us also see how each different subcategory has performed by looking at some statistics."
   ]
  },
  {
   "cell_type": "code",
   "execution_count": null,
   "id": "c2114285",
   "metadata": {},
   "outputs": [],
   "source": [
    "region_sales_by_cat = pd.DataFrame()\n",
    "region_sales_by_cat['mean'] = total_products.groupby('ProductCategory_Lvl2')['ActualSales'].mean()\n",
    "region_sales_by_cat['max'] = total_products.groupby('ProductCategory_Lvl2')['ActualSales'].max()\n",
    "region_sales_by_cat['min'] = total_products.groupby('ProductCategory_Lvl2')['ActualSales'].min()\n",
    "\n",
    "\n"
   ]
  },
  {
   "cell_type": "code",
   "execution_count": null,
   "id": "ccf5fad9",
   "metadata": {},
   "outputs": [
    {
     "data": {
      "text/html": [
       "<div>\n",
       "<style scoped>\n",
       "    .dataframe tbody tr th:only-of-type {\n",
       "        vertical-align: middle;\n",
       "    }\n",
       "\n",
       "    .dataframe tbody tr th {\n",
       "        vertical-align: top;\n",
       "    }\n",
       "\n",
       "    .dataframe thead th {\n",
       "        text-align: right;\n",
       "    }\n",
       "</style>\n",
       "<table border=\"1\" class=\"dataframe\">\n",
       "  <thead>\n",
       "    <tr style=\"text-align: right;\">\n",
       "      <th></th>\n",
       "      <th>mean</th>\n",
       "      <th>max</th>\n",
       "      <th>min</th>\n",
       "    </tr>\n",
       "    <tr>\n",
       "      <th>ProductCategory_Lvl2</th>\n",
       "      <th></th>\n",
       "      <th></th>\n",
       "      <th></th>\n",
       "    </tr>\n",
       "  </thead>\n",
       "  <tbody>\n",
       "    <tr>\n",
       "      <th>Category AA</th>\n",
       "      <td>271.457421</td>\n",
       "      <td>99999.0</td>\n",
       "      <td>-113.8968</td>\n",
       "    </tr>\n",
       "    <tr>\n",
       "      <th>Category AB</th>\n",
       "      <td>272.959054</td>\n",
       "      <td>99999.0</td>\n",
       "      <td>-209.8654</td>\n",
       "    </tr>\n",
       "    <tr>\n",
       "      <th>Category AC</th>\n",
       "      <td>297.350445</td>\n",
       "      <td>99999.0</td>\n",
       "      <td>-313.7435</td>\n",
       "    </tr>\n",
       "    <tr>\n",
       "      <th>Category AD</th>\n",
       "      <td>240.287252</td>\n",
       "      <td>99999.0</td>\n",
       "      <td>-211.9746</td>\n",
       "    </tr>\n",
       "    <tr>\n",
       "      <th>Category AE</th>\n",
       "      <td>296.513384</td>\n",
       "      <td>99999.0</td>\n",
       "      <td>-682.8535</td>\n",
       "    </tr>\n",
       "  </tbody>\n",
       "</table>\n",
       "</div>"
      ],
      "text/plain": [
       "                            mean      max       min\n",
       "ProductCategory_Lvl2                               \n",
       "Category AA           271.457421  99999.0 -113.8968\n",
       "Category AB           272.959054  99999.0 -209.8654\n",
       "Category AC           297.350445  99999.0 -313.7435\n",
       "Category AD           240.287252  99999.0 -211.9746\n",
       "Category AE           296.513384  99999.0 -682.8535"
      ]
     },
     "execution_count": 66,
     "metadata": {},
     "output_type": "execute_result"
    }
   ],
   "source": [
    "region_sales_by_cat.head()\n",
    "#region_sales_by_cat.index"
   ]
  },
  {
   "cell_type": "code",
   "execution_count": null,
   "id": "aad45347",
   "metadata": {},
   "outputs": [
    {
     "data": {
      "application/vnd.plotly.v1+json": {
       "config": {
        "plotlyServerURL": "https://plot.ly"
       },
       "data": [
        {
         "name": "Average sales",
         "type": "bar",
         "x": [
          "Category AA",
          "Category AB",
          "Category AC",
          "Category AD",
          "Category AE"
         ],
         "y": [
          271.4574210207669,
          272.95905446158395,
          297.35044470137893,
          240.28725192088325,
          296.5133844886207
         ]
        },
        {
         "marker": {
          "color": "blue"
         },
         "name": "Sales by category",
         "type": "bar",
         "x": [
          "Category AA",
          "Category AB",
          "Category AC",
          "Category AD",
          "Category AE"
         ],
         "y": [
          99999,
          99999,
          99999,
          99999,
          99999
         ]
        },
        {
         "name": "Minimum sales",
         "type": "bar",
         "x": [
          "Category AA",
          "Category AB",
          "Category AC",
          "Category AD",
          "Category AE"
         ],
         "y": [
          -113.8968,
          -209.8654,
          -313.7435,
          -211.9746,
          -682.8535
         ]
        }
       ],
       "layout": {
        "barmode": "group",
        "template": {
         "data": {
          "bar": [
           {
            "error_x": {
             "color": "#2a3f5f"
            },
            "error_y": {
             "color": "#2a3f5f"
            },
            "marker": {
             "line": {
              "color": "#E5ECF6",
              "width": 0.5
             },
             "pattern": {
              "fillmode": "overlay",
              "size": 10,
              "solidity": 0.2
             }
            },
            "type": "bar"
           }
          ],
          "barpolar": [
           {
            "marker": {
             "line": {
              "color": "#E5ECF6",
              "width": 0.5
             },
             "pattern": {
              "fillmode": "overlay",
              "size": 10,
              "solidity": 0.2
             }
            },
            "type": "barpolar"
           }
          ],
          "carpet": [
           {
            "aaxis": {
             "endlinecolor": "#2a3f5f",
             "gridcolor": "white",
             "linecolor": "white",
             "minorgridcolor": "white",
             "startlinecolor": "#2a3f5f"
            },
            "baxis": {
             "endlinecolor": "#2a3f5f",
             "gridcolor": "white",
             "linecolor": "white",
             "minorgridcolor": "white",
             "startlinecolor": "#2a3f5f"
            },
            "type": "carpet"
           }
          ],
          "choropleth": [
           {
            "colorbar": {
             "outlinewidth": 0,
             "ticks": ""
            },
            "type": "choropleth"
           }
          ],
          "contour": [
           {
            "colorbar": {
             "outlinewidth": 0,
             "ticks": ""
            },
            "colorscale": [
             [
              0,
              "#0d0887"
             ],
             [
              0.1111111111111111,
              "#46039f"
             ],
             [
              0.2222222222222222,
              "#7201a8"
             ],
             [
              0.3333333333333333,
              "#9c179e"
             ],
             [
              0.4444444444444444,
              "#bd3786"
             ],
             [
              0.5555555555555556,
              "#d8576b"
             ],
             [
              0.6666666666666666,
              "#ed7953"
             ],
             [
              0.7777777777777778,
              "#fb9f3a"
             ],
             [
              0.8888888888888888,
              "#fdca26"
             ],
             [
              1,
              "#f0f921"
             ]
            ],
            "type": "contour"
           }
          ],
          "contourcarpet": [
           {
            "colorbar": {
             "outlinewidth": 0,
             "ticks": ""
            },
            "type": "contourcarpet"
           }
          ],
          "heatmap": [
           {
            "colorbar": {
             "outlinewidth": 0,
             "ticks": ""
            },
            "colorscale": [
             [
              0,
              "#0d0887"
             ],
             [
              0.1111111111111111,
              "#46039f"
             ],
             [
              0.2222222222222222,
              "#7201a8"
             ],
             [
              0.3333333333333333,
              "#9c179e"
             ],
             [
              0.4444444444444444,
              "#bd3786"
             ],
             [
              0.5555555555555556,
              "#d8576b"
             ],
             [
              0.6666666666666666,
              "#ed7953"
             ],
             [
              0.7777777777777778,
              "#fb9f3a"
             ],
             [
              0.8888888888888888,
              "#fdca26"
             ],
             [
              1,
              "#f0f921"
             ]
            ],
            "type": "heatmap"
           }
          ],
          "heatmapgl": [
           {
            "colorbar": {
             "outlinewidth": 0,
             "ticks": ""
            },
            "colorscale": [
             [
              0,
              "#0d0887"
             ],
             [
              0.1111111111111111,
              "#46039f"
             ],
             [
              0.2222222222222222,
              "#7201a8"
             ],
             [
              0.3333333333333333,
              "#9c179e"
             ],
             [
              0.4444444444444444,
              "#bd3786"
             ],
             [
              0.5555555555555556,
              "#d8576b"
             ],
             [
              0.6666666666666666,
              "#ed7953"
             ],
             [
              0.7777777777777778,
              "#fb9f3a"
             ],
             [
              0.8888888888888888,
              "#fdca26"
             ],
             [
              1,
              "#f0f921"
             ]
            ],
            "type": "heatmapgl"
           }
          ],
          "histogram": [
           {
            "marker": {
             "pattern": {
              "fillmode": "overlay",
              "size": 10,
              "solidity": 0.2
             }
            },
            "type": "histogram"
           }
          ],
          "histogram2d": [
           {
            "colorbar": {
             "outlinewidth": 0,
             "ticks": ""
            },
            "colorscale": [
             [
              0,
              "#0d0887"
             ],
             [
              0.1111111111111111,
              "#46039f"
             ],
             [
              0.2222222222222222,
              "#7201a8"
             ],
             [
              0.3333333333333333,
              "#9c179e"
             ],
             [
              0.4444444444444444,
              "#bd3786"
             ],
             [
              0.5555555555555556,
              "#d8576b"
             ],
             [
              0.6666666666666666,
              "#ed7953"
             ],
             [
              0.7777777777777778,
              "#fb9f3a"
             ],
             [
              0.8888888888888888,
              "#fdca26"
             ],
             [
              1,
              "#f0f921"
             ]
            ],
            "type": "histogram2d"
           }
          ],
          "histogram2dcontour": [
           {
            "colorbar": {
             "outlinewidth": 0,
             "ticks": ""
            },
            "colorscale": [
             [
              0,
              "#0d0887"
             ],
             [
              0.1111111111111111,
              "#46039f"
             ],
             [
              0.2222222222222222,
              "#7201a8"
             ],
             [
              0.3333333333333333,
              "#9c179e"
             ],
             [
              0.4444444444444444,
              "#bd3786"
             ],
             [
              0.5555555555555556,
              "#d8576b"
             ],
             [
              0.6666666666666666,
              "#ed7953"
             ],
             [
              0.7777777777777778,
              "#fb9f3a"
             ],
             [
              0.8888888888888888,
              "#fdca26"
             ],
             [
              1,
              "#f0f921"
             ]
            ],
            "type": "histogram2dcontour"
           }
          ],
          "mesh3d": [
           {
            "colorbar": {
             "outlinewidth": 0,
             "ticks": ""
            },
            "type": "mesh3d"
           }
          ],
          "parcoords": [
           {
            "line": {
             "colorbar": {
              "outlinewidth": 0,
              "ticks": ""
             }
            },
            "type": "parcoords"
           }
          ],
          "pie": [
           {
            "automargin": true,
            "type": "pie"
           }
          ],
          "scatter": [
           {
            "fillpattern": {
             "fillmode": "overlay",
             "size": 10,
             "solidity": 0.2
            },
            "type": "scatter"
           }
          ],
          "scatter3d": [
           {
            "line": {
             "colorbar": {
              "outlinewidth": 0,
              "ticks": ""
             }
            },
            "marker": {
             "colorbar": {
              "outlinewidth": 0,
              "ticks": ""
             }
            },
            "type": "scatter3d"
           }
          ],
          "scattercarpet": [
           {
            "marker": {
             "colorbar": {
              "outlinewidth": 0,
              "ticks": ""
             }
            },
            "type": "scattercarpet"
           }
          ],
          "scattergeo": [
           {
            "marker": {
             "colorbar": {
              "outlinewidth": 0,
              "ticks": ""
             }
            },
            "type": "scattergeo"
           }
          ],
          "scattergl": [
           {
            "marker": {
             "colorbar": {
              "outlinewidth": 0,
              "ticks": ""
             }
            },
            "type": "scattergl"
           }
          ],
          "scattermapbox": [
           {
            "marker": {
             "colorbar": {
              "outlinewidth": 0,
              "ticks": ""
             }
            },
            "type": "scattermapbox"
           }
          ],
          "scatterpolar": [
           {
            "marker": {
             "colorbar": {
              "outlinewidth": 0,
              "ticks": ""
             }
            },
            "type": "scatterpolar"
           }
          ],
          "scatterpolargl": [
           {
            "marker": {
             "colorbar": {
              "outlinewidth": 0,
              "ticks": ""
             }
            },
            "type": "scatterpolargl"
           }
          ],
          "scatterternary": [
           {
            "marker": {
             "colorbar": {
              "outlinewidth": 0,
              "ticks": ""
             }
            },
            "type": "scatterternary"
           }
          ],
          "surface": [
           {
            "colorbar": {
             "outlinewidth": 0,
             "ticks": ""
            },
            "colorscale": [
             [
              0,
              "#0d0887"
             ],
             [
              0.1111111111111111,
              "#46039f"
             ],
             [
              0.2222222222222222,
              "#7201a8"
             ],
             [
              0.3333333333333333,
              "#9c179e"
             ],
             [
              0.4444444444444444,
              "#bd3786"
             ],
             [
              0.5555555555555556,
              "#d8576b"
             ],
             [
              0.6666666666666666,
              "#ed7953"
             ],
             [
              0.7777777777777778,
              "#fb9f3a"
             ],
             [
              0.8888888888888888,
              "#fdca26"
             ],
             [
              1,
              "#f0f921"
             ]
            ],
            "type": "surface"
           }
          ],
          "table": [
           {
            "cells": {
             "fill": {
              "color": "#EBF0F8"
             },
             "line": {
              "color": "white"
             }
            },
            "header": {
             "fill": {
              "color": "#C8D4E3"
             },
             "line": {
              "color": "white"
             }
            },
            "type": "table"
           }
          ]
         },
         "layout": {
          "annotationdefaults": {
           "arrowcolor": "#2a3f5f",
           "arrowhead": 0,
           "arrowwidth": 1
          },
          "autotypenumbers": "strict",
          "coloraxis": {
           "colorbar": {
            "outlinewidth": 0,
            "ticks": ""
           }
          },
          "colorscale": {
           "diverging": [
            [
             0,
             "#8e0152"
            ],
            [
             0.1,
             "#c51b7d"
            ],
            [
             0.2,
             "#de77ae"
            ],
            [
             0.3,
             "#f1b6da"
            ],
            [
             0.4,
             "#fde0ef"
            ],
            [
             0.5,
             "#f7f7f7"
            ],
            [
             0.6,
             "#e6f5d0"
            ],
            [
             0.7,
             "#b8e186"
            ],
            [
             0.8,
             "#7fbc41"
            ],
            [
             0.9,
             "#4d9221"
            ],
            [
             1,
             "#276419"
            ]
           ],
           "sequential": [
            [
             0,
             "#0d0887"
            ],
            [
             0.1111111111111111,
             "#46039f"
            ],
            [
             0.2222222222222222,
             "#7201a8"
            ],
            [
             0.3333333333333333,
             "#9c179e"
            ],
            [
             0.4444444444444444,
             "#bd3786"
            ],
            [
             0.5555555555555556,
             "#d8576b"
            ],
            [
             0.6666666666666666,
             "#ed7953"
            ],
            [
             0.7777777777777778,
             "#fb9f3a"
            ],
            [
             0.8888888888888888,
             "#fdca26"
            ],
            [
             1,
             "#f0f921"
            ]
           ],
           "sequentialminus": [
            [
             0,
             "#0d0887"
            ],
            [
             0.1111111111111111,
             "#46039f"
            ],
            [
             0.2222222222222222,
             "#7201a8"
            ],
            [
             0.3333333333333333,
             "#9c179e"
            ],
            [
             0.4444444444444444,
             "#bd3786"
            ],
            [
             0.5555555555555556,
             "#d8576b"
            ],
            [
             0.6666666666666666,
             "#ed7953"
            ],
            [
             0.7777777777777778,
             "#fb9f3a"
            ],
            [
             0.8888888888888888,
             "#fdca26"
            ],
            [
             1,
             "#f0f921"
            ]
           ]
          },
          "colorway": [
           "#636efa",
           "#EF553B",
           "#00cc96",
           "#ab63fa",
           "#FFA15A",
           "#19d3f3",
           "#FF6692",
           "#B6E880",
           "#FF97FF",
           "#FECB52"
          ],
          "font": {
           "color": "#2a3f5f"
          },
          "geo": {
           "bgcolor": "white",
           "lakecolor": "white",
           "landcolor": "#E5ECF6",
           "showlakes": true,
           "showland": true,
           "subunitcolor": "white"
          },
          "hoverlabel": {
           "align": "left"
          },
          "hovermode": "closest",
          "mapbox": {
           "style": "light"
          },
          "paper_bgcolor": "white",
          "plot_bgcolor": "#E5ECF6",
          "polar": {
           "angularaxis": {
            "gridcolor": "white",
            "linecolor": "white",
            "ticks": ""
           },
           "bgcolor": "#E5ECF6",
           "radialaxis": {
            "gridcolor": "white",
            "linecolor": "white",
            "ticks": ""
           }
          },
          "scene": {
           "xaxis": {
            "backgroundcolor": "#E5ECF6",
            "gridcolor": "white",
            "gridwidth": 2,
            "linecolor": "white",
            "showbackground": true,
            "ticks": "",
            "zerolinecolor": "white"
           },
           "yaxis": {
            "backgroundcolor": "#E5ECF6",
            "gridcolor": "white",
            "gridwidth": 2,
            "linecolor": "white",
            "showbackground": true,
            "ticks": "",
            "zerolinecolor": "white"
           },
           "zaxis": {
            "backgroundcolor": "#E5ECF6",
            "gridcolor": "white",
            "gridwidth": 2,
            "linecolor": "white",
            "showbackground": true,
            "ticks": "",
            "zerolinecolor": "white"
           }
          },
          "shapedefaults": {
           "line": {
            "color": "#2a3f5f"
           }
          },
          "ternary": {
           "aaxis": {
            "gridcolor": "white",
            "linecolor": "white",
            "ticks": ""
           },
           "baxis": {
            "gridcolor": "white",
            "linecolor": "white",
            "ticks": ""
           },
           "bgcolor": "#E5ECF6",
           "caxis": {
            "gridcolor": "white",
            "linecolor": "white",
            "ticks": ""
           }
          },
          "title": {
           "x": 0.05
          },
          "xaxis": {
           "automargin": true,
           "gridcolor": "white",
           "linecolor": "white",
           "ticks": "",
           "title": {
            "standoff": 15
           },
           "zerolinecolor": "white",
           "zerolinewidth": 2
          },
          "yaxis": {
           "automargin": true,
           "gridcolor": "white",
           "linecolor": "white",
           "ticks": "",
           "title": {
            "standoff": 15
           },
           "zerolinecolor": "white",
           "zerolinewidth": 2
          }
         }
        },
        "title": {
         "text": "Sales Comparison by Product Category"
        },
        "xaxis": {
         "title": {
          "text": "Product Category"
         }
        },
        "yaxis": {
         "title": {
          "text": "Sales"
         }
        }
       }
      }
     },
     "metadata": {},
     "output_type": "display_data"
    }
   ],
   "source": [
    "\n",
    "\n",
    "trace1 = go.Bar(\n",
    "    x=region_sales_by_cat.index,\n",
    "    y=region_sales_by_cat['mean'],\n",
    "    name='Average sales',\n",
    "    #marker=dict(color='green')\n",
    "\n",
    "\n",
    "\n",
    ")\n",
    "\n",
    "trace2 = go.Bar(\n",
    "    x=region_sales_by_cat.index,\n",
    "    y=region_sales_by_cat['max'],\n",
    "    name='Sales by category',\n",
    "    marker=dict(color='blue'))\n",
    "\n",
    "trace3 = go.Bar(\n",
    "    x=region_sales_by_cat.index,\n",
    "    y=region_sales_by_cat['min'],\n",
    "    name='Minimum sales',\n",
    "    #marker=dict(color='red')\n",
    ")\n",
    "\n",
    "\n",
    "\n",
    "\n",
    "# Combine the traces into a data list\n",
    "data = [trace1, trace2, trace3]\n",
    "\n",
    "# Set the layout\n",
    "layout = go.Layout(\n",
    "    barmode='group',\n",
    "    title='Sales Comparison by Product Category',\n",
    "    xaxis=dict(title='Product Category'),\n",
    "    yaxis=dict(title='Sales')\n",
    ")\n",
    "\n",
    "fig2 = go.Figure(data=data, layout=layout)\n",
    "fig2.show() \n",
    "\n"
   ]
  },
  {
   "attachments": {},
   "cell_type": "markdown",
   "id": "d5f02a40",
   "metadata": {},
   "source": [
    "After getting some useful insights on products, we will deeply analyze some of them. Those have respectively, 49340, 49341, 49333 and 49329 as productkeys. We will take into account parameters we have not used so far, such as seasonality (seasons as well as the respective holidays) and consumer price index (macroeconomic conditions for regions and locations) among others."
   ]
  },
  {
   "cell_type": "code",
   "execution_count": null,
   "id": "091eca84",
   "metadata": {},
   "outputs": [],
   "source": [
    "# integrating consumer price index\n",
    "\n",
    "cpi_monthly = CPIs\n",
    "cpi_monthly['Date_monthly'] = pd.to_datetime(cpi_monthly['Date_monthly'], format='%Y-%m')\n",
    "cpi_monthly = np.array(cpi_monthly['Date_monthly'])\n",
    "cpi_monthly = [str(i)[0:7] for i in cpi_monthly if str(i) != 'NaT']\n",
    "# print(cpi_monthly)\n",
    "cpi_2_merge = CPIs[['CPI_monthly ']].dropna()\n",
    "cpi_2_merge['Date_monthly'] = cpi_monthly\n",
    "# print(cpi_2_merge)\n",
    "\n",
    "monthly_data_mean = total_products.groupby(pd.Grouper(key='TransactionDate', axis=0, freq='M'))[param].mean()\n",
    "monthly_data_mean = monthly_data_mean.reset_index().dropna()\n",
    "# print(monthly_data_mean)\n",
    "monthly_dates = np.array(monthly_data_mean['TransactionDate'])\n",
    "monthly_data_mean = monthly_data_mean.drop(monthly_data_mean.columns[0], axis = 1)\n",
    "# display(monthly_data_mean)\n",
    "monthly_sales = [str(i)[0:7] for i in monthly_dates]\n",
    "monthly_data_mean['Date_monthly'] = monthly_sales\n",
    "# # print(sales_2_merge)\n",
    "\n",
    "cpi_monthly_sales = pd.merge(cpi_2_merge, monthly_data_mean, on = 'Date_monthly')\n",
    "# display(cpi_monthly_sales)"
   ]
  },
  {
   "cell_type": "code",
   "execution_count": null,
   "id": "8afbb247",
   "metadata": {},
   "outputs": [],
   "source": [
    "# Defining a function to map the month to the season\n",
    "def get_season(month : int):\n",
    "    if month in [12, 1, 2]:\n",
    "        return 'Winter'\n",
    "    elif month in [3, 4, 5]:\n",
    "        return 'Spring'\n",
    "    elif month in [6, 7, 8]:\n",
    "        return 'Summer'\n",
    "    else:\n",
    "        return 'Fall'"
   ]
  },
  {
   "cell_type": "code",
   "execution_count": null,
   "id": "45a565f8",
   "metadata": {},
   "outputs": [],
   "source": [
    "# Creating a dictionary to map holidays to their corresponding dates\n",
    "holidays = {\n",
    "    1 : \"Chinese New Year's Day\",\n",
    "    2 : \"Federal Territory Day\",\n",
    "    3 : 'No Holidays',\n",
    "    4 : \"Hari Raya Puasa (End of Ramadan)\",\n",
    "    5 : [\"Labor Day\", \"Wesak Day\"],\n",
    "    6 : 'No Holidays',\n",
    "    7 : \"Hari Raya Qurban (Feast of Sacrifice)\",\n",
    "    8 : \"National Day\",\n",
    "    9 : \"Malaysia Day\",\n",
    "    10 : \"Deepavali\",\n",
    "    11 : 'No Holidays',\n",
    "    12 : [\"Christmas Day\",\"New Year's Eve\"]\n",
    "}"
   ]
  },
  {
   "cell_type": "code",
   "execution_count": null,
   "id": "5159d50d",
   "metadata": {},
   "outputs": [],
   "source": [
    "# Add the 'season' column to the DataFrame\n",
    "cpi_monthly_sales['season'] = cpi_monthly_sales['Date_monthly'].apply(lambda x: get_season(int(x[5:7])))\n",
    "\n",
    "# Add the holiday column to the DataFrame\n",
    "holiday_mapper = lambda x: holidays[int(x[5:7])] if isinstance(holidays[int(x[5:7])], str) else ', '.join(holidays[int(x[5:7])])\n",
    "\n",
    "cpi_monthly_sales['holiday'] = cpi_monthly_sales['Date_monthly'].map(holiday_mapper)\n",
    "\n",
    "\n",
    "# display(cpi_monthly_sales)"
   ]
  },
  {
   "attachments": {},
   "cell_type": "markdown",
   "id": "5aa4afbd",
   "metadata": {},
   "source": [
    "As we have integrated other interesting features, we are now ready to discover some implications of them. First, we will see how CPI has evolved over time, giving emphasis to each separate season."
   ]
  },
  {
   "cell_type": "code",
   "execution_count": null,
   "id": "ee8f8433",
   "metadata": {},
   "outputs": [
    {
     "data": {
      "image/png": "[encoded data removed]",
      "text/plain": [
       "<Figure size 720x432 with 1 Axes>"
      ]
     },
     "metadata": {},
     "output_type": "display_data"
    }
   ],
   "source": [
    "# Create a figure and axis object\n",
    "fig, ax = plt.subplots(figsize=(10, 6))\n",
    "\n",
    "# Plot the data\n",
    "ax.plot(cpi_monthly_sales['Date_monthly'], cpi_monthly_sales['CPI_monthly '], color='blue')\n",
    "\n",
    "# Shade the winter season\n",
    "ax.axvspan('2020-01', '2020-02', alpha=0.2, color='gray', label='Winter')\n",
    "ax.axvspan('2020-12', '2021-02', alpha=0.2, color='gray')\n",
    "ax.axvspan('2021-12', '2022-02', alpha=0.2, color='gray')\n",
    "\n",
    "# Shade the spring season\n",
    "ax.axvspan('2020-03', '2020-05', alpha=0.2, color='green', label='Spring')\n",
    "ax.axvspan('2021-03', '2021-05', alpha=0.2, color='green')\n",
    "ax.axvspan('2022-03', '2022-05', alpha=0.2, color='green')\n",
    "\n",
    "# Shade the summer season\n",
    "ax.axvspan('2020-06', '2020-08', alpha=0.2, color='yellow', label='Summer')\n",
    "ax.axvspan('2021-06', '2021-08', alpha=0.2, color='yellow')\n",
    "ax.axvspan('2022-06', '2022-08', alpha=0.2, color='yellow')\n",
    "\n",
    "# Shade the fall season\n",
    "ax.axvspan('2020-09', '2020-11', alpha=0.2, color='orange', label='Fall')\n",
    "ax.axvspan('2021-09', '2021-11', alpha=0.2, color='orange')\n",
    "ax.axvspan('2022-09', '2022-11', alpha=0.2, color='orange')\n",
    "\n",
    "# Add labels and legend\n",
    "ax.set_xlabel('Month')\n",
    "plt.xticks(rotation=90)\n",
    "ax.set_ylabel('CPI')\n",
    "ax.set_title('CPI over time with seasonal shading')\n",
    "ax.legend()\n",
    "plt.show()\n",
    "# This code creates a line chart of CPI over time, and adds shaded regions for each season. The result should look like this:\n",
    "\n",
    "# line_chart_shaded_regions\n",
    "\n",
    "# Heatmap calendar\n",
    "# A heatmap calendar is a great way to visualize trends over time on a daily basis. Here's an example of how to create this chart\n",
    "\n"
   ]
  },
  {
   "attachments": {},
   "cell_type": "markdown",
   "id": "19735b13",
   "metadata": {},
   "source": [
    "A good way to see the effects of CPI on sales is to create a boxplot that will summarize it."
   ]
  },
  {
   "cell_type": "code",
   "execution_count": null,
   "id": "df4f0fe6",
   "metadata": {},
   "outputs": [
    {
     "data": {
      "image/png": "[encoded data removed]",
      "text/plain": [
       "<Figure size 432x288 with 1 Axes>"
      ]
     },
     "metadata": {},
     "output_type": "display_data"
    }
   ],
   "source": [
    "sns.boxplot(x='season', y='ActualSales', data=cpi_monthly_sales)\n",
    "plt.title('Seasonal Effects on Sales')\n",
    "plt.show()"
   ]
  },
  {
   "cell_type": "markdown",
   "id": "31f93596",
   "metadata": {},
   "source": []
  },
  {
   "cell_type": "code",
   "execution_count": null,
   "id": "a94c308f",
   "metadata": {},
   "outputs": [
    {
     "name": "stderr",
     "output_type": "stream",
     "text": [
      "C:\\Users\\39339\\AppData\\Local\\Temp\\ipykernel_15868\\1099709037.py:5: SettingWithCopyWarning:\n",
      "\n",
      "\n",
      "A value is trying to be set on a copy of a slice from a DataFrame.\n",
      "Try using .loc[row_indexer,col_indexer] = value instead\n",
      "\n",
      "See the caveats in the documentation: https://pandas.pydata.org/pandas-docs/stable/user_guide/indexing.html#returning-a-view-versus-a-copy\n",
      "\n",
      "C:\\Users\\39339\\AppData\\Local\\Temp\\ipykernel_15868\\1099709037.py:8: SettingWithCopyWarning:\n",
      "\n",
      "\n",
      "A value is trying to be set on a copy of a slice from a DataFrame.\n",
      "Try using .loc[row_indexer,col_indexer] = value instead\n",
      "\n",
      "See the caveats in the documentation: https://pandas.pydata.org/pandas-docs/stable/user_guide/indexing.html#returning-a-view-versus-a-copy\n",
      "\n"
     ]
    },
    {
     "data": {
      "image/png": "[encoded data removed]",
      "text/plain": [
       "<Figure size 576x432 with 1 Axes>"
      ]
     },
     "metadata": {},
     "output_type": "display_data"
    }
   ],
   "source": [
    "product_keys = [49340, 49341, 49333, 49329]\n",
    "data_products = total_products[total_products['ProductKey'].isin(product_keys)]\n",
    "\n",
    "absolute_discounts = data_products['SalesDiscount'].abs().copy()\n",
    "data_products.loc[:, 'SalesDiscount'] = absolute_discounts\n",
    "\n",
    "# Group the data by product key and aggregate the sales, discount, and retail price columns\n",
    "data_products['SalesDiscount'] = abs(data_products['SalesDiscount'])\n",
    "\n",
    "df_grouped = data_products.groupby(['ProductKey']).agg({'ActualSales': 'mean', 'SalesDiscount': 'mean', 'RetailFullPrice': 'mean'})\n",
    "\n",
    "# Create the bar chart\n",
    "fig, ax = plt.subplots(figsize=(8, 6))\n",
    "\n",
    "df_grouped.plot(kind='bar', ax=ax)\n",
    "\n",
    "ax.set_xlabel('Product Key')\n",
    "ax.set_ylabel('Amount ($)')\n",
    "ax.set_title('Sales, Discount, and Retail Price by Product Key')\n",
    "\n",
    "plt.show()"
   ]
  },
  {
   "attachments": {},
   "cell_type": "markdown",
   "id": "b1bf17df",
   "metadata": {},
   "source": [
    "...."
   ]
  },
  {
   "cell_type": "code",
   "execution_count": null,
   "id": "a3b2231e",
   "metadata": {},
   "outputs": [
    {
     "data": {
      "image/png": "[encoded data removed]",
      "text/plain": [
       "<Figure size 576x432 with 1 Axes>"
      ]
     },
     "metadata": {},
     "output_type": "display_data"
    }
   ],
   "source": [
    "df_grouped = data_products.groupby(['ProductKey']).agg({'ActualSales': 'sum', 'SalesDiscount': 'mean', 'RetailFullPrice': 'mean'})\n",
    "df_norm = (df_grouped - df_grouped.min()) / (df_grouped.max() - df_grouped.min())\n",
    "# print(df_norm)\n",
    "\n",
    "\n",
    "categories = ['Sales', 'Discount', '      Retail Price']\n",
    "N = len(categories)\n",
    "categories.insert(0, '')\n",
    "\n",
    "\n",
    "angles = np.linspace(0, 2*np.pi, N, endpoint=False)\n",
    "angles = np.concatenate((angles, [angles[0]]))\n",
    "\n",
    "fig = plt.figure(figsize=(8, 6))\n",
    "ax = fig.add_subplot(111, polar=True)\n",
    "\n",
    "# Define the colors to use\n",
    "colors = ['orange', 'purple', 'green', 'yellow', '']\n",
    "\n",
    "# Loop over each row of the normalized dataframe and plot a polygon\n",
    "for i in range(len(df_norm)):\n",
    "    values = df_norm.iloc[i].values.flatten().tolist()\n",
    "    values += values[:1]\n",
    "    ax.plot(angles, values, linewidth=2, label=df_norm.index[i], color=colors[i % len(colors)])\n",
    "    ax.fill(angles, values, alpha=0.1, color=colors[i % len(colors)])\n",
    "    \n",
    "ax.fill(angles, [1]*(N + 1), alpha=0.1)\n",
    "ax.set_thetagrids(angles * 180/np.pi, categories)\n",
    "ax.set_title('Sales, Discount, and Retail Price by Product Key', y=1.08)\n",
    "ax.legend(loc='best', bbox_to_anchor=(0.1, 0.1))\n",
    "\n",
    "plt.show()\n"
   ]
  },
  {
   "attachments": {},
   "cell_type": "markdown",
   "id": "2cb716b5",
   "metadata": {},
   "source": [
    "...."
   ]
  },
  {
   "cell_type": "code",
   "execution_count": null,
   "id": "f9a0babc",
   "metadata": {},
   "outputs": [],
   "source": [
    "# drop unnecessary columns\n",
    "total_products_4inf = total_products[['TransactionDate', 'DayOfWeek', 'WeekendFlag', 'SalesDiscount', 'DistributionChannel']]\n",
    "\n",
    "# one-hot encode categorical variables\n",
    "df_encoded = pd.get_dummies(total_products_4inf, columns=['DayOfWeek', 'WeekendFlag', 'DistributionChannel'])\n",
    "\n",
    "# rename columns to remove spaces and slashes\n",
    "df_encoded.columns = df_encoded.columns.str.replace(' ', '').str.replace('/', '')\n",
    "\n",
    "df_encoded = df_encoded.sort_values(by='TransactionDate')\n",
    "df_encoded = df_encoded.drop(df_encoded.columns[0], axis = 1)\n",
    "# display(df_encoded)"
   ]
  },
  {
   "cell_type": "code",
   "execution_count": null,
   "id": "56d62429",
   "metadata": {},
   "outputs": [
    {
     "ename": "SyntaxError",
     "evalue": "incomplete input (2523214008.py, line 18)",
     "output_type": "error",
     "traceback": [
      "\u001b[1;36m  Input \u001b[1;32mIn [66]\u001b[1;36m\u001b[0m\n",
      "\u001b[1;33m    figsize=(10, 8),\u001b[0m\n",
      "\u001b[1;37m                    ^\u001b[0m\n",
      "\u001b[1;31mSyntaxError\u001b[0m\u001b[1;31m:\u001b[0m incomplete input\n"
     ]
    }
   ],
   "source": [
    "import tigramite\n",
    "from tigramite.independence_tests import ParCorr\n",
    "from tigramite.pcmci import PCMCI\n",
    "\n",
    "# create PCMCI object\n",
    "pcmci = PCMCI(df_encoded, cond_ind_test=ParCorr())\n",
    "\n",
    "# run PCMCI algorithm to obtain causal graph\n",
    "results = pcmci.run_pcmci(tau_max=1, pc_alpha=0.01)\n",
    "\n",
    "# plot the causal graph\n",
    "tigramite.plotting.plot_graph(\n",
    "    val_matrix=results['val_matrix'],\n",
    "    link_matrix=results['val_matrix'] != 0,\n",
    "    var_names=df_encoded.columns,\n",
    "    link_colorbar_label='cross-MCI (absolute)',\n",
    "    node_colorbar_label='autoreg. MCI (absolute)',\n",
    "    figsize=(10, 8),"
   ]
  }
 ],
 "metadata": {
  "kernelspec": {
   "display_name": "Python 3",
   "language": "python",
   "name": "python3"
  },
  "language_info": {
   "codemirror_mode": {
    "name": "ipython",
    "version": 3
   },
   "file_extension": ".py",
   "mimetype": "text/x-python",
   "name": "python",
   "nbconvert_exporter": "python",
   "pygments_lexer": "ipython3",
   "version": "3.10.10"
  },
  "vscode": {
   "interpreter": {
    "hash": "0e854d477006c48aaaffd64b6189b1d91e42efeaaf6c3abb6f33028917d6d96f"
   }
  }
 },
 "nbformat": 4,
 "nbformat_minor": 5
}
